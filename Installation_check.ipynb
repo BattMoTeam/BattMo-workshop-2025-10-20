{
 "cells": [
  {
   "cell_type": "markdown",
   "id": "89b127ca",
   "metadata": {},
   "source": [
    "# Pre-Tutorial: Setting Up Julia and VSCode for the Workshop"
   ]
  },
  {
   "cell_type": "markdown",
   "id": "dbfb3aac",
   "metadata": {},
   "source": [
    "In this pre-tutorial, we'll make sure that Julia is correctly installed in VSCode, install the some packages, and configure your environment so you're fully prepared for the BattMo Workshop."
   ]
  },
  {
   "cell_type": "markdown",
   "id": "c3e4f399",
   "metadata": {},
   "source": [
    "> **Before you begin:** Please ensure you have already followed the **Julia and VSCode setup guide**. This tutorial assumes that both are properly installed on your system."
   ]
  },
  {
   "cell_type": "markdown",
   "id": "e7b51ddb",
   "metadata": {},
   "source": [
    "### Step 1 – Check Your Julia Installation in VSCode"
   ]
  },
  {
   "cell_type": "markdown",
   "id": "0c6bf3de",
   "metadata": {},
   "source": [
    "In the top-right corner of the notebook, check whether you see a button showing Julia release channel. If not:\n",
    "\n",
    "1. Click on **Select Kernel** or **Julia <version>**.\n",
    "\n",
    "2. Choose **Julia release channel**.\n",
    "\n",
    "To confirm that everything is working correctly, run the following code cell by clicking the play icon to the left of the cell."
   ]
  },
  {
   "cell_type": "markdown",
   "id": "fc2663fb",
   "metadata": {},
   "source": [
    "> **If Julia crashed:** restart VSCode. Then, before trying to run the notebook again, try this first:\n",
    "- Open the Julia REPL from VS Code: Run the `Shift + Ctrl + P` command and select \"Julia: Start REPL\".\n",
    "- Run in the Julia REPL the following: \n",
    "```\n",
    "using Pkg: Pkg\n",
    "Pkg.activate(\"./\")\n",
    "Pkg.add(\"Jutul\")\n",
    "```\n",
    "This might make it easier for Julia release channel to detect the environment you're working in.\n",
    "- Then try running the notebook again"
   ]
  },
  {
   "cell_type": "code",
   "execution_count": null,
   "id": "99a27d8a",
   "metadata": {},
   "outputs": [],
   "source": [
    "using DataFrames"
   ]
  },
  {
   "cell_type": "markdown",
   "id": "5100f8c6",
   "metadata": {},
   "source": [
    "After completing the installation guide, you should already have a Julia environment set up in your current working folder. Julia release channel automatically activates the environment that it finds in you current workinng directory so you don't need to activate it manually."
   ]
  },
  {
   "cell_type": "markdown",
   "id": "d1a8f774",
   "metadata": {},
   "source": [
    "### Step 3 – Install Required Packages"
   ]
  },
  {
   "cell_type": "markdown",
   "id": "13236e1a",
   "metadata": {},
   "source": [
    "Now let's install some essential packages for this workshop. This process may take a couple of minutes, so feel free to grab a coffee while it completes."
   ]
  },
  {
   "cell_type": "code",
   "execution_count": null,
   "id": "f3e48984",
   "metadata": {},
   "outputs": [],
   "source": [
    "using Pkg:Pkg\n",
    "Pkg.add(\"BattMo\")     \n",
    "Pkg.add(\"GLMakie\")      # For plotting\n",
    "Pkg.add(\"Jutul\")        # A multiphysics simulation framework for reservoir modeling and scientific computing\n",
    "Pkg.add(\"CSV\")          # For reading and writing CSV files\n",
    "Pkg.add(\"DataFrames\")   # Provides tabular data structures and data manipulation tools, similar to pandas\n",
    "Pkg.precompile()"
   ]
  },
  {
   "cell_type": "markdown",
   "id": "d06a3fc3",
   "metadata": {},
   "source": [
    "### ✅ Bonus: Quick Test of Installed Packages"
   ]
  },
  {
   "cell_type": "markdown",
   "id": "e927955c",
   "metadata": {},
   "source": [
    "Let’s make sure some of the packages are working with a fun little demo!\n",
    "\n",
    "This script:\n",
    "\n",
    "1. Creates a simple DataFrame with some random data.\n",
    "\n",
    "2. Saves it to a CSV file.\n",
    "\n",
    "3. Reads it back from the file.\n",
    "\n",
    "4. Plots it using `GLMakie`."
   ]
  },
  {
   "cell_type": "code",
   "execution_count": null,
   "id": "a6c15d54",
   "metadata": {},
   "outputs": [],
   "source": [
    "using DataFrames, CSV, GLMakie\n",
    "GLMakie.activate!(inline = false)\n",
    "\n",
    "# Step 1: Create a small dataset\n",
    "data = DataFrame(x = 1:10, y = 3.5.*collect(1:10) + 7.0.*rand(10))\n",
    "\n",
    "# Step 2: Save to CSV\n",
    "CSV.write(\"data/my_data.csv\", data)\n",
    "\n",
    "# Step 3: Read it back\n",
    "data_loaded = CSV.read(\"my_data.csv\", DataFrame)\n",
    "\n",
    "# Step 4: Plot it\n",
    "\n",
    "f = Figure()\n",
    "Axis(f[1, 1])\n",
    "scatter!(data_loaded.x, data_loaded.y, markersize=15, color=:dodgerblue)\n",
    "f"
   ]
  },
  {
   "cell_type": "markdown",
   "id": "eed81526",
   "metadata": {},
   "source": [
    "You should see a scatter plot with noisy data points in a separate window. If this works, it confirms that the core packages are installed and functioning correctly. "
   ]
  },
  {
   "cell_type": "markdown",
   "id": "5bb1b563",
   "metadata": {},
   "source": [
    "> ## Congratulations: Now you're all set up for the BattMo Workshop!!"
   ]
  }
 ],
 "metadata": {
  "kernelspec": {
   "display_name": "Julia 1.12.0",
   "language": "julia",
   "name": "julia-1.12"
  },
  "language_info": {
   "file_extension": ".jl",
   "mimetype": "application/julia",
   "name": "julia",
   "version": "1.12.0"
  }
 },
 "nbformat": 4,
 "nbformat_minor": 5
}
