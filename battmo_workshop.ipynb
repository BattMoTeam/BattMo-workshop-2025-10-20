{
 "cells": [
  {
   "cell_type": "markdown",
   "id": "e28bac60",
   "metadata": {},
   "source": [
    "# BattMo Workshop"
   ]
  },
  {
   "cell_type": "markdown",
   "id": "53d86a34",
   "metadata": {},
   "source": [
    "The workshop consists of the following parts:\n",
    "- **Hello BattMo**: explore the basic features of BattMo.jl\n",
    "- **Normal workflows**: a bit more advanced use in common workflows\n",
    "- **Calibration**: calibrate a parameter set to experimental data\n",
    "- **P4D simulation**: simulate a 3D cylinfrical cell"
   ]
  },
  {
   "cell_type": "markdown",
   "id": "d3f5b34d",
   "metadata": {},
   "source": [
    "Let's import BattMo and some other packages into the kernel."
   ]
  },
  {
   "cell_type": "code",
   "execution_count": null,
   "id": "5260464d",
   "metadata": {},
   "outputs": [],
   "source": [
    "using BattMo, GLMakie, Jutul, CSV, DataFrames"
   ]
  },
  {
   "cell_type": "markdown",
   "id": "825fb675",
   "metadata": {},
   "source": [
    "## Part 1 - Hello BattMo"
   ]
  },
  {
   "cell_type": "markdown",
   "id": "1167b92d",
   "metadata": {},
   "source": [
    "Welcome to this hands-on tutorial where we’ll explore the basics of BattMo.jl — a powerful Julia package for simulating lithium-ion battery cells using physics-based models like the Doyle-Fuller-Newman (DFN) model. \n",
    "\n",
    "By the end of this tutorial, you’ll:\n",
    "\n",
    "- Understand some basic features of BattMo.jl\n",
    "- Run your first battery simulation\n",
    "- Explore and visualize the output\n",
    "- Learn how to tweak key parameters for custom behavior\n",
    "\n",
    "\n"
   ]
  },
  {
   "cell_type": "markdown",
   "id": "b3982e5f",
   "metadata": {},
   "source": [
    "### 1.a - Input ([docs](https://battmoteam.github.io/BattMo.jl/dev/manuals/user_guide/terminology))"
   ]
  },
  {
   "cell_type": "markdown",
   "id": "698bbc09",
   "metadata": {},
   "source": [
    "BattMo.jl structures its simulation inputs into two primary categories: Parameters and Settings. This distinction helps users differentiate between the physical characteristics of the battery system and the numerical configurations of the simulation."
   ]
  },
  {
   "cell_type": "markdown",
   "id": "7841600a",
   "metadata": {},
   "source": [
    "**Parameters** represent the controllable variables in real-world experiments. They are further divided into:\n",
    "\n",
    "- **Cell Parameters**: define the intrinsic properties of the battery cell, such as geometry and material characteristics.\n",
    "- **Cycling Protocol Parameters**: specify how the cell is operated during a simulation.\n",
    "\n",
    "**Settings** are used to configure numerical assumptions for solving equations and finding numerical solutions. They are further divided into:\n",
    "\n",
    "- **Model Settings**: define numerical assumptions related to the battery model, such as diffusion methods or simplifications used in the simulation.\n",
    "- **Simulation Settings**: define numerical assumptions specific to the simulation process, including time-stepping schemes and discretization precision.\n",
    "- **Solver Settings**: define solver behavior and verbosity."
   ]
  },
  {
   "cell_type": "markdown",
   "id": "5124d247",
   "metadata": {},
   "source": [
    "**BattMo** stores cell parameters, cycling protocols and settings in a user-friendly JSON format to facilitate reuse. We can load the parameters directly from the default sets which can be very convenient for a quick parameter loading to test a simulation setup. In order to quickly see which default sets BattMo provides we can use the following function to print information about the sets available."
   ]
  },
  {
   "cell_type": "code",
   "execution_count": null,
   "id": "5e1380af",
   "metadata": {},
   "outputs": [],
   "source": [
    "print_default_input_sets()"
   ]
  },
  {
   "cell_type": "markdown",
   "id": "4a451437",
   "metadata": {},
   "source": [
    "For our example, we load the cell parameter set from a NMC811 vs Graphite-SiOx cell whose parameters were determined in the [Chen 2020 paper](https://doi.org/10.1149/1945-7111/ab9050). We also load an example cycling protocol for a simple Constant Current Discharge. We can load them directly from the build in sets."
   ]
  },
  {
   "cell_type": "code",
   "execution_count": null,
   "id": "a7539746",
   "metadata": {},
   "outputs": [],
   "source": [
    "cell_parameters = load_cell_parameters(; from_default_set = \"chen_2020\");\n",
    "cycling_protocol = load_cycling_protocol(; from_default_set = \"cc_discharge\");"
   ]
  },
  {
   "cell_type": "markdown",
   "id": "0be632cb",
   "metadata": {},
   "source": [
    "This a quick way of testing a setup, but for the purpose of this workshop we would like to be able to see what a parameter set contains. Therefore, we'll retrieve the default parameter sets that BattMo provides and store them locally in a folder. We can do this by running the following script."
   ]
  },
  {
   "cell_type": "code",
   "execution_count": null,
   "id": "a62b9b33",
   "metadata": {},
   "outputs": [],
   "source": [
    "path = \".\"\n",
    "folder_name = \"default_sets\"\n",
    "generate_default_parameter_files(path, folder_name; force = true)"
   ]
  },
  {
   "cell_type": "markdown",
   "id": "edcec7bd",
   "metadata": {},
   "source": [
    "As we stored the default sets in our own folder, we can alter the default files if we want to and load the parameters from our dedicated folder."
   ]
  },
  {
   "cell_type": "code",
   "execution_count": null,
   "id": "4d2c908e",
   "metadata": {},
   "outputs": [],
   "source": [
    "cell_parameters = load_cell_parameters(; from_file_path = \"default_sets/cell_parameters/chen_2020.json\");\n",
    "cycling_protocol = load_cycling_protocol(; from_file_path = \"default_sets/cycling_protocols/cc_discharge.json\");"
   ]
  },
  {
   "cell_type": "markdown",
   "id": "8d1a97ed",
   "metadata": {},
   "source": [
    "To change cell parameters, we can modify the JSON files directly, or we can read them into objects in the script and modify them as Dictionaries. A loaded cell parameter set is a Dictionary-like object which come with additional handy functions. First, lets list the outermost keys of the cell parameters object."
   ]
  },
  {
   "cell_type": "code",
   "execution_count": null,
   "id": "d8049c2b",
   "metadata": {},
   "outputs": [],
   "source": [
    "cell_parameters = load_cell_parameters(; from_file_path = \"default_sets/cell_parameters/chen_2020.json\")\n",
    "keys(cell_parameters)"
   ]
  },
  {
   "cell_type": "markdown",
   "id": "4e09925d",
   "metadata": {},
   "source": [
    "Now we access the Separator key."
   ]
  },
  {
   "cell_type": "code",
   "execution_count": null,
   "id": "d93a035d",
   "metadata": {},
   "outputs": [],
   "source": [
    "cell_parameters[\"Separator\"]"
   ]
  },
  {
   "cell_type": "markdown",
   "id": "56f12370",
   "metadata": {},
   "source": [
    "We have a flat list of parameters and values for the separator. In other cases, a key might nest other dictionaries, which can be accessed using the normal dictionary notation. Lets for instance see the active material parameters of the negative electrode."
   ]
  },
  {
   "cell_type": "code",
   "execution_count": null,
   "id": "784d692d",
   "metadata": {},
   "outputs": [],
   "source": [
    "cell_parameters[\"NegativeElectrode\"][\"ActiveMaterial\"]"
   ]
  },
  {
   "cell_type": "markdown",
   "id": "cc8072e4",
   "metadata": {},
   "source": [
    "There are many parameters, nested into dictionaries. Often, we are more interested in a specific subset of parameters. We can find a parameter with the search_parameter function. For example, we'd like to now how area related parameters are named:"
   ]
  },
  {
   "cell_type": "code",
   "execution_count": null,
   "id": "182d5b0c",
   "metadata": {},
   "outputs": [],
   "source": [
    "search_parameter(cell_parameters, \"area\")"
   ]
  },
  {
   "cell_type": "markdown",
   "id": "63849b79",
   "metadata": {},
   "source": [
    "Another way to view our parameters is by printing info about the parameter set."
   ]
  },
  {
   "cell_type": "code",
   "execution_count": null,
   "id": "0edb0fd5",
   "metadata": {},
   "outputs": [],
   "source": [
    "print_info(cell_parameters)"
   ]
  },
  {
   "cell_type": "markdown",
   "id": "b654df71",
   "metadata": {},
   "source": [
    "Parameters that take single numerical values (e.g. real, integers, booleans) can be directly modified."
   ]
  },
  {
   "cell_type": "code",
   "execution_count": null,
   "id": "e5c15d85",
   "metadata": {},
   "outputs": [],
   "source": [
    "cell_parameters[\"PositiveElectrode\"][\"Coating\"][\"Thickness\"] = 8.2e-5"
   ]
  },
  {
   "cell_type": "markdown",
   "id": "32ba93bc",
   "metadata": {},
   "source": [
    "Some parameters are described as functions or arrays, since the parameter value depends on other variables. For instance the Open Circuit Potentials of the Active Materials depend on the lithium stoichiometry and temperature. When we're unsure about the type or meaning of a parameter, we can print information on invidual parameters as well. For some parameters, that require more explanation, a link to the documentation is provided. Visit the documentation of the OpenCircuitPotential parameter to find more information on how to implement you own user defined functional parameters."
   ]
  },
  {
   "cell_type": "code",
   "execution_count": null,
   "id": "7279caff",
   "metadata": {},
   "outputs": [],
   "source": [
    "parameter_name = \"OpenCircuitPotential\"\n",
    "\n",
    "print_info(parameter_name, view = \"CellParameters\")"
   ]
  },
  {
   "cell_type": "markdown",
   "id": "bb514c4a",
   "metadata": {},
   "source": [
    "The cycling protocol parameters and the settings (model settings, simulation settings, solver settings) can be loaded, viewed and altered in the same way as the cell parameters. Let's load a default CCCV cycling protocol. The settings we'll go into later."
   ]
  },
  {
   "cell_type": "code",
   "execution_count": null,
   "id": "fdb32839",
   "metadata": {},
   "outputs": [],
   "source": [
    "cycling_protocol = load_cycling_protocol(; from_file_path= \"default_sets/cycling_protocols/cccv.json\");\n",
    "print_info(cycling_protocol)"
   ]
  },
  {
   "cell_type": "markdown",
   "id": "1df14ca3",
   "metadata": {},
   "source": [
    "### 1.b - Run a simulation ([docs](https://battmoteam.github.io/BattMo.jl/dev/manuals/user_guide/public_api))"
   ]
  },
  {
   "cell_type": "markdown",
   "id": "af154176",
   "metadata": {},
   "source": [
    "In this part we'll show how you can run a simple P2D simulation. Let's start by loading the Chen 2020 cell parameter set and a constant current discharge cycling protocol."
   ]
  },
  {
   "cell_type": "code",
   "execution_count": null,
   "id": "cd3a4320",
   "metadata": {},
   "outputs": [],
   "source": [
    "cell_parameters = load_cell_parameters(; from_default_set = \"chen_2020\");\n",
    "cycling_protocol = load_cycling_protocol(; from_default_set = \"cc_discharge\");"
   ]
  },
  {
   "cell_type": "markdown",
   "id": "275d1fec",
   "metadata": {},
   "source": [
    "Next, we select the default Lithium-Ion Battery model. A model can be thought as a mathematical implementation of the electrochemical and transport phenomena occuring in a real battery cell. The implementation consist of a system of partial differential equations and their corresponding parameters, constants and boundary conditions. The default Lithium-Ion Battery setup selected below contains the model settings to simulate a basic P2D model, where neither current collectors nor SEI growth are considered."
   ]
  },
  {
   "cell_type": "code",
   "execution_count": null,
   "id": "8535589f",
   "metadata": {},
   "outputs": [],
   "source": [
    "model = LithiumIonBattery();"
   ]
  },
  {
   "cell_type": "markdown",
   "id": "f280ed7d",
   "metadata": {},
   "source": [
    "The LithiumIonBattery constructor validates the model settings on the back ground. If the model setup is valid we can continue and create a Simulation object by passing the model setup, cell parameters and a cycling protocol."
   ]
  },
  {
   "cell_type": "code",
   "execution_count": null,
   "id": "6741aad1",
   "metadata": {},
   "outputs": [],
   "source": [
    "sim = Simulation(model, cell_parameters, cycling_protocol);"
   ]
  },
  {
   "cell_type": "markdown",
   "id": "6d47cb33",
   "metadata": {},
   "source": [
    "The simulation object is only instantiated when the model provided is valid. We can see that the Simulation object also validates the parameters and settings on the back ground. Each parameter set is validated on whether they are sensible and complete. "
   ]
  },
  {
   "cell_type": "markdown",
   "id": "29bced90",
   "metadata": {},
   "source": [
    "When the Simulation object is valid we can solve the simulation by passing the object to the solve function. As Julia is a compiled language, the first time that we run a simulation it will take some time to compile the functions and structs that it encounters. This makes running a second simulation very fast. See the difference by running the script for a second time."
   ]
  },
  {
   "cell_type": "code",
   "execution_count": null,
   "id": "4011a037",
   "metadata": {},
   "outputs": [],
   "source": [
    "output = solve(sim);"
   ]
  },
  {
   "cell_type": "markdown",
   "id": "fdfbcb94",
   "metadata": {},
   "source": [
    "We can use some built in functions for quick plotting. The dashboard gives you a quick overview of some important ouput variables. You can choose to have interactive line plots where you can change the time step using a slider or contour plots that show the position and time in one plot."
   ]
  },
  {
   "cell_type": "code",
   "execution_count": null,
   "id": "86d4430d",
   "metadata": {},
   "outputs": [],
   "source": [
    "plot_dashboard(output; plot_type=\"contour\")"
   ]
  },
  {
   "cell_type": "markdown",
   "id": "a8e43c50",
   "metadata": {},
   "source": [
    "As the line plot is an interactive plot and notebooks are not able to render interactive plots, we'll show it in a separate window. "
   ]
  },
  {
   "cell_type": "code",
   "execution_count": null,
   "id": "376ba74f",
   "metadata": {},
   "outputs": [],
   "source": [
    "plot_dashboard(output; plot_type=\"line\")"
   ]
  },
  {
   "cell_type": "markdown",
   "id": "7511f801",
   "metadata": {},
   "source": [
    "Close all plotting windows"
   ]
  },
  {
   "cell_type": "code",
   "execution_count": null,
   "id": "5ff7bb8e",
   "metadata": {},
   "outputs": [],
   "source": [
    "GLMakie.closeall()"
   ]
  },
  {
   "cell_type": "markdown",
   "id": "810d38f5",
   "metadata": {},
   "source": [
    "### 1.c - Output ([docs](https://battmoteam.github.io/BattMo.jl/dev/tutorials/3_handle_outputs))"
   ]
  },
  {
   "cell_type": "markdown",
   "id": "02b91214",
   "metadata": {},
   "source": [
    "In BattMo.jl the output variables are divided into three different categories:\n",
    "- **time series**: all variables that depent on time.\n",
    "- **states**: all the state variables, which can be dependent on time, axial position and radial position.\n",
    "- **metrics**: the calculated cell metrics, dependent on the cycle index."
   ]
  },
  {
   "cell_type": "markdown",
   "id": "eefd216c",
   "metadata": {},
   "source": [
    "In order to investigate how to retrieve output quantities, let's simulate a couple of constant current constant voltage cycles."
   ]
  },
  {
   "cell_type": "code",
   "execution_count": null,
   "id": "e941e02f",
   "metadata": {},
   "outputs": [],
   "source": [
    "cell_parameters = load_cell_parameters(; from_file_path = \"default_sets/cell_parameters/chen_2020.json\")\n",
    "cycling_protocol = load_cycling_protocol(; from_file_path = \"default_sets/cycling_protocols/cccv.json\")\n",
    "\n",
    "cycling_protocol[\"TotalNumberOfCycles\"] = 10\n",
    "\n",
    "model_setup = LithiumIonBattery()\n",
    "\n",
    "sim = Simulation(model_setup, cell_parameters, cycling_protocol);\n",
    "\n",
    "output = solve(sim);\n",
    "\n",
    "plot_dashboard(output, plot_type = \"simple\")"
   ]
  },
  {
   "cell_type": "markdown",
   "id": "1854116a",
   "metadata": {},
   "source": [
    "Let's use the output from the previous CCCV simulation. We can again use the print info function to have a look into which output variables are available."
   ]
  },
  {
   "cell_type": "code",
   "execution_count": null,
   "id": "b218a077",
   "metadata": {},
   "outputs": [],
   "source": [
    "print_info(output)"
   ]
  },
  {
   "cell_type": "markdown",
   "id": "292becd5",
   "metadata": {},
   "source": [
    "In the overview we can quickly see the aivalable variables and their units. We can also see that the variables have been devided into three categories like explained above: time series, states, and metrics. This has been done to provide some structure to the variables that is intuitive and cleans up the data. We also use these three categories when retrieving data. Let's first retrieve for example time series data like voltage, current and time."
   ]
  },
  {
   "cell_type": "code",
   "execution_count": null,
   "id": "47c499c8",
   "metadata": {},
   "outputs": [],
   "source": [
    "time_series = output.time_series\n",
    "\n",
    "t = time_series[\"Time\"]\n",
    "E = time_series[\"Voltage\"]\n",
    "I = time_series[\"Current\"];"
   ]
  },
  {
   "cell_type": "markdown",
   "id": "b6f959f5",
   "metadata": {},
   "source": [
    "Let's now retrieve some state variables"
   ]
  },
  {
   "cell_type": "code",
   "execution_count": null,
   "id": "f72c80e3",
   "metadata": {},
   "outputs": [],
   "source": [
    "states = output.states\n",
    "\n",
    "electrolyte_concentration = states[\"ElectrolyteConcentration\"]\n",
    "electrolyte_potential = states[\"ElectrolytePotential\"];"
   ]
  },
  {
   "cell_type": "markdown",
   "id": "0ae55720",
   "metadata": {},
   "source": [
    "We can also print more information on each individual variable. For example, to look into the difference between the electrode particle concentration and surface concentration."
   ]
  },
  {
   "cell_type": "code",
   "execution_count": null,
   "id": "9bcb9bb5",
   "metadata": {},
   "outputs": [],
   "source": [
    "print_info(\"NegativeElectrodeActiveMaterialParticleConcentration\")"
   ]
  },
  {
   "cell_type": "code",
   "execution_count": null,
   "id": "97771882",
   "metadata": {},
   "outputs": [],
   "source": [
    "print_info(\"NegativeElectrodeActiveMaterialSurfaceConcentration\")"
   ]
  },
  {
   "cell_type": "markdown",
   "id": "8bdc884f",
   "metadata": {},
   "source": [
    "We can have a better idea of what the variable represents by reading the description and checking the shape of the variable. We can also retrieve some metrics from the output."
   ]
  },
  {
   "cell_type": "code",
   "execution_count": null,
   "id": "04c38cd9",
   "metadata": {},
   "outputs": [],
   "source": [
    "metrics = output.metrics\n",
    "\n",
    "discharge_capacity = metrics[\"DischargeCapacity\"]\n",
    "round_trip_efficiency = metrics[\"RoundTripEfficiency\"]\n",
    "cycle_index = metrics[\"CycleIndex\"]"
   ]
  },
  {
   "cell_type": "markdown",
   "id": "14bc965b",
   "metadata": {},
   "source": [
    "Let's plot the discharge capacity against its cycle index."
   ]
  },
  {
   "cell_type": "code",
   "execution_count": null,
   "id": "c1c179b1",
   "metadata": {},
   "outputs": [],
   "source": [
    "\n",
    "f = Figure(size = (1000, 400))\n",
    "\n",
    "ax = Axis(f[1, 1], title = \"Round trip efficiency\", xlabel = \"Cycle number / -\", ylabel = \"Efficiency / %\",\n",
    ")\n",
    "scatterlines!(ax, cycle_index, round_trip_efficiency; linewidth = 4)\n",
    "\n",
    "ax = Axis(f[2, 1], title = \"Discharge capacity\", xlabel = \"Cycle number / -\", ylabel = \"Capacity / Ah\",\n",
    ")\n",
    "scatterlines!(ax, cycle_index, discharge_capacity; linewidth = 4)\n",
    "\n",
    "f"
   ]
  },
  {
   "cell_type": "markdown",
   "id": "ae841de1",
   "metadata": {},
   "source": [
    "Close all plotting windows"
   ]
  },
  {
   "cell_type": "code",
   "execution_count": null,
   "id": "81d27cc0",
   "metadata": {},
   "outputs": [],
   "source": [
    "GLMakie.closeall()"
   ]
  },
  {
   "cell_type": "markdown",
   "id": "40900ae2",
   "metadata": {},
   "source": [
    "## Part 2 - Normal workflows"
   ]
  },
  {
   "cell_type": "markdown",
   "id": "56ae1350",
   "metadata": {},
   "source": [
    "In this tutorial we'll explore some normal workflows that require a bit more advanced use than the Hello BattMo tutorial. Within this tutorial you will:\n",
    "- Learn how to create your own parameter sets\n",
    "- Simulate a WLTP drive cycle to learn how to define your own parameter functions\n",
    "- Implement electrode balancing to a simulation\n",
    "- Investigate the influence of the reaction rate and diffusion coefficient on cell performance"
   ]
  },
  {
   "cell_type": "markdown",
   "id": "4b7e1e8d",
   "metadata": {},
   "source": [
    "### 2.a - Create your own parameter sets"
   ]
  },
  {
   "cell_type": "markdown",
   "id": "ed2c063c",
   "metadata": {},
   "source": [
    "This part of the tutorial walks you through the process of creating and customizing your own cell parameter sets in BattMo.jl. Cell parameter sets define the physical and chemical properties of the battery system you're simulating. You can build them from scratch using your model setup, modify them, and save them for future use.\n",
    "\n",
    "The difficulty with setting up your own input parameters are that it's often not very clear which parameters you need for which submodel combination. In BattMo we have created a handy system to assist you in this process and bring more clearity in the parameter-model relations. We do this by providing functions that create empty parameter sets containing the required parameters based on the user's defined model setup.\n",
    "\n",
    "Let's get into it!"
   ]
  },
  {
   "cell_type": "markdown",
   "id": "7ed99ea9",
   "metadata": {},
   "source": [
    "#### Step 1 - Initiate a model setup"
   ]
  },
  {
   "cell_type": "markdown",
   "id": "876db370",
   "metadata": {},
   "source": [
    "First, define the battery model configuration you'd like to use. This will serve as the template for generating your parameter set. Model settings specify the submodels that the user would like to be included within the simulation. Have a quick look into the submodels that you can configure by running the following function."
   ]
  },
  {
   "cell_type": "code",
   "execution_count": null,
   "id": "68ad868e",
   "metadata": {},
   "outputs": [],
   "source": [
    "print_submodels()"
   ]
  },
  {
   "cell_type": "markdown",
   "id": "761741c0",
   "metadata": {},
   "source": [
    "Let's say we'd like to setup our own cell parameter set that includes parameters for a P2D simulation including SEI growth. Then we first configure the model. We can start from the default P2D model settings."
   ]
  },
  {
   "cell_type": "code",
   "execution_count": null,
   "id": "4bc4a362",
   "metadata": {},
   "outputs": [],
   "source": [
    "model_settings = load_model_settings(; from_file_path= \"default_sets/model_settings/p2d.json\")\n",
    "\n",
    "print_info(model_settings)"
   ]
  },
  {
   "cell_type": "markdown",
   "id": "9583b0ef",
   "metadata": {},
   "source": [
    "We can see that these settings don't include the SEI model. So let's add it. "
   ]
  },
  {
   "cell_type": "code",
   "execution_count": null,
   "id": "37f8ab84",
   "metadata": {},
   "outputs": [],
   "source": [
    "\n",
    "model_settings[\"SEIModel\"] = \"Bolay\"\n",
    "\n",
    "print_info(model_settings)"
   ]
  },
  {
   "cell_type": "markdown",
   "id": "f2dd9cfa",
   "metadata": {},
   "source": [
    "We can now instantiate the lithium ion battery model and see if our model settings are valid."
   ]
  },
  {
   "cell_type": "code",
   "execution_count": null,
   "id": "057106ac",
   "metadata": {},
   "outputs": [],
   "source": [
    "model_setup = LithiumIonBattery(; model_settings);"
   ]
  },
  {
   "cell_type": "markdown",
   "id": "edca37c3",
   "metadata": {},
   "source": [
    "#### Step 2 - load an empty parameter set"
   ]
  },
  {
   "cell_type": "markdown",
   "id": "4f6b50d2",
   "metadata": {},
   "source": [
    "Next, create an empty parameter dictionary based on your model. This will include all the required keys but without any values filled in."
   ]
  },
  {
   "cell_type": "code",
   "execution_count": null,
   "id": "88935712",
   "metadata": {},
   "outputs": [],
   "source": [
    "empty_cell_parameter_set = load_cell_parameters(; from_model_template = model_setup)\n",
    "\n",
    "print_info(empty_cell_parameter_set)"
   ]
  },
  {
   "cell_type": "markdown",
   "id": "065d4d3a",
   "metadata": {},
   "source": [
    "Let's see if it indeed cotains the SEI input parameters. Parameters that describe the SEI growth are part of the interphase parameters."
   ]
  },
  {
   "cell_type": "code",
   "execution_count": null,
   "id": "af2ac926",
   "metadata": {},
   "outputs": [],
   "source": [
    "empty_cell_parameter_set[\"NegativeElectrode\"][\"Interphase\"]"
   ]
  },
  {
   "cell_type": "markdown",
   "id": "73973885",
   "metadata": {},
   "source": [
    "#### Step 3 - Save the empty set to a JSON file"
   ]
  },
  {
   "cell_type": "markdown",
   "id": "1d7ff7eb",
   "metadata": {},
   "source": [
    "You can now write this empty set to a JSON file so you can alter it and reuse it later on. "
   ]
  },
  {
   "cell_type": "code",
   "execution_count": null,
   "id": "ef45a7b2",
   "metadata": {},
   "outputs": [],
   "source": [
    "file_path = \"my_custom_parameters.json\"\n",
    "write_to_json_file(file_path, empty_cell_parameter_set)"
   ]
  },
  {
   "cell_type": "markdown",
   "id": "411510fc",
   "metadata": {},
   "source": [
    "#### Step 4 - Let BattMo help you fill the empty set"
   ]
  },
  {
   "cell_type": "markdown",
   "id": "05be7912",
   "metadata": {},
   "source": [
    "If you're unsure about what a specific parameter means or how it should be formatted, BattMo provides a helpful function to inspect any parameter."
   ]
  },
  {
   "cell_type": "code",
   "execution_count": null,
   "id": "418e1863",
   "metadata": {},
   "outputs": [],
   "source": [
    "print_info(\"OpenCircuitPotential\", view = \"CellParameters\")"
   ]
  },
  {
   "cell_type": "code",
   "execution_count": null,
   "id": "9763474d",
   "metadata": {},
   "outputs": [],
   "source": [
    "print_info(\"concentration\")"
   ]
  },
  {
   "cell_type": "markdown",
   "id": "052fbf60",
   "metadata": {},
   "source": [
    "The automatic validation when initiating the Simulation object can help you keep track of your progress on filling in the parameter values and find any values that are unrealistic."
   ]
  },
  {
   "cell_type": "code",
   "execution_count": null,
   "id": "b3f2fbfb",
   "metadata": {},
   "outputs": [],
   "source": [
    "cell_parameters = load_cell_parameters(; from_file_path= \"my_custom_parameters.json\")\n",
    "\n",
    "\n",
    "sim = Simulation(model_setup, cell_parameters, load_cycling_protocol(;from_default_set= \"cc_discharge\"));"
   ]
  },
  {
   "cell_type": "markdown",
   "id": "a4fd7052",
   "metadata": {},
   "source": [
    ">Now you know how you can create your own input files! "
   ]
  },
  {
   "cell_type": "markdown",
   "id": "918af215",
   "metadata": {},
   "source": [
    "### 2.b - Create your own parameter function"
   ]
  },
  {
   "cell_type": "markdown",
   "id": "33254802",
   "metadata": {},
   "source": [
    "For some parameters you can define your own function in a Julia script and pass it to BattMo. This is available for the following parameters:\n",
    "\n",
    "**Cell parameters**\n",
    "- OpenCircuitPotential (negative and positive electrode)\n",
    "- DiffusionCoefficient (negative and positive electrode)\n",
    "- ReactionRateConstant (negative and positive electrode)\n",
    "- DiffusionCoefficient (electrolyte)\n",
    "- Conductivity (electrolyte)\n",
    "\n",
    "**Cycling protocol parameters**\n",
    "- Current\n",
    "\n",
    "Let have a look into how we can implement this."
   ]
  },
  {
   "cell_type": "markdown",
   "id": "48f007dc",
   "metadata": {},
   "source": [
    "For the cell parameters we can have a look at the default cell parameter set \"Xu2015.json\". Open this parameter set and have a look at how the open circuit potential is defined."
   ]
  },
  {
   "cell_type": "code",
   "execution_count": null,
   "id": "dd2adfae",
   "metadata": {},
   "outputs": [],
   "source": [
    "cell_parameters = load_cell_parameters(; from_file_path = \"default_sets/cell_parameters/xu_2015.json\")\n",
    "\n",
    "cell_parameters[\"NegativeElectrode\"][\"ActiveMaterial\"][\"OpenCircuitPotential\"]"
   ]
  },
  {
   "cell_type": "markdown",
   "id": "4f22edbb",
   "metadata": {},
   "source": [
    "We can see that the OpenCircuitPotential in this case has a value of type Dict containing the following keys:\n",
    "- **FilePath**: the path to the julia script containing the function (relative to the json file)\n",
    "- **FunctionName**: the name of the function\n",
    "\n",
    "When running a simulation, BattMo will be able to access the julia script and import the functions defined within that script into the name space so that they can be used for calculating the quantity internally."
   ]
  },
  {
   "cell_type": "markdown",
   "id": "c71dc250",
   "metadata": {},
   "source": [
    "An easy way to check if your functional parameters are defined correctly is to plot them all at once."
   ]
  },
  {
   "cell_type": "code",
   "execution_count": null,
   "id": "35ebc494",
   "metadata": {},
   "outputs": [],
   "source": [
    "plot_cell_curves(cell_parameters)"
   ]
  },
  {
   "cell_type": "markdown",
   "id": "be8702fd",
   "metadata": {},
   "source": [
    "An even easier way to use a functional parameter is to define a function, doesn't matter where, and import it into Main which is the namespace that BattMo can access during a simulation. You can then either define the function within the main script that you're running or define it in a separate script and include that script into your main script.\n",
    "\n",
    "Let's go through a fun example for setting up your own current function to see how you put this into practice."
   ]
  },
  {
   "cell_type": "markdown",
   "id": "41f8d35a",
   "metadata": {},
   "source": [
    "#### Current function"
   ]
  },
  {
   "cell_type": "markdown",
   "id": "2381c055",
   "metadata": {},
   "source": [
    "For this example we'll use Worldwide harmonized Light vehicles Test Procedure (WLTP) drive cycle data that is stored within \"wltp_data/wltp.csv\". In order to create a current function from this data we'll have to undergo a couple of steps:\n",
    "1. Read the time and power data from the CSV.\n",
    "2. Create an interpolation object from the data.\n",
    "3. Define a function that returns the current calculated from the interpolated object.\n",
    "\n",
    "The following code describes these four steps. Running this script will create the function so that BattMo can access it. If you'd like more structure in your files or keep the input functions separate from your main script, you can define the code into a separate Julia file and use `include(\"curren_function_script.jl\")` to import the function into you main script."
   ]
  },
  {
   "cell_type": "code",
   "execution_count": null,
   "id": "9d43ef84",
   "metadata": {},
   "outputs": [],
   "source": [
    "####################################################################################################\n",
    "# An example of a user defined current function using WLTP data from https://github.com/JRCSTU/wltp\n",
    "\n",
    "# 1. Read data\n",
    "path = joinpath(@__DIR__, \"data\",\"wltp.csv\")\n",
    "df = CSV.read(path, DataFrame)\n",
    "\n",
    "t = df[:, 1]\n",
    "P = df[:, 2]\n",
    "\n",
    "\n",
    "# 2. Use a Jutul interpolator to create an interpolation object of the time and power data\n",
    "power_func = Jutul.get_1d_interpolator(t, P, cap_endpoints = false)\n",
    "\n",
    "\n",
    "# 3. Define a function to calculate the current. The current function has to accept time and voltage as arguments.\n",
    "function wltp_current(time, voltage)\n",
    "\n",
    "\tfactor = 4000 # Tot account for the fact that we're simulating a single cell instead of a battery pack\n",
    "\n",
    "\treturn power_func(time) / voltage / factor\n",
    "end\n"
   ]
  },
  {
   "cell_type": "markdown",
   "id": "23ad013e",
   "metadata": {},
   "source": [
    "Now that we have imported our function into Main, we need to create a cycling protocol parameter file that passes the function name to BattMo. The cycling protocols in BattMo are categorized by the parameter \"Protocol\". Let's get a bit more information on the parameter."
   ]
  },
  {
   "cell_type": "code",
   "execution_count": null,
   "id": "f10b2afd",
   "metadata": {},
   "outputs": [],
   "source": [
    "print_info(\"Protocol\")"
   ]
  },
  {
   "cell_type": "markdown",
   "id": "63253ffe",
   "metadata": {},
   "source": [
    "We can see that the paramater Protocol can have three different values: CC, CCCV, or Function. In our case, we want to define our own current function so we'll need to specify Protocol as \"Function\". Let's use the default cycling protocol parameter set \"user_defined_current_function.json\" and adapt it to our case."
   ]
  },
  {
   "cell_type": "code",
   "execution_count": null,
   "id": "0d01fe82",
   "metadata": {},
   "outputs": [],
   "source": [
    "current_function = load_cycling_protocol(; from_file_path = \"default_sets/cycling_protocols/user_defined_current_function.json\")\n",
    "\n",
    "print_info(current_function)"
   ]
  },
  {
   "cell_type": "markdown",
   "id": "43e6c74f",
   "metadata": {},
   "source": [
    "We need to change the function name. The other parameters we can leave them as they are for now."
   ]
  },
  {
   "cell_type": "code",
   "execution_count": null,
   "id": "aaf54269",
   "metadata": {},
   "outputs": [],
   "source": [
    "current_function[\"FunctionName\"] = \"wltp_current\""
   ]
  },
  {
   "cell_type": "markdown",
   "id": "1329f36c",
   "metadata": {},
   "source": [
    "We can now write the altered cycling protocol data to a new json file so that we can reuse it in the future."
   ]
  },
  {
   "cell_type": "code",
   "execution_count": null,
   "id": "78b06321",
   "metadata": {},
   "outputs": [],
   "source": [
    "file_path = \"default_sets/cycling_protocols/wltp_protocol.json\"\n",
    "write_to_json_file(file_path, current_function)"
   ]
  },
  {
   "cell_type": "markdown",
   "id": "b1c13e6b",
   "metadata": {},
   "source": [
    "Now we can run a simulation using the json file we just created as input for the cycling protocol"
   ]
  },
  {
   "cell_type": "code",
   "execution_count": null,
   "id": "0b46cfb6",
   "metadata": {},
   "outputs": [],
   "source": [
    "\n",
    "cell_parameters = load_cell_parameters(; from_file_path = \"default_sets/cell_parameters/chen_2020.json\")\n",
    "cycling_protocol = load_cycling_protocol(; from_file_path= \"default_sets/cycling_protocols/wltp_protocol.json\")\n",
    "\n",
    "model_setup = LithiumIonBattery()\n",
    "\n",
    "sim = Simulation(model_setup, cell_parameters, cycling_protocol);\n",
    "\n",
    "output = solve(sim);\n",
    "\n",
    "plot_dashboard(output)"
   ]
  },
  {
   "cell_type": "markdown",
   "id": "81171326",
   "metadata": {},
   "source": [
    "We can see that the output curves don't look smooth at all. Probably our time resolution isn't small enough. Let's look into changing the simulation setting that determines this. We can print the time related settings to find the right setting that we need to alter."
   ]
  },
  {
   "cell_type": "code",
   "execution_count": null,
   "id": "afb6f40c",
   "metadata": {},
   "outputs": [],
   "source": [
    "print_info(\"time\", view = \"SimulationSettings\")"
   ]
  },
  {
   "cell_type": "markdown",
   "id": "ddd3121c",
   "metadata": {},
   "source": [
    "We can see that the time step duration is the one we need. Until now, we have only used the default simulation settings. Let's see what the default value of the \"TimeStepDuration\" is."
   ]
  },
  {
   "cell_type": "code",
   "execution_count": null,
   "id": "380e7de4",
   "metadata": {},
   "outputs": [],
   "source": [
    "sim.settings[\"TimeStepDuration\"]"
   ]
  },
  {
   "cell_type": "markdown",
   "id": "232b80ae",
   "metadata": {},
   "source": [
    "It is equal to 50 seconds. Let's refine the time resolution and set it to 1 second. We need to load the default simulation settings first."
   ]
  },
  {
   "cell_type": "code",
   "execution_count": null,
   "id": "9e7a8746",
   "metadata": {},
   "outputs": [],
   "source": [
    "simulation_settings = load_simulation_settings(; from_file_path = \"default_sets/simulation_settings/p2d.json\")\n",
    "simulation_settings[\"TimeStepDuration\"] = 1"
   ]
  },
  {
   "cell_type": "markdown",
   "id": "f9376514",
   "metadata": {},
   "source": [
    "We can pass the simulation settings to the Simulation object and run the new simulation."
   ]
  },
  {
   "cell_type": "code",
   "execution_count": null,
   "id": "1e1d27cb",
   "metadata": {},
   "outputs": [],
   "source": [
    "sim = Simulation(model_setup, cell_parameters, cycling_protocol; simulation_settings);\n",
    "\n",
    "output = solve(sim);\n",
    "\n",
    "plot_dashboard(output)"
   ]
  },
  {
   "cell_type": "markdown",
   "id": "a2628ed3",
   "metadata": {},
   "source": [
    "Close all plotting windows"
   ]
  },
  {
   "cell_type": "code",
   "execution_count": null,
   "id": "ee861bfc",
   "metadata": {},
   "outputs": [],
   "source": [
    "GLMakie.closeall()"
   ]
  },
  {
   "cell_type": "markdown",
   "id": "f29f19e0",
   "metadata": {},
   "source": [
    "### 2.c - Electrode balancing"
   ]
  },
  {
   "cell_type": "markdown",
   "id": "d0602a86",
   "metadata": {},
   "source": [
    "In this tutorial, we will study the effects that electrode thicknesses have over the power delivered by a cell. Power capability is usually determined from the\n",
    "loss in capacity when cycling the cell at higher rates. We will compare the effects of thickness on the power delivery of a cell. Let's load some default parameter sets and model settings."
   ]
  },
  {
   "cell_type": "code",
   "execution_count": null,
   "id": "e272583c",
   "metadata": {},
   "outputs": [],
   "source": [
    "cell_parameters = load_cell_parameters(; from_file_path = \"default_sets/cell_parameters/xu_2015.json\")\n",
    "cc_discharge_protocol = load_cycling_protocol(; from_file_path = \"default_sets/cycling_protocols/cc_discharge.json\")\n",
    "\n",
    "model_setup = LithiumIonBattery();"
   ]
  },
  {
   "cell_type": "markdown",
   "id": "9bb607f2",
   "metadata": {},
   "source": [
    "Let's have a quick look into the equilibrium metrics of the cell parameters."
   ]
  },
  {
   "cell_type": "code",
   "execution_count": null,
   "id": "8733d80c",
   "metadata": {},
   "outputs": [],
   "source": [
    "quick_cell_check(cell_parameters)"
   ]
  },
  {
   "cell_type": "markdown",
   "id": "2873b37c",
   "metadata": {},
   "source": [
    "We can change the negative electrode coating thickness in a copied cell parameter set and see how it influences the equilibrium metrics."
   ]
  },
  {
   "cell_type": "code",
   "execution_count": null,
   "id": "6dc26486",
   "metadata": {},
   "outputs": [],
   "source": [
    "cell_parameters_copy = deepcopy(cell_parameters)\n",
    "\n",
    "cell_parameters_copy[\"NegativeElectrode\"][\"Coating\"][\"Thickness\"] = 100e-6\n",
    "\n",
    "quick_cell_check(cell_parameters, cell_2 = cell_parameters_copy)"
   ]
  },
  {
   "cell_type": "markdown",
   "id": "5ec40d21",
   "metadata": {},
   "source": [
    "To balance the electrodes we will change the thickness of the negative electrode, and evaluate the cell capacity at different CRates. Lets define the DRates to use and the range of thicknesses to explore."
   ]
  },
  {
   "cell_type": "code",
   "execution_count": null,
   "id": "8064d50e",
   "metadata": {},
   "outputs": [],
   "source": [
    "d_rates = [0.05, 0.1, 0.2, 0.5, 1.0, 2.0, 2.5]\n",
    "thicknesses = range(6.0e-5, 9.5e-5, length = 8)"
   ]
  },
  {
   "cell_type": "markdown",
   "id": "f40ef8e3",
   "metadata": {},
   "source": [
    "Now we loop through both DRates and thicknesses to run a simulation for each combination. For each simulation, we will calculate the discharge capacity, and store it for plotting."
   ]
  },
  {
   "cell_type": "code",
   "execution_count": null,
   "id": "12436b76",
   "metadata": {},
   "outputs": [],
   "source": [
    "power_rates = []\n",
    "np_ratios = []\n",
    "\n",
    "for thickness in thicknesses\n",
    "\n",
    "\tcapacities = []\n",
    "\t\n",
    "\tcell_parameters[\"NegativeElectrode\"][\"Coating\"][\"Thickness\"] = thickness\n",
    "\tn_to_p_ratio = compute_np_ratio(cell_parameters)\n",
    "\tpush!(np_ratios, n_to_p_ratio)\n",
    "\n",
    "\tfor d_rate in d_rates\n",
    "\n",
    "\t\tcc_discharge_protocol[\"DRate\"] = d_rate\n",
    "\t\tsim = Simulation(model_setup, cell_parameters, cc_discharge_protocol)\n",
    "\t\tprint(\"###### Simulation of thickness $thickness | d_rate $d_rate #########\")\n",
    "\t\toutput = solve(sim; info_level = -1)\n",
    "\n",
    "\t\tif length(output.states[\"Time\"]) > 0 # if simulation is successful\n",
    "\t\t\tdischarge_capacity = output.metrics[\"DischargeCapacity\"][1]\n",
    "\t\t\tpush!(capacities, discharge_capacity)\n",
    "\t\telse\n",
    "\t\t\tpush!(capacities, 0.0)\n",
    "\t\tend\n",
    "\tend\n",
    "\tpush!(power_rates, (thickness = thickness, d_rates = d_rates, capacities = capacities, np_ratios = n_to_p_ratio))\n",
    "end"
   ]
  },
  {
   "cell_type": "markdown",
   "id": "b7dd2b78",
   "metadata": {},
   "source": [
    "Now we plot capacities vs Drate at different thicknesses of the negative electrode:"
   ]
  },
  {
   "cell_type": "code",
   "execution_count": null,
   "id": "4808568f",
   "metadata": {},
   "outputs": [],
   "source": [
    "fig = Figure(size = (1000, 400))\n",
    "ax = Axis(fig[1, 1], title = \"Power capability vs Thickness of Negative Electrode\",\n",
    "          xlabel = \"DRate\", ylabel = \"Capacity  /  Ah\")\n",
    "\n",
    "colors = resample_cmap(:managua, length(power_rates))\n",
    "\n",
    "for (i, experiment) in enumerate(power_rates)\n",
    "    label_str = lowercase(string(experiment.thickness*10^6))  # Scientific notation as string\n",
    "    lines!(ax, experiment.d_rates, experiment.capacities, label = label_str, color=colors[i], linewidth = 5)\n",
    "end\n",
    "\n",
    "fig[1, 2] = Legend(fig, ax, \"Thicknesses /  μm\", framevisible = false)\n",
    "display(fig)\n"
   ]
  },
  {
   "cell_type": "markdown",
   "id": "5eee66c4",
   "metadata": {},
   "source": [
    "We can observe in the plot the following feature:\n",
    "* The cell capacity at low DRates grows quite linerarly with the thickness of the negative electrode up to a point. \n",
    "    * The capacity of the negative electrode at thicknesses below 105 um is lower than for the positive electrode. Therefore any increase in negative electrode thickness will increase the overall cell capacity.\n",
    "    * However, then the thickness of the negative electrode surpass 105 um, additional thickness increase will not translate in additional cell capacity, as the positive electrode capacity becomes the limiting.\n",
    "\n",
    "The interplay between electrode thicknesses and capacities can be better visualized if we plot the N:P ratios instead of the thicknesses. Lets do this below:"
   ]
  },
  {
   "cell_type": "code",
   "execution_count": null,
   "id": "a41570bb",
   "metadata": {},
   "outputs": [],
   "source": [
    "fig = Figure(size = (600, 400))\n",
    "ax = Axis(fig[1, 1], title = \"Power capability vs Thickness of Negative Electrode\",\n",
    "          xlabel = \"DRate\", ylabel = \"Capacity  /  Ah\")\n",
    "\n",
    "colors = resample_cmap(:managua, length(power_rates))\n",
    "\n",
    "for (i, experiment) in enumerate(power_rates)\n",
    "    label_str = lowercase(string(round(experiment.np_ratios, digits=2)))  # Scientific notation as string\n",
    "    lines!(ax, experiment.d_rates, experiment.capacities, label = label_str, color=colors[i], linewidth = 5)\n",
    "end\n",
    "\n",
    "fig[1, 2] = Legend(fig, ax, \"N/P ratio\", framevisible = false)\n",
    "display(fig)"
   ]
  },
  {
   "cell_type": "markdown",
   "id": "fc22972a",
   "metadata": {},
   "source": [
    "Close all plotting windows"
   ]
  },
  {
   "cell_type": "code",
   "execution_count": null,
   "id": "e2917c94",
   "metadata": {},
   "outputs": [],
   "source": [
    "GLMakie.closeall()"
   ]
  },
  {
   "cell_type": "markdown",
   "id": "6b5db448",
   "metadata": {},
   "source": [
    "As the N:P ratio slightly exceeds 1.0, the cell capacity at low rate saturates. The saturation does not occur at NP=1.0 exactly, but slightly above 1.1. We think that thickness changes affect the alignment of half-cell OCPs, leading to an actual capacity that differs from that predicted solely by stoichiometric ranges and thicknesses.\n",
    "\n",
    "At higher rates, we also observe:\n",
    "* Cell capacities decrease, as overpotentials cause the lower potential limit to be reached before full capacity is delivered.\n",
    "* This decrease is more pronounced with increasing NP ratios. Thicker electrodes extend the Li⁺ diffusion path within the porous structure, raising transport overpotentials and causing earlier cutoff."
   ]
  },
  {
   "cell_type": "markdown",
   "id": "5e15e537",
   "metadata": {},
   "source": [
    "## Part 3 - Parameter Calibration\n",
    "\n",
    "Usually, the parameters we obtain from the characterization of the cell result in simulations that are off from cycling data. Therefore, before using a model, it is good practice to carry out a \"Calibration\" step, where we fit a small subset of the model parameters to experimental voltage profiles of the same cell.\n",
    "\n",
    "In this session, we will calibrate the Xu 2025 parameter set to experimental voltage curves from the same cell. "
   ]
  },
  {
   "cell_type": "markdown",
   "id": "d9270ba9",
   "metadata": {},
   "source": [
    "### Load the experimental data\n",
    "\n",
    "We will calibrate our model in two steps: \n",
    "1. We will adjust the stoichiometric coefficients and maximum concentrations of the active materials, to fit a cell voltage curve at C/2.\n",
    "2. We will adjust the reaction rate constants and diffusion coefficients in the active materials, to fit a cell voltage curve at 2C.\n",
    "\n",
    "We first load the datasets."
   ]
  },
  {
   "cell_type": "code",
   "execution_count": null,
   "id": "4a16f419",
   "metadata": {},
   "outputs": [],
   "source": [
    "expdata_05C = CSV.read(\"data/xu_2015_voltage_curve_05C.csv\", DataFrame)\n",
    "expdata_1C = CSV.read(\"data/xu_2015_voltage_curve_1C.csv\", DataFrame)\n",
    "expdata_2C = CSV.read(\"data/xu_2015_voltage_curve_2C.csv\", DataFrame)"
   ]
  },
  {
   "cell_type": "markdown",
   "id": "a7745307",
   "metadata": {},
   "source": [
    "### Run a simulation of the original parameters\n",
    "Now we run a baseline simulation using the parameters obtained only from characterization of the cell. We load the parameter set, ensure an appropiate lower voltage limit and DRate, and run the simulation as we saw in previous tutorials."
   ]
  },
  {
   "cell_type": "code",
   "execution_count": null,
   "id": "87d88663",
   "metadata": {},
   "outputs": [],
   "source": [
    "cell_parameters_original = load_cell_parameters(; from_file_path = \"default_sets/cell_parameters/xu_2015.json\")\n",
    "cycling_protocol = load_cycling_protocol(; from_default_set = \"cc_discharge\")\n",
    "\n",
    "cycling_protocol[\"LowerVoltageLimit\"] = 2.25\n",
    "cycling_protocol[\"DRate\"] = 0.5\n",
    "\n",
    "model_setup = LithiumIonBattery()\n",
    "\n",
    "sim_original = Simulation(model_setup, cell_parameters_original, cycling_protocol)\n",
    "output_original = solve(sim_original);\n"
   ]
  },
  {
   "cell_type": "markdown",
   "id": "4fcf9856",
   "metadata": {},
   "source": [
    "Once the simulation completes, we can inspect the resutling voltage curves, and compare them with the experimental voltage curves."
   ]
  },
  {
   "cell_type": "code",
   "execution_count": null,
   "id": "902ffb1f",
   "metadata": {},
   "outputs": [],
   "source": [
    "#Simulation data\n",
    "time_series = output_original.time_series\n",
    "simdata_time_original = time_series[\"Time\"]\n",
    "simdata_voltage_original = time_series[\"Voltage\"]\n",
    "\n",
    "#Plot\n",
    "fig = Figure()\n",
    "ax = Axis(fig[1, 1], title = \"CRate = 0.5\", xlabel = \"Time / s\", ylabel = \"Voltage / V\")\n",
    "lines!(ax, simdata_time_original, simdata_voltage_original, label = \"Simulation 0.5C: original parameters\")\n",
    "scatter!(ax, expdata_05C[:,1], expdata_05C[:,2], label = \"Experimental data 0.5C\", markersize = 20)\n",
    "axislegend(position = :lb)\n",
    "fig"
   ]
  },
  {
   "cell_type": "markdown",
   "id": "5c8a9d9b",
   "metadata": {},
   "source": [
    "We can see that the simulation with original parameters does not match well the experiment. Lets therefore fit some parameters to the experimental data."
   ]
  },
  {
   "cell_type": "markdown",
   "id": "4ae33e08",
   "metadata": {},
   "source": [
    "### Low-rate Calibration\n",
    "\n",
    "We have developed a calibration function that takes as inputs the voltage and time arrays of the data, along with the initial simulation setup."
   ]
  },
  {
   "cell_type": "code",
   "execution_count": null,
   "id": "32efd561",
   "metadata": {},
   "outputs": [],
   "source": [
    "calibration_low_rate = VoltageCalibration(expdata_05C[:,1], expdata_05C[:,2], sim_original); #  VoltageCalibration(experimental_time, experimental_voltage, simulation)"
   ]
  },
  {
   "cell_type": "markdown",
   "id": "aa74851c",
   "metadata": {},
   "source": [
    "This calibration object is a handy way to tailor the main settings needed to run a calibration: \n",
    "* Which model parameters are frozen\n",
    "* Which model parameters are being fitted\n",
    "* What are the minimum and maximum bounds of the parameters to be fitted\n",
    "* The results of the calibration, i.e. the optimal parameters.\n",
    "\n",
    "**All paramters are frozen by default**, so we now need to free those we are interested in, and apply some bounds to each to ensure they remain within expected ranges. Below, we free the stoichiometric coefficients and maximum concentrations."
   ]
  },
  {
   "cell_type": "code",
   "execution_count": null,
   "id": "0edce3d8",
   "metadata": {},
   "outputs": [],
   "source": [
    "free_calibration_parameter!(calibration_low_rate,\n",
    "    [\"NegativeElectrode\",\"ActiveMaterial\", \"StoichiometricCoefficientAtSOC100\"];\n",
    "    lower_bound = 0.0, upper_bound = 1.0)\n",
    "free_calibration_parameter!(calibration_low_rate,\n",
    "    [\"PositiveElectrode\",\"ActiveMaterial\", \"StoichiometricCoefficientAtSOC100\"];\n",
    "    lower_bound = 0.0, upper_bound = 1.0)\n",
    "\n",
    "# \"StoichiometricCoefficientAtSOC0\" at both electrodes\n",
    "free_calibration_parameter!(calibration_low_rate,\n",
    "    [\"NegativeElectrode\",\"ActiveMaterial\", \"StoichiometricCoefficientAtSOC0\"];\n",
    "    lower_bound = 0.0, upper_bound = 1.0)\n",
    "free_calibration_parameter!(calibration_low_rate,\n",
    "    [\"PositiveElectrode\",\"ActiveMaterial\", \"StoichiometricCoefficientAtSOC0\"];\n",
    "    lower_bound = 0.0, upper_bound = 1.0)\n",
    "\n",
    "#  \"MaximumConcentration\" of both electrodes\n",
    "free_calibration_parameter!(calibration_low_rate,\n",
    "    [\"NegativeElectrode\",\"ActiveMaterial\", \"MaximumConcentration\"];\n",
    "    lower_bound = 10000.0, upper_bound = 1e5)\n",
    "free_calibration_parameter!(calibration_low_rate,\n",
    "    [\"PositiveElectrode\",\"ActiveMaterial\", \"MaximumConcentration\"];\n",
    "    lower_bound = 10000.0, upper_bound = 1e5);"
   ]
  },
  {
   "cell_type": "markdown",
   "id": "249a9268",
   "metadata": {},
   "source": [
    "We have a handy function to check parameter, values and bounds:"
   ]
  },
  {
   "cell_type": "code",
   "execution_count": null,
   "id": "a8cffbd2",
   "metadata": {},
   "outputs": [],
   "source": [
    "print_info(calibration_low_rate)"
   ]
  },
  {
   "cell_type": "markdown",
   "id": "d623eaa6",
   "metadata": {},
   "source": [
    "Solving the calibration problem is essentially an optimization problem. We adjust free parameters so to minimize the difference between a target (the data) and the prediction (the simulation result): is performed by solving the optimization problem. This makes use of the adjoint method implemented in Jutul.jl and the LBFGS algorithm.\n",
    "\n",
    "For calibration, we minimize the squared difference between the predicted and observed voltage, summed over all time steps:  \n",
    "                  $\\sum_i (V_i - V_{exp,i})^2$  \n",
    "where $V_i$ is the voltage from the model and $V_{exp,i}$ is the voltage from the experimental data at step $i$. This minimization uses in the background cool algorithms implemented in Jutul, the simulation engine of BattMo. "
   ]
  },
  {
   "cell_type": "code",
   "execution_count": null,
   "id": "a09c71d6",
   "metadata": {},
   "outputs": [],
   "source": [
    "solve(calibration_low_rate);\n",
    "cell_parameters_calibrated_low_rate = calibration_low_rate.calibrated_cell_parameters;"
   ]
  },
  {
   "cell_type": "markdown",
   "id": "d763913b",
   "metadata": {},
   "source": [
    "We can use the same printing function to explore the results of the simulation"
   ]
  },
  {
   "cell_type": "code",
   "execution_count": null,
   "id": "b9957b20",
   "metadata": {},
   "outputs": [],
   "source": [
    "print_info(calibration_low_rate)"
   ]
  },
  {
   "cell_type": "markdown",
   "id": "8cc924bd",
   "metadata": {},
   "source": [
    "We can now use the optimized parameters to run a new simulation, and compare the results to the experimental data for the 0.5C discharge curve."
   ]
  },
  {
   "cell_type": "code",
   "execution_count": null,
   "id": "406573b1",
   "metadata": {},
   "outputs": [],
   "source": [
    "#Setup and run simulation\n",
    "sim_calibrated_low_rate = Simulation(model_setup, cell_parameters_calibrated_low_rate, cycling_protocol)\n",
    "output_calibrated_low_rate = solve(sim_calibrated_low_rate);\n",
    "\n",
    "#Get simulation data\n",
    "time_series = output_calibrated_low_rate.time_series\n",
    "simdata_time_calibrated_low_rate = time_series[\"Time\"]\n",
    "simdata_voltage_calibrated_low_rate = time_series[\"Voltage\"]\n",
    "\n",
    "#Plot\n",
    "fig = Figure()\n",
    "ax = Axis(fig[1, 1], title = \"CRate = 0.5\")\n",
    "lines!(ax, simdata_time_original, simdata_voltage_original, label = \"Simulation 0.5C: Original parameters\")\n",
    "lines!(ax, simdata_time_calibrated_low_rate, simdata_voltage_calibrated_low_rate, label = \"Simulation 0.5C: after low rate calibration\")\n",
    "scatter!(ax, expdata_05C[:,1], expdata_05C[:,2], label = \"Experimental data 0.5C\", markersize = 20)\n",
    "axislegend(position = :lb)\n",
    "fig"
   ]
  },
  {
   "cell_type": "markdown",
   "id": "c0d447e0",
   "metadata": {},
   "source": [
    "### High-rate Calibration"
   ]
  },
  {
   "cell_type": "markdown",
   "id": "af92b4b7",
   "metadata": {},
   "source": [
    "The second calibration is performed against the 2.0C discharge curve. In the same manner as for the first discharge curve, we set up a set of parameters to calibrate against experimental data. The parameters are:\n",
    "\n",
    " - The reaction rate constant of both electrodes\n",
    " - The diffusion coefficient of both electrodes\n",
    "\n",
    "The calibration this time starts from the parameters calibrated at 0.5C, so we use the `cell_parameters_calibrated_05C` from the first `solve` to run a new simulation at 2C:"
   ]
  },
  {
   "cell_type": "code",
   "execution_count": null,
   "id": "20430e83",
   "metadata": {},
   "outputs": [],
   "source": [
    "#Update cycling protocol to run at 2C\n",
    "cycling_protocol2 = deepcopy(cycling_protocol)\n",
    "cycling_protocol2[\"DRate\"] = 2.0\n",
    "\n",
    "#Solve simulation with parameters calibrated at 05C but running a 2C discharge protocol\n",
    "sim_calibrated_low_rate = Simulation(model_setup, cell_parameters_calibrated_low_rate, cycling_protocol2)\n",
    "output_calibrated_low_rate = solve(sim_calibrated_low_rate);\n",
    "\n",
    "#Get simulation data of parameters calibrated at 0.5C but run at 2C\n",
    "time_series = output_calibrated_low_rate.time_series\n",
    "simdata_time_calibrated_low_rate = time_series[\"Time\"]\n",
    "simdata_voltage_calibrated_low_rate = time_series[\"Voltage\"]"
   ]
  },
  {
   "cell_type": "markdown",
   "id": "e22c7fb5",
   "metadata": {},
   "source": [
    "We use the simulation at 2C ran with the parameter set calibrated at 0.5C as a starting point for our new high rate calibration task. \n",
    "\n",
    "This time we free the reaction rate constants and diffusion coefficients, and set some boundaries for each."
   ]
  },
  {
   "cell_type": "code",
   "execution_count": null,
   "id": "c5f62e1a",
   "metadata": {},
   "outputs": [],
   "source": [
    "calibration_high_rate = VoltageCalibration(expdata_2C[:,1], expdata_2C[:,2], sim_calibrated_low_rate)\n",
    "\n",
    "free_calibration_parameter!(calibration_high_rate,\n",
    "    [\"NegativeElectrode\",\"ActiveMaterial\", \"ReactionRateConstant\"];\n",
    "    lower_bound = 1e-16, upper_bound = 1e-10)\n",
    "free_calibration_parameter!(calibration_high_rate,\n",
    "    [\"PositiveElectrode\",\"ActiveMaterial\", \"ReactionRateConstant\"];\n",
    "    lower_bound = 1e-16, upper_bound = 1e-10)\n",
    "\n",
    "free_calibration_parameter!(calibration_high_rate,\n",
    "    [\"NegativeElectrode\",\"ActiveMaterial\", \"DiffusionCoefficient\"];\n",
    "    lower_bound = 1e-16, upper_bound = 1e-12)\n",
    "free_calibration_parameter!(calibration_high_rate,\n",
    "    [\"PositiveElectrode\",\"ActiveMaterial\", \"DiffusionCoefficient\"];\n",
    "    lower_bound = 1e-16, upper_bound = 1e-12)\n",
    "\n",
    "print_info(calibration_high_rate)"
   ]
  },
  {
   "cell_type": "markdown",
   "id": "199944ad",
   "metadata": {},
   "source": [
    "Solve the high-rate calibration problem"
   ]
  },
  {
   "cell_type": "code",
   "execution_count": null,
   "id": "bd5d299b",
   "metadata": {},
   "outputs": [],
   "source": [
    "cell_parameters_calibrated_high_rate, = solve(calibration_high_rate);"
   ]
  },
  {
   "cell_type": "code",
   "execution_count": null,
   "id": "8bda9533",
   "metadata": {},
   "outputs": [],
   "source": [
    "print_info(calibration_high_rate)"
   ]
  },
  {
   "cell_type": "markdown",
   "id": "ba8e0a9d",
   "metadata": {},
   "source": [
    "We compare three simulations against the experimental data:\n",
    " 1. The initial simulation with the original parameters.\n",
    " 2. The simulation with the parameters calibrated against the 0.5C discharge curve.\n",
    " 3. The simulation with the parameters calibrated against the 0.5C and 2.0C discharge curves."
   ]
  },
  {
   "cell_type": "code",
   "execution_count": null,
   "id": "2853c35c",
   "metadata": {},
   "outputs": [],
   "source": [
    "# Simulation at 2C  using original parameters\n",
    "sim_original_params = Simulation(model_setup, cell_parameters_original, cycling_protocol2)\n",
    "output_original_params = solve(sim_original_params, accept_invalid = false);\n",
    " \n",
    "time_series = output_original_params.time_series\n",
    "simdata_time_original_params = time_series[\"Time\"]\n",
    "simdata_voltage_original_params = time_series[\"Voltage\"]\n",
    "\n",
    "\n",
    "# Simulation at 2C using calibrated parameters from 2C calibration\n",
    "sim_calibrated_high_rate = Simulation(model_setup, cell_parameters_calibrated_high_rate, cycling_protocol2)\n",
    "output_calibrated_high_rate = solve(sim_calibrated_high_rate, accept_invalid = false);\n",
    " \n",
    "time_series = output_calibrated_high_rate.time_series\n",
    "simdata_time_calibrated_high_rate = time_series[\"Time\"]\n",
    "simdata_voltage_calibrated_high_rate = time_series[\"Voltage\"]\n",
    "\n",
    "# Plot 2C calibrated model vs 2C experimental data\n",
    "fig = Figure()\n",
    "ax = Axis(fig[1, 1], title = \"CRate = 2.0\")\n",
    "lines!(ax, simdata_time_original_params, simdata_voltage_original_params, label = \"Simulation 2C: Original parameters\")\n",
    "lines!(ax, simdata_time_calibrated_low_rate, simdata_voltage_calibrated_low_rate, label = \"Simulation 2C: after low-rate calibration\")\n",
    "lines!(ax, simdata_time_calibrated_high_rate, simdata_voltage_calibrated_high_rate, label = \"Simulation 2C: after high-rate calibration\")\n",
    "scatter!(ax, expdata_2C[:,1], expdata_2C[:,2], label = \"Experimental data 2C\", markersize = 20)\n",
    "axislegend(position = :lb)\n",
    "fig"
   ]
  },
  {
   "cell_type": "markdown",
   "id": "c018d2b1",
   "metadata": {},
   "source": [
    "### Calibrated model at all CRates"
   ]
  },
  {
   "cell_type": "markdown",
   "id": "99073c27",
   "metadata": {},
   "source": [
    "We can now compare the results of the model after both low-rate and high-rate calibration against the experimental data for the 0.5C, 1.0C, and 2.0C discharge curves. \n",
    "\n",
    "> **Note that we did not calibrate the model for the 1.0C discharge curve, but we still obtain a good fit!!**"
   ]
  },
  {
   "cell_type": "code",
   "execution_count": null,
   "id": "690f6732",
   "metadata": {},
   "outputs": [],
   "source": [
    "CRates = [0.5, 1.0, 2.0]\n",
    "colors = Dict(0.5 => :firebrick1, 1.0 => :teal, 2.0 => :dodgerblue4)\n",
    "\n",
    "fig = Figure()\n",
    "ax = Axis(fig[1, 1], title = \"Simulations vs. Experiments: after calibration\")\n",
    "scatter!(ax, expdata_05C[:,1], expdata_05C[:,2], label = \"Experimental data 0.5C\", markersize = 15, color = colors[0.5])\n",
    "scatter!(ax, expdata_1C[:,1], expdata_1C[:,2], label = \"Experimental data 1C\", markersize = 15, color =colors[1.0])\n",
    "scatter!(ax, expdata_2C[:,1], expdata_2C[:,2], label = \"Experimental data 2C\", markersize = 15, color =colors[2.0])\n",
    "\n",
    "for CRate in CRates\n",
    "    #Setup and run simulation\n",
    "    cycling_protocol[\"DRate\"] = CRate\n",
    "    sim = Simulation(model_setup, cell_parameters_calibrated_high_rate, cycling_protocol)\n",
    "    output = solve(sim, info_level = -1)\n",
    "\n",
    "    #Get time series quantities from simulation result\n",
    "    t = output.time_series[\"Time\"]\n",
    "    V = output.time_series[\"Voltage\"]\n",
    "\n",
    "    #Plot simulation voltage response\n",
    "    lines!(ax, t, V, label = \"Simulation $CRate: after high-rate calibration\", color = colors[CRate])\n",
    "end  \n",
    "\n",
    "axislegend(position = :lb)\n",
    "fig"
   ]
  },
  {
   "cell_type": "markdown",
   "id": "a4b04500",
   "metadata": {},
   "source": [
    "Close all plotting windows"
   ]
  },
  {
   "cell_type": "code",
   "execution_count": null,
   "id": "948a3086",
   "metadata": {},
   "outputs": [],
   "source": [
    "GLMakie.closeall()"
   ]
  },
  {
   "cell_type": "markdown",
   "id": "a82c044a",
   "metadata": {},
   "source": [
    "## Part 4 - P4D Simulations"
   ]
  },
  {
   "cell_type": "markdown",
   "id": "0bc3cf6f",
   "metadata": {},
   "source": [
    "This example demonstrates how to set up, run and visualize a 3D cylindrical battery model. Let's first load the parameters.\n"
   ]
  },
  {
   "cell_type": "code",
   "execution_count": null,
   "id": "00f95d6d",
   "metadata": {},
   "outputs": [],
   "source": [
    "cell_parameters     = load_cell_parameters(; from_default_set = \"chen_2020\")\n",
    "cycling_protocol    = load_cycling_protocol(; from_default_set = \"cc_discharge\");"
   ]
  },
  {
   "cell_type": "markdown",
   "id": "7178f4ce",
   "metadata": {},
   "source": [
    "We adjust the parameters so that the simulation in this example is not too long (around a couple of minutes)"
   ]
  },
  {
   "cell_type": "code",
   "execution_count": null,
   "id": "18585bbf",
   "metadata": {},
   "outputs": [],
   "source": [
    "cell_parameters[\"Cell\"][\"OuterRadius\"] = 0.004 \n",
    "cell_parameters[\"NegativeElectrode\"][\"CurrentCollector\"][\"TabFractions\"] = [0.5] \n",
    "cell_parameters[\"PositiveElectrode\"][\"CurrentCollector\"][\"TabFractions\"] = [0.5] \n",
    "cell_parameters[\"NegativeElectrode\"][\"CurrentCollector\"][\"TabWidth\"]     = 0.002\n",
    "cell_parameters[\"PositiveElectrode\"][\"CurrentCollector\"][\"TabWidth\"]     = 0.002\n"
   ]
  },
  {
   "cell_type": "markdown",
   "id": "b9060a95",
   "metadata": {},
   "source": [
    "We also personalize the number of angular grid points to make the simulation a bit smaller."
   ]
  },
  {
   "cell_type": "code",
   "execution_count": null,
   "id": "86f33619",
   "metadata": {},
   "outputs": [],
   "source": [
    "simulation_settings = load_simulation_settings(; from_default_set = \"p4d_cylindrical\")\n",
    "simulation_settings[\"AngularGridPoints\"] = 8"
   ]
  },
  {
   "cell_type": "markdown",
   "id": "a882aacc",
   "metadata": {},
   "source": [
    "Instantiate the model for a P4D cylindrical simulation."
   ]
  },
  {
   "cell_type": "code",
   "execution_count": null,
   "id": "5bca921a",
   "metadata": {},
   "outputs": [],
   "source": [
    "model_settings      = load_model_settings(; from_default_set = \"p4d_cylindrical\")\n",
    "model = LithiumIonBattery(;model_settings);\n",
    "print_info(model_settings)"
   ]
  },
  {
   "cell_type": "markdown",
   "id": "e2e04d68",
   "metadata": {},
   "source": [
    "We setup the simulation and run it"
   ]
  },
  {
   "cell_type": "code",
   "execution_count": null,
   "id": "f38a9768",
   "metadata": {},
   "outputs": [],
   "source": [
    "\n",
    "sim = Simulation(model, cell_parameters, cycling_protocol; simulation_settings);\n",
    "output = solve(sim; info_level = -1);"
   ]
  },
  {
   "cell_type": "markdown",
   "id": "04014c4b",
   "metadata": {},
   "source": [
    "Let's plot the voltage and current profiles."
   ]
  },
  {
   "cell_type": "code",
   "execution_count": null,
   "id": "7d4bd061",
   "metadata": {},
   "outputs": [],
   "source": [
    "plot_dashboard(output; plot_type = \"simple\")"
   ]
  },
  {
   "cell_type": "markdown",
   "id": "1f2ad0d8",
   "metadata": {},
   "source": [
    "To show the results on the 3D geometry we have a really cool tool using Jutul that can be executed by the folowing function."
   ]
  },
  {
   "cell_type": "code",
   "execution_count": null,
   "id": "8a7aff92",
   "metadata": {},
   "outputs": [],
   "source": [
    "plot_interactive_3d(output; colormap = :curl)"
   ]
  }
 ],
 "metadata": {
  "kernelspec": {
   "display_name": "Julia 1.12.0",
   "language": "julia",
   "name": "julia-1.12"
  },
  "language_info": {
   "file_extension": ".jl",
   "mimetype": "application/julia",
   "name": "julia",
   "version": "1.12.0"
  }
 },
 "nbformat": 4,
 "nbformat_minor": 5
}
