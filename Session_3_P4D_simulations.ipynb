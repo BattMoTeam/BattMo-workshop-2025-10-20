{
 "cells": [
  {
   "cell_type": "markdown",
   "id": "b74ca38d",
   "metadata": {},
   "source": [
    "# Session 3 - P4D Simulations"
   ]
  },
  {
   "cell_type": "markdown",
   "id": "ff0fa504",
   "metadata": {},
   "source": [
    "Let's import BattMo and some other packages into the kernel."
   ]
  },
  {
   "cell_type": "code",
   "execution_count": null,
   "id": "93c42093",
   "metadata": {},
   "outputs": [],
   "source": [
    "using BattMo, GLMakie, Jutul\n",
    "\n",
    "GLMakie.activate!(inline=false)"
   ]
  },
  {
   "cell_type": "markdown",
   "id": "3dd8f3da",
   "metadata": {},
   "source": [
    "## Cylindrical cell"
   ]
  },
  {
   "cell_type": "markdown",
   "id": "cba822fa",
   "metadata": {},
   "source": [
    "This example demonstrates how to set up, run and visualize a 3D cylindrical battery model. Let's first load the parameters and settings that we need and instantiate the model setup.\n"
   ]
  },
  {
   "cell_type": "code",
   "execution_count": null,
   "id": "41b76073",
   "metadata": {},
   "outputs": [],
   "source": [
    "cell_parameters     = load_cell_parameters(; from_default_set = \"chen_2020\")\n",
    "cycling_protocol    = load_cycling_protocol(; from_default_set = \"cc_discharge\")\n",
    "model_settings      = load_model_settings(; from_default_set = \"p4d_cylindrical\")\n",
    "simulation_settings = load_simulation_settings(; from_default_set = \"p4d_cylindrical\")\n",
    "\n",
    "model_setup = LithiumIonBattery(; model_settings)"
   ]
  },
  {
   "cell_type": "markdown",
   "id": "dcf93f30",
   "metadata": {},
   "source": [
    "Let's review and modify the cell parameters. We go through some of the geometrical and discretization parameters. We modify some of them to obtain a cell where the different components are easier to visualize"
   ]
  },
  {
   "cell_type": "code",
   "execution_count": null,
   "id": "4c81ca44",
   "metadata": {},
   "outputs": [],
   "source": [
    "cell_parameters[\"Cell\"][\"OuterRadius\"] = 0.010 "
   ]
  },
  {
   "cell_type": "markdown",
   "id": "aadb7b9e",
   "metadata": {},
   "source": [
    "We modify the current collector thicknesses, for visualization purpose"
   ]
  },
  {
   "cell_type": "code",
   "execution_count": null,
   "id": "c25e05f3",
   "metadata": {},
   "outputs": [],
   "source": [
    "cell_parameters[\"NegativeElectrode\"][\"CurrentCollector\"][\"Thickness\"]    = 50e-6\n",
    "cell_parameters[\"PositiveElectrode\"][\"CurrentCollector\"][\"Thickness\"]    = 50e-6"
   ]
  },
  {
   "cell_type": "markdown",
   "id": "9d018bfc",
   "metadata": {},
   "source": [
    "The tabs are part of the current collectors that connect the electrodes to the external circuit. The location of the tabs is given as a fraction length, where the length is measured along the current collector in the horizontal direction, meaning that we follow the rolling spiral. Indeed, this is the relevant length to use if we want to dispatch the current collector in a equilibrated way, where each of them will a priori collect the same amount of current. In the following, we include three tabs with one in the middle and the other at a distance such that each tab will collect one third of the current."
   ]
  },
  {
   "cell_type": "code",
   "execution_count": null,
   "id": "d497017e",
   "metadata": {},
   "outputs": [],
   "source": [
    "cell_parameters[\"NegativeElectrode\"][\"CurrentCollector\"][\"TabFractions\"] = [0.5/3, 0.5, 0.5 + 0.5/3] \n",
    "cell_parameters[\"PositiveElectrode\"][\"CurrentCollector\"][\"TabFractions\"] = [0.5/3, 0.5, 0.5 + 0.5/3]"
   ]
  },
  {
   "cell_type": "markdown",
   "id": "60b758fe",
   "metadata": {},
   "source": [
    "We set the tab width to 2 mm."
   ]
  },
  {
   "cell_type": "code",
   "execution_count": null,
   "id": "aae0d9d4",
   "metadata": {},
   "outputs": [],
   "source": [
    "cell_parameters[\"NegativeElectrode\"][\"CurrentCollector\"][\"TabWidth\"] = 0.002\n",
    "cell_parameters[\"PositiveElectrode\"][\"CurrentCollector\"][\"TabWidth\"] = 0.002"
   ]
  },
  {
   "cell_type": "markdown",
   "id": "2883d8f9",
   "metadata": {},
   "source": [
    "The angular discretization of the cell is determined by the number of angular grid points."
   ]
  },
  {
   "cell_type": "code",
   "execution_count": null,
   "id": "6c4202e0",
   "metadata": {},
   "outputs": [],
   "source": [
    "simulation_settings[\"AngularGridPoints\"] = 30"
   ]
  },
  {
   "cell_type": "markdown",
   "id": "1d006ca5",
   "metadata": {},
   "source": [
    "Create the simulation object."
   ]
  },
  {
   "cell_type": "code",
   "execution_count": null,
   "id": "30c4286a",
   "metadata": {},
   "outputs": [],
   "source": [
    "sim = Simulation(model_setup, cell_parameters, cycling_protocol; simulation_settings);"
   ]
  },
  {
   "cell_type": "markdown",
   "id": "8b84cf12",
   "metadata": {},
   "source": [
    "We preprocess the simulation object to retrieve the grids and coupling structure, which we want to visualize prior running the simulation."
   ]
  },
  {
   "cell_type": "code",
   "execution_count": null,
   "id": "1245734f",
   "metadata": {},
   "outputs": [],
   "source": [
    "grids     = sim.grids\n",
    "couplings = sim.couplings"
   ]
  },
  {
   "cell_type": "markdown",
   "id": "811188de",
   "metadata": {},
   "source": [
    "#### Plotting the grid"
   ]
  },
  {
   "cell_type": "markdown",
   "id": "9c38742f",
   "metadata": {},
   "source": [
    "Let's visualize the grids and couplings. Define a list of the component to iterate over in the ploting routin below."
   ]
  },
  {
   "cell_type": "code",
   "execution_count": null,
   "id": "98d08761",
   "metadata": {},
   "outputs": [],
   "source": [
    "components = [\"NegativeElectrode\", \"PositiveElectrode\", \"NegativeCurrentCollector\", \"PositiveCurrentCollector\" ]\n",
    "colors = [:gray, :green, :blue, :black]"
   ]
  },
  {
   "cell_type": "markdown",
   "id": "5587305e",
   "metadata": {},
   "source": [
    "We plot the components."
   ]
  },
  {
   "cell_type": "code",
   "execution_count": null,
   "id": "05bf1d2d",
   "metadata": {},
   "outputs": [],
   "source": [
    "for (i, component) in enumerate(components)\n",
    "    if i == 1\n",
    "        global fig, ax = plot_mesh(grids[component],\n",
    "                            color = colors[i])\n",
    "    else\n",
    "        plot_mesh!(ax,\n",
    "                   grids[component],\n",
    "                   color = colors[i])\n",
    "    end\n",
    "end\n",
    "fig"
   ]
  },
  {
   "cell_type": "markdown",
   "id": "c08ad490",
   "metadata": {},
   "source": [
    "We plot the tabs, which couple the current collectors with the external circuits. The tabs will typically protude from the cell in the vertical directions but we can neglect this 3d feature in the simulation model. The tabs are then represented by horizontal faces at the top or bottom of the current collectors. In the figure below, they are plotted in red."
   ]
  },
  {
   "cell_type": "code",
   "execution_count": null,
   "id": "70bfb6d5",
   "metadata": {},
   "outputs": [],
   "source": [
    "components = [\n",
    "    \"NegativeCurrentCollector\",\n",
    "    \"PositiveCurrentCollector\"\n",
    "]\n",
    "\n",
    "for component in components\n",
    "    plot_mesh!(ax, grids[component];\n",
    "               boundaryfaces = couplings[component][\"External\"][\"boundaryfaces\"],\n",
    "               color = :red)\n",
    "end\n",
    "\n",
    "fig #hide\n",
    "\n",
    "ax.azimuth[] = 4.0\n",
    "ax.elevation[] = 1.56\n",
    "\n",
    "fig"
   ]
  },
  {
   "cell_type": "markdown",
   "id": "0d268244",
   "metadata": {},
   "source": [
    "#### Simulation"
   ]
  },
  {
   "cell_type": "markdown",
   "id": "f166f4c9",
   "metadata": {},
   "source": [
    "We reload the original parameters"
   ]
  },
  {
   "cell_type": "code",
   "execution_count": null,
   "id": "97cd90ac",
   "metadata": {},
   "outputs": [],
   "source": [
    "cell_parameters     = load_cell_parameters(; from_default_set = \"chen_2020\")\n",
    "cycling_protocol    = load_cycling_protocol(; from_default_set = \"cc_discharge\")\n",
    "model_settings      = load_model_settings(; from_default_set = \"p4d_cylindrical\")\n",
    "simulation_settings = load_simulation_settings(; from_default_set = \"p4d_cylindrical\")"
   ]
  },
  {
   "cell_type": "markdown",
   "id": "fa36b31a",
   "metadata": {},
   "source": [
    "We adjust the parameters so that the simulation in this example is not too long (around a couple of minutes)"
   ]
  },
  {
   "cell_type": "code",
   "execution_count": null,
   "id": "75a20b61",
   "metadata": {},
   "outputs": [],
   "source": [
    "cell_parameters[\"Cell\"][\"OuterRadius\"] = 0.004 \n",
    "cell_parameters[\"NegativeElectrode\"][\"CurrentCollector\"][\"TabFractions\"] = [0.5] \n",
    "cell_parameters[\"PositiveElectrode\"][\"CurrentCollector\"][\"TabFractions\"] = [0.5] \n",
    "cell_parameters[\"NegativeElectrode\"][\"CurrentCollector\"][\"TabWidth\"]     = 0.002\n",
    "cell_parameters[\"PositiveElectrode\"][\"CurrentCollector\"][\"TabWidth\"]     = 0.002\n",
    "simulation_settings[\"AngularGridPoints\"] = 8"
   ]
  },
  {
   "cell_type": "markdown",
   "id": "1329dc7f",
   "metadata": {},
   "source": [
    "We setup the simulation and run it"
   ]
  },
  {
   "cell_type": "code",
   "execution_count": null,
   "id": "1a19b4a4",
   "metadata": {},
   "outputs": [],
   "source": [
    "sim = Simulation(model_setup, cell_parameters, cycling_protocol; simulation_settings);\n",
    "output = solve(sim; info_level = -1);"
   ]
  },
  {
   "cell_type": "markdown",
   "id": "ede84957",
   "metadata": {},
   "source": [
    "#### Visualize results"
   ]
  },
  {
   "cell_type": "markdown",
   "id": "6fcd928b",
   "metadata": {},
   "source": [
    "Let's plot the voltage and current profiles."
   ]
  },
  {
   "cell_type": "code",
   "execution_count": null,
   "id": "981a8fea",
   "metadata": {},
   "outputs": [],
   "source": [
    "plot_dashboard(output; plot_type = \"simple\")"
   ]
  },
  {
   "cell_type": "markdown",
   "id": "fce8da1b",
   "metadata": {},
   "source": [
    "To show the results on the 3D geometry we have a really cool tool using Jutul that can be executed by the folowing function."
   ]
  },
  {
   "cell_type": "code",
   "execution_count": null,
   "id": "18f7f89b",
   "metadata": {},
   "outputs": [],
   "source": [
    "plot_interactive_3d(output; colormap = :curl)"
   ]
  },
  {
   "cell_type": "markdown",
   "id": "5eef8e79",
   "metadata": {},
   "source": [
    "## Pouch cell"
   ]
  },
  {
   "cell_type": "markdown",
   "id": "b25fe437",
   "metadata": {},
   "source": [
    "- C : electrolyte concentration\n",
    "- Cp: particle concentration\n",
    "- Cs: surface concentration\n",
    "- Phi: potential"
   ]
  },
  {
   "cell_type": "code",
   "execution_count": null,
   "id": "15bc12dc",
   "metadata": {},
   "outputs": [],
   "source": [
    "cell_parameters = load_cell_parameters(; from_default_set = \"xu_2015\")\n"
   ]
  },
  {
   "cell_type": "code",
   "execution_count": null,
   "id": "d7a8ebda",
   "metadata": {},
   "outputs": [],
   "source": [
    "\n",
    "cycling_protocol = load_cycling_protocol(; from_default_set = \"cc_discharge\")\n",
    "model_settings = load_model_settings(; from_default_set = \"p4d_pouch\")\n",
    "simulation_settings = load_simulation_settings(; from_default_set = \"p4d_pouch\")\n",
    "\n",
    "model_setup = LithiumIonBattery(; model_settings)\n",
    "\n",
    "sim = Simulation(model_setup, cell_parameters, cycling_protocol; simulation_settings);\n",
    "output = solve(sim)\n",
    "\n",
    "plot_interactive_3d(output; colormap = :curl)"
   ]
  }
 ],
 "metadata": {
  "kernelspec": {
   "display_name": "Julia 1.12.0",
   "language": "julia",
   "name": "julia-1.12"
  },
  "language_info": {
   "file_extension": ".jl",
   "mimetype": "application/julia",
   "name": "julia",
   "version": "1.12.0"
  }
 },
 "nbformat": 4,
 "nbformat_minor": 5
}
