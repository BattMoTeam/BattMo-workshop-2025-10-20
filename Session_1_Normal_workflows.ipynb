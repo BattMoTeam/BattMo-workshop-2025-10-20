{
 "cells": [
  {
   "cell_type": "markdown",
   "id": "6d981bdd",
   "metadata": {},
   "source": [
    "# Session 1 - Normal Workflows\n",
    "\n",
    "---\n",
    "* Time: run all first time: ~ 3.5 minutes\n",
    "* Time: run second time: ~ 1 minute\n",
    "* Time: run and read step by step: ~ 40 minutes\n",
    "\n",
    "---"
   ]
  },
  {
   "cell_type": "markdown",
   "id": "e9348fcd",
   "metadata": {},
   "source": [
    "In this tutorial we'll explore some normal workflows that require a bit more advanced use than the Hello BattMo tutorial. Within this tutorial you will:\n",
    "- Learn how to create your own parameter sets\n",
    "- Simulate a WLTP drive cycle to learn how to define your own parameter functions\n",
    "- Implement electrode balancing to a simulation\n",
    "- Investigate the influence of the reaction rate and diffusion coefficient on cell performance\n",
    "\n",
    "Let's begin with importing BattMo and GLMakie."
   ]
  },
  {
   "cell_type": "code",
   "execution_count": null,
   "id": "03c39643",
   "metadata": {},
   "outputs": [],
   "source": [
    "using BattMo, GLMakie\n",
    "\n",
    "GLMakie.activate!(inline=true) # Plotting figures will be rendered within the notebook"
   ]
  },
  {
   "cell_type": "markdown",
   "id": "7d2496d2",
   "metadata": {},
   "source": [
    "## Part 1 - Create your own parameter sets"
   ]
  },
  {
   "cell_type": "markdown",
   "id": "f67db987",
   "metadata": {},
   "source": [
    "This part of the tutorial walks you through the process of creating and customizing your own cell parameter sets in BattMo.jl. Cell parameter sets define the physical and chemical properties of the battery system you're simulating. You can build them from scratch using your model setup, modify them, and save them for future use.\n",
    "\n",
    "The difficulty with setting up your own input parameters are that it's often not very clear which parameters you need for which submodel combination. In BattMo we have created a handy system to assist you in this process and bring more clearity in the parameter-model relations. We do this by providing functions that create empty parameter sets containing the required parameters based on the user's defined model setup.\n",
    "\n",
    "Let's get into it!"
   ]
  },
  {
   "cell_type": "markdown",
   "id": "9c22928a",
   "metadata": {},
   "source": [
    "### Step 1 - Initiate a model setup"
   ]
  },
  {
   "cell_type": "markdown",
   "id": "aafc3e3a",
   "metadata": {},
   "source": [
    "First, define the battery model configuration you'd like to use. This will serve as the template for generating your parameter set. Model settings specify the submodels that the user would like to be included within the simulation. Have a quick look into the submodels that you can configure by running the following function."
   ]
  },
  {
   "cell_type": "code",
   "execution_count": null,
   "id": "1cc29256",
   "metadata": {},
   "outputs": [],
   "source": [
    "print_submodels_info()"
   ]
  },
  {
   "cell_type": "markdown",
   "id": "2e5bdfa3",
   "metadata": {},
   "source": [
    "Let's say we'd like to setup our own cell parameter set that includes parameters for a P2D simulation including SEI growth. Then we first configure the model. We can start from the default P2D model settings."
   ]
  },
  {
   "cell_type": "code",
   "execution_count": null,
   "id": "b9a2c147",
   "metadata": {},
   "outputs": [],
   "source": [
    "model_settings = load_model_settings(; from_file_path= \"default_sets/model_settings/P2D.json\")"
   ]
  },
  {
   "cell_type": "markdown",
   "id": "609da4d6",
   "metadata": {},
   "source": [
    "We can see that these settings don't include the SEI model. So let's add it. We can then instantiate the lithium ion battery model setup and see if our model settings are valid."
   ]
  },
  {
   "cell_type": "code",
   "execution_count": null,
   "id": "f808e9cb",
   "metadata": {},
   "outputs": [],
   "source": [
    "\n",
    "model_settings[\"SEIModel\"] = \"Bolay\"\n",
    "\n",
    "model_setup = LithiumIonBattery(; model_settings)"
   ]
  },
  {
   "cell_type": "markdown",
   "id": "ae39944a",
   "metadata": {},
   "source": [
    "### Step 2 - load an empty parameter set"
   ]
  },
  {
   "cell_type": "markdown",
   "id": "01d9a7ec",
   "metadata": {},
   "source": [
    "Next, create an empty parameter dictionary based on your model setup. This will include all the required keys but without any values filled in."
   ]
  },
  {
   "cell_type": "code",
   "execution_count": null,
   "id": "92931cfd",
   "metadata": {},
   "outputs": [],
   "source": [
    "empty_cell_parameter_set = load_cell_parameters(; from_model_template = model_setup)"
   ]
  },
  {
   "cell_type": "markdown",
   "id": "05bc1d4b",
   "metadata": {},
   "source": [
    "### Step 3 - Save the empty set to a JSON file"
   ]
  },
  {
   "cell_type": "markdown",
   "id": "423fbf61",
   "metadata": {},
   "source": [
    "You can now write this empty set to a JSON file so you can alter it and reuse it later on. "
   ]
  },
  {
   "cell_type": "code",
   "execution_count": null,
   "id": "264779e3",
   "metadata": {},
   "outputs": [],
   "source": [
    "file_path = \"my_custom_parameters.json\"\n",
    "write_to_json_file(file_path, empty_cell_parameter_set)"
   ]
  },
  {
   "cell_type": "markdown",
   "id": "b78e5e92",
   "metadata": {},
   "source": [
    "### Step 4 - Let BattMo help you fill the empty set"
   ]
  },
  {
   "cell_type": "markdown",
   "id": "b104210c",
   "metadata": {},
   "source": [
    "If you're unsure about what a specific parameter means or how it should be formatted, BattMo provides a helpful function to inspect any parameter."
   ]
  },
  {
   "cell_type": "code",
   "execution_count": null,
   "id": "eaa98ea7",
   "metadata": {},
   "outputs": [],
   "source": [
    "print_parameter_info(\"OpenCircuitPotential\")"
   ]
  },
  {
   "cell_type": "code",
   "execution_count": null,
   "id": "1bcf15a5",
   "metadata": {},
   "outputs": [],
   "source": [
    "print_parameter_info(\"concentration\")"
   ]
  },
  {
   "cell_type": "markdown",
   "id": "978c4076",
   "metadata": {},
   "source": [
    "The automatic validation when initiating the Simulation object can help you keep track of your progress on filling in the parameter values and find any values that are unrealistic."
   ]
  },
  {
   "cell_type": "code",
   "execution_count": null,
   "id": "02c4e614",
   "metadata": {},
   "outputs": [],
   "source": [
    "cell_parameters = load_cell_parameters(; from_file_path= \"my_custom_parameters.json\")\n",
    "\n",
    "\n",
    "sim = Simulation(model_setup, cell_parameters, load_cycling_protocol(;from_default_set= \"CCDischarge\"));"
   ]
  },
  {
   "cell_type": "markdown",
   "id": "ba8c1289",
   "metadata": {},
   "source": [
    "Now you know how you can create your own input files! "
   ]
  },
  {
   "cell_type": "markdown",
   "id": "b8f66bfc",
   "metadata": {},
   "source": [
    "## Part 2 - Create your own parameter function"
   ]
  },
  {
   "cell_type": "markdown",
   "id": "efd81f7c",
   "metadata": {},
   "source": [
    "For some parameters you can define you own function in a Julia script and pass it to BattMo. This is available for the following parameters:\n",
    "\n",
    "**Cell parameters**\n",
    "- OpenCircuitPotential (negative and positive electrode)\n",
    "- DiffusionCoefficient (electrolyte)\n",
    "- Conductivity (electrolyte)\n",
    "\n",
    "**Cycling protocol parameters**\n",
    "- Current\n",
    "\n",
    "Let have a look into how we can implement this."
   ]
  },
  {
   "cell_type": "markdown",
   "id": "449f2cda",
   "metadata": {},
   "source": [
    " ### Cell parameters"
   ]
  },
  {
   "cell_type": "markdown",
   "id": "e8c1008d",
   "metadata": {},
   "source": [
    "For the cell parameters we can have a look at the default cell parameter set \"Xu2015.json\". Open this parameter set and have a look at how the open circuit potential is defined."
   ]
  },
  {
   "cell_type": "code",
   "execution_count": null,
   "id": "592dba90",
   "metadata": {},
   "outputs": [],
   "source": [
    "cell_parameters = load_cell_parameters(; from_file_path = \"default_sets/cell_parameters/Xu2015.json\")\n",
    "\n",
    "cell_parameters[\"NegativeElectrode\"][\"ActiveMaterial\"][\"OpenCircuitPotential\"]"
   ]
  },
  {
   "cell_type": "markdown",
   "id": "3da67df2",
   "metadata": {},
   "source": [
    "We can see that the OpenCircuitPotential in this case has a value of type Dict containing the following keys:\n",
    "- **FilePath**: the path to the julia script containing the function (relative to the json file)\n",
    "- **FunctionName**: the name of the function\n",
    "\n",
    "When running a simulation, BattMo will be able to access the julia script and import the functions defined within that script into the name space so that they can be used for calculating the quantity internally.\n",
    "\n",
    "An even easier way to do it is to define a function, doesn't matter where, and import it into Main which is the namespace that BattMo can access during a simulation. You can then either define the function within the main script that you're running or define it in a separate script and include that script into your main script.\n",
    "\n",
    "Let's go through a fun example for setting up your own current function to see how you put this into practice."
   ]
  },
  {
   "cell_type": "markdown",
   "id": "c5bc3289",
   "metadata": {},
   "source": [
    "### Current function"
   ]
  },
  {
   "cell_type": "markdown",
   "id": "05d329f2",
   "metadata": {},
   "source": [
    "For this example we'll use Worldwide harmonized Light vehicles Test Procedure (WLTP) drive cycle data that is stored within \"wltp_data/wltp.csv\". In order to create a current function from this data we'll have to undergo a couple of steps:\n",
    "1. Read the time and power data from the CSV.\n",
    "2. Create an interpolation object from the data.\n",
    "3. Define a function that returns the current calculated from the interpolated object.\n",
    "4. Import the function into the Main module.\n",
    "\n",
    "The following code describes these four steps. Running this script will create the function and import it into Main so that BattMo can access it. If you'd like more structure in your files or keep the input functions separate from your main script, you can define the code into a separate Julia file and use `include(\"curren_function_script.jl\")` to import the function into you main script."
   ]
  },
  {
   "cell_type": "code",
   "execution_count": null,
   "id": "aff7e225",
   "metadata": {},
   "outputs": [],
   "source": [
    "####################################################################################################\n",
    "# An example of a user defined current function using WLTP data from https://github.com/JRCSTU/wltp\n",
    "\n",
    "using CSV:CSV\n",
    "using DataFrames\n",
    "using Jutul:Jutul\n",
    "\n",
    "# 1. Read data\n",
    "path = joinpath(@__DIR__, \"data\",\"wltp.csv\")\n",
    "df = CSV.read(path, DataFrame)\n",
    "\n",
    "t = df[:, 1]\n",
    "P = df[:, 2]\n",
    "\n",
    "\n",
    "# 2. Use a Jutul interpolator to create an interpolation object of the time and power data\n",
    "power_func = Jutul.get_1d_interpolator(t, P, cap_endpoints = false)\n",
    "\n",
    "\n",
    "# 3. Define a function to calculate the current. The current function has to accept time and voltage as arguments.\n",
    "function wltp_current(time, voltage)\n",
    "\n",
    "\tfactor = 4000 # Tot account for the fact that we're simulating a single cell instead of a battery pack\n",
    "\n",
    "\treturn power_func(time) / voltage / factor\n",
    "end\n",
    "\n",
    "\n",
    "# 4. Import the function into Main\n",
    "@eval Main wltp_current = $wltp_current"
   ]
  },
  {
   "cell_type": "markdown",
   "id": "22dbbb53",
   "metadata": {},
   "source": [
    "Now that we have imported our function into Main, we need to create a cycling protocol parameter file that passes the function name to BattMo. The cycling protocols in BattMo are categorized by the parameter \"Protocol\". Let's get a bit more information on the parameter."
   ]
  },
  {
   "cell_type": "code",
   "execution_count": null,
   "id": "686da7ec",
   "metadata": {},
   "outputs": [],
   "source": [
    "print_parameter_info(\"Protocol\")"
   ]
  },
  {
   "cell_type": "markdown",
   "id": "4846d663",
   "metadata": {},
   "source": [
    "We can see that the paramater Protocol can have three different values: CC, CCCV, or Function. In our case, we want to define our own current function so we'll need to specify Protocol as \"Function\". Let's use the default cycling protocol parameter set \"user_defined_current_function.json\" and adapt it to our case."
   ]
  },
  {
   "cell_type": "code",
   "execution_count": null,
   "id": "e1df18a6",
   "metadata": {},
   "outputs": [],
   "source": [
    "current_function = load_cycling_protocol(; from_file_path = \"default_sets/cycling_protocols/user_defined_current_function.json\")"
   ]
  },
  {
   "cell_type": "markdown",
   "id": "bb6a7f0e",
   "metadata": {},
   "source": [
    "We need to change the function name. The other parameters we can leave them as they are for now."
   ]
  },
  {
   "cell_type": "code",
   "execution_count": null,
   "id": "984a8512",
   "metadata": {},
   "outputs": [],
   "source": [
    "current_function[\"FunctionName\"] = \"wltp_current\""
   ]
  },
  {
   "cell_type": "markdown",
   "id": "6cd2e935",
   "metadata": {},
   "source": [
    "We can now write the altered cycling protocol data to a new json file so that we can reuse it in the future."
   ]
  },
  {
   "cell_type": "code",
   "execution_count": null,
   "id": "3d7c3484",
   "metadata": {},
   "outputs": [],
   "source": [
    "file_path = \"default_sets/cycling_protocols/wltp_protocol.json\"\n",
    "write_to_json_file(file_path, current_function)"
   ]
  },
  {
   "cell_type": "markdown",
   "id": "e7612463",
   "metadata": {},
   "source": [
    "Now we can run a simulation using the json file we just created as input for the cycling protocol"
   ]
  },
  {
   "cell_type": "code",
   "execution_count": null,
   "id": "6f1ad024",
   "metadata": {},
   "outputs": [],
   "source": [
    "\n",
    "cell_parameters = load_cell_parameters(; from_file_path = \"default_sets/cell_parameters/Chen2020.json\")\n",
    "cycling_protocol = load_cycling_protocol(; from_file_path= \"default_sets/cycling_protocols/wltp_protocol.json\")\n",
    "\n",
    "model_setup = LithiumIonBattery()\n",
    "\n",
    "sim = Simulation(model_setup, cell_parameters, cycling_protocol);\n",
    "\n",
    "output = solve(sim);\n",
    "\n",
    "plot_dashboard(output)"
   ]
  },
  {
   "cell_type": "markdown",
   "id": "1bbbb8b8",
   "metadata": {},
   "source": [
    "We can see that the output curves don't look smooth at all. Probably our time resolution isn't small enough. Let's look into changing the simulation setting that determines this. We can print the time related settings to find the right setting that we need to alter."
   ]
  },
  {
   "cell_type": "code",
   "execution_count": null,
   "id": "09eb4f5c",
   "metadata": {},
   "outputs": [],
   "source": [
    "print_setting_info(\"time\")"
   ]
  },
  {
   "cell_type": "markdown",
   "id": "bdf96bd6",
   "metadata": {},
   "source": [
    "We can see that the time step duration is the one we need. Until now, we have only used the default simulation settings. Let's see what the default value of the \"TimeStepDuration\" is."
   ]
  },
  {
   "cell_type": "code",
   "execution_count": null,
   "id": "35cbcd2e",
   "metadata": {},
   "outputs": [],
   "source": [
    "sim.settings[\"TimeStepDuration\"]"
   ]
  },
  {
   "cell_type": "markdown",
   "id": "f0846a0f",
   "metadata": {},
   "source": [
    "It is equal to 50 seconds. Let's refine the time resolution and set it to 1 second. We need to load the default simulation settings first."
   ]
  },
  {
   "cell_type": "code",
   "execution_count": null,
   "id": "a4ef52b1",
   "metadata": {},
   "outputs": [],
   "source": [
    "simulation_settings = load_simulation_settings(; from_file_path = \"default_sets/simulation_settings/P2D.json\")\n",
    "simulation_settings[\"TimeStepDuration\"] = 1"
   ]
  },
  {
   "cell_type": "markdown",
   "id": "962b4def",
   "metadata": {},
   "source": [
    "We can pass the simulation settings to the Simulation object and run the new simulation."
   ]
  },
  {
   "cell_type": "code",
   "execution_count": null,
   "id": "19b40d53",
   "metadata": {},
   "outputs": [],
   "source": [
    "sim = Simulation(model_setup, cell_parameters, cycling_protocol; simulation_settings);\n",
    "\n",
    "output = solve(sim);\n",
    "\n",
    "plot_dashboard(output)\n"
   ]
  },
  {
   "cell_type": "markdown",
   "id": "ed43011f",
   "metadata": {},
   "source": [
    "## Part 3 - Electrode balancing"
   ]
  },
  {
   "cell_type": "markdown",
   "id": "c53d9ae4",
   "metadata": {},
   "source": [
    "In this tutorial, we will study the effects that electrode thicknesses have over the power delivered by a cell. Power capability is usually determined from the\n",
    "loss in capacity when cycling the cell at higher rates. We will compare the effects of thickness on the power delivery of a cell. Let's load some default parameter sets and model settings."
   ]
  },
  {
   "cell_type": "code",
   "execution_count": null,
   "id": "d589a71e",
   "metadata": {},
   "outputs": [],
   "source": [
    "cell_parameters = load_cell_parameters(; from_file_path = \"default_sets/cell_parameters/Chen2020.json\")\n",
    "cc_discharge_protocol = load_cycling_protocol(; from_file_path = \"default_sets/cycling_protocols/CCDischarge.json\")\n",
    "\n",
    "model_setup = LithiumIonBattery()"
   ]
  },
  {
   "cell_type": "markdown",
   "id": "036ec9d7",
   "metadata": {},
   "source": [
    "We will change the thickness of the positive electrode, and evaluate the cell capacity at different CRates. Lets define the DRates to use and the range of thicknesses to explore."
   ]
  },
  {
   "cell_type": "code",
   "execution_count": null,
   "id": "b29c7801",
   "metadata": {},
   "outputs": [],
   "source": [
    "d_rates = [0.05, 0.1, 0.2, 0.5, 1.0, 2.0, 2.5]\n",
    "thicknesses = range(8.0e-5, 11.0e-5, length = 9)"
   ]
  },
  {
   "cell_type": "markdown",
   "id": "e045f89a",
   "metadata": {},
   "source": [
    "Now we loop through both DRates and thicknesses to run a simulation for each combination. For each simulation, we will calculate the discharge capacity, and store it for plotting."
   ]
  },
  {
   "cell_type": "code",
   "execution_count": null,
   "id": "f5b486be",
   "metadata": {},
   "outputs": [],
   "source": [
    "power_rates = []\n",
    "np_ratios = []\n",
    "\n",
    "for thickness in thicknesses\n",
    "\n",
    "\tcapacities = []\n",
    "\t\n",
    "\tcell_parameters[\"NegativeElectrode\"][\"Coating\"][\"Thickness\"] = thickness\n",
    "\tn_to_p_ratio = compute_np_ratio(cell_parameters)\n",
    "\tpush!(np_ratios, n_to_p_ratio)\n",
    "\n",
    "\tfor d_rate in d_rates\n",
    "\n",
    "\t\tcc_discharge_protocol[\"DRate\"] = d_rate\n",
    "\t\tsim = Simulation(model_setup, cell_parameters, cc_discharge_protocol)\n",
    "\t\tprint(\"###### Simulation of thickness $thickness | d_rate $d_rate #########\")\n",
    "\t\toutput = solve(sim; info_level = -1)\n",
    "\n",
    "\t\tif length(output.states[\"Time\"]) > 0 # if simulation is successful\n",
    "\t\t\tdischarge_capacity = output.metrics[\"DischargeCapacity\"][1]\n",
    "\t\t\tpush!(capacities, discharge_capacity)\n",
    "\t\telse\n",
    "\t\t\tpush!(capacities, 0.0)\n",
    "\t\tend\n",
    "\tend\n",
    "\tpush!(power_rates, (thickness = thickness, d_rates = d_rates, capacities = capacities, np_ratios = n_to_p_ratio))\n",
    "end"
   ]
  },
  {
   "cell_type": "markdown",
   "id": "345cb5f4",
   "metadata": {},
   "source": [
    "Now we plot capacities vs Drate at different thicknesses of the negative electrode:"
   ]
  },
  {
   "cell_type": "code",
   "execution_count": null,
   "id": "41411f7e",
   "metadata": {},
   "outputs": [],
   "source": [
    "fig = Figure(size = (1000, 400))\n",
    "ax = Axis(fig[1, 1], title = \"Power capability vs Thickness of Negative Electrode\",\n",
    "          xlabel = \"DRate\", ylabel = \"Capacity  /  Ah\")\n",
    "\n",
    "colors = resample_cmap(:managua, length(power_rates))\n",
    "\n",
    "for (i, experiment) in enumerate(power_rates)\n",
    "    label_str = lowercase(string(experiment.thickness*10^6))  # Scientific notation as string\n",
    "    lines!(ax, experiment.d_rates, experiment.capacities, label = label_str, color=colors[i], linewidth = 5)\n",
    "end\n",
    "\n",
    "fig[1, 2] = Legend(fig, ax, \"Thicknesses /  μm\", framevisible = false)\n",
    "fig\n"
   ]
  },
  {
   "cell_type": "markdown",
   "id": "bcf652fd",
   "metadata": {},
   "source": [
    "We can observe in the plot the following feature:\n",
    "* The cell capacity at low DRates grows quite linerarly with the thickness of the negative electrode up to a point. \n",
    "    * The capacity of the negative electrode at thicknesses below 105 um is lower than for the positive electrode. Therefore any increase in negative electrode thickness will increase the overall cell capacity.\n",
    "    * However, then the thickness of the negative electrode surpass 105 um, additional thickness increase will not translate in additional cell capacity, as the positive electrode capacity becomes the limiting.\n",
    "\n",
    "The interplay between electrode thicknesses and capacities can be better visualized if we plot the N:P ratios instead of the thicknesses. Lets do this below:"
   ]
  },
  {
   "cell_type": "code",
   "execution_count": null,
   "id": "e3cf2178",
   "metadata": {},
   "outputs": [],
   "source": [
    "fig = Figure(size = (600, 400))\n",
    "ax = Axis(fig[1, 1], title = \"Power capability vs Thickness of Negative Electrode\",\n",
    "          xlabel = \"DRate\", ylabel = \"Capacity  /  Ah\")\n",
    "\n",
    "colors = resample_cmap(:managua, length(power_rates))\n",
    "\n",
    "for (i, experiment) in enumerate(power_rates)\n",
    "    label_str = lowercase(string(round(experiment.np_ratios, digits=2)))  # Scientific notation as string\n",
    "    lines!(ax, experiment.d_rates, experiment.capacities, label = label_str, color=colors[i], linewidth = 5)\n",
    "end\n",
    "\n",
    "fig[1, 2] = Legend(fig, ax, \"N/P ratio\", framevisible = false)\n",
    "fig"
   ]
  },
  {
   "cell_type": "markdown",
   "id": "754544d0",
   "metadata": {},
   "source": [
    "As the N:P ratio slightly exceeds 1.0, the cell capacity at low rate saturates. The saturation does not occur at NP=1.0 exactly, but slightly above 1.1. We think that thickness changes affect the alignment of half-cell OCPs, leading to an actual capacity that differs from that predicted solely by stoichiometric ranges and thicknesses.\n",
    "\n",
    "At higher rates, we also observe:\n",
    "* Cell capacities decrease, as overpotentials cause the lower potential limit to be reached before full capacity is delivered.\n",
    "* This decrease is more pronounced with increasing NP ratios. Thicker electrodes extend the Li⁺ diffusion path within the porous structure, raising transport overpotentials and causing earlier cutoff."
   ]
  },
  {
   "cell_type": "markdown",
   "id": "4d74c57a",
   "metadata": {},
   "source": [
    "## Part 4 - Rate capability"
   ]
  },
  {
   "cell_type": "markdown",
   "id": "39432308",
   "metadata": {},
   "source": [
    "In this part we will compare the effect that the reaction rate values have on cell performance. Lets start again with loading some pre-defined cell parameters and cycling protocols."
   ]
  },
  {
   "cell_type": "code",
   "execution_count": null,
   "id": "20ce34ce",
   "metadata": {},
   "outputs": [],
   "source": [
    "cell_parameters = load_cell_parameters(; from_file_path = \"default_sets/cell_parameters/Chen2020.json\")\n",
    "cycling_protocol = load_cycling_protocol(; from_file_path = \"default_sets/cycling_protocols/CCDischarge.json\")\n",
    "\n",
    "model_setup = LithiumIonBattery()"
   ]
  },
  {
   "cell_type": "markdown",
   "id": "6dee628a",
   "metadata": {},
   "source": [
    "First lets see the effect that the reaction rate of the negative electrode has on cell performance. To do this, we simply loop through\n",
    "a list of parameter values, carry a simulation for each value, store the outputs, and compare the voltage curves for every output.\n",
    "We use the logarithm of the reaction rates to change their values by orders of magnitude."
   ]
  },
  {
   "cell_type": "code",
   "execution_count": null,
   "id": "ffd6d456",
   "metadata": {},
   "outputs": [],
   "source": [
    "log_rate_start = -6.0\n",
    "log_rate_stop = -14.0\n",
    "\n",
    "outputs_rate = []\n",
    "for r in range(log_rate_start, log_rate_stop, length = 9)\n",
    "\tcell_parameters[\"NegativeElectrode\"][\"ActiveMaterial\"][\"ReactionRateConstant\"] = 10^r\n",
    "\tsim = Simulation(model_setup, cell_parameters, cycling_protocol)\n",
    "\tresult = solve(sim; info_level = -1)\n",
    "\tpush!(outputs_rate, (r = r, output = result))  # store r together with output\n",
    "end"
   ]
  },
  {
   "cell_type": "markdown",
   "id": "51bf29b6",
   "metadata": {},
   "source": [
    "Now, plot the discharge curves for each reaction rate:"
   ]
  },
  {
   "cell_type": "code",
   "execution_count": null,
   "id": "ffcaaf67",
   "metadata": {},
   "outputs": [],
   "source": [
    "fig = Figure(size = (600, 400))\n",
    "ax = Axis(fig[1, 1], ylabel = \"Voltage / V\", xlabel = \"Time / s\", title = \"Discharge curve\")\n",
    "\n",
    "colors = resample_cmap(:managua, length(outputs_rate))\n",
    "\n",
    "for (i, data) in enumerate(outputs_rate)\n",
    "\ttime_series = data.output.time_series\n",
    "\tt = time_series[\"Time\"]\n",
    "\tE = time_series[\"Voltage\"]\n",
    "\tlabel_str = lowercase(string(data.r))\n",
    "\tlines!(ax, t, E, label = label_str, color=colors[i], linewidth = 5)\n",
    "end\n",
    "\n",
    "fig[1, 2] = Legend(fig, ax, \"log(Reaction rate)\", framevisible = false)\n",
    "fig"
   ]
  },
  {
   "cell_type": "markdown",
   "id": "c7281136",
   "metadata": {},
   "source": [
    "Sweeping reaction rates result in interesting behavior of the cells voltage and capacity. High reaction rates have negligible influence \n",
    "on the cell voltage curve. However, values below 1e-10 result in a noticeable difference on the curves and the cell's capacity. \n",
    "This observations might be attributed to the interplay between Li+ diffusion and reaction processes. For high reaction rates, \n",
    "the limiting Li+ transport step might be diffusing Li+ from/to the electrodes. However, below a threshold value, the reaction kinetics \n",
    "becomes the bottleneck step in Li+ transport, thus contributing significantly to the cell's overpotential. "
   ]
  },
  {
   "cell_type": "markdown",
   "id": "d9b13711",
   "metadata": {},
   "source": [
    "Lets now see the effect that the diffusion coefficient of the positive electrode has on cell performance. We first set the reaction rate \n",
    "to the original value in the parameter set, and then follow the same procedure as above."
   ]
  },
  {
   "cell_type": "code",
   "execution_count": null,
   "id": "8ed683d5",
   "metadata": {},
   "outputs": [],
   "source": [
    "cell_parameters[\"NegativeElectrode\"][\"ActiveMaterial\"][\"ReactionRateConstant\"] = 1.0e-13\n",
    "\n",
    "log_D_start = -10.0\n",
    "log_D_stop = -16.0\n",
    "\n",
    "outputs_diff = []\n",
    "\n",
    "for d in range(log_D_start, log_D_stop, length = 7)\n",
    "\tcell_parameters[\"PositiveElectrode\"][\"ActiveMaterial\"][\"DiffusionCoefficient\"] = 10^d\n",
    "\tsim = Simulation(model_setup, cell_parameters, cycling_protocol)\n",
    "\tresult = solve(sim; info_level = -1)\n",
    "\tpush!(outputs_diff, (d = d, output = result))  # store r together with output\n",
    "end\n",
    "\n",
    "\n",
    "fig1 = Figure()\n",
    "ax1 = Axis(fig1[1, 1], ylabel = \"Voltage / V\", xlabel = \"Time / s\", title = \"Discharge curve\")\n",
    "colors = resample_cmap(:managua, length(outputs_diff))\n",
    "\n",
    "for (i, data) in enumerate(outputs_diff)\n",
    "\tif length(data.output.states[\"Time\"]) > 0 #if simulation is successful\n",
    "\t\ttime_series = data.output.time_series\n",
    "\t\tt = time_series[\"Time\"]\n",
    "\t\tE = time_series[\"Voltage\"]\n",
    "\t\tlabel_str = lowercase(string(data.d))\n",
    "\t\tlines!(ax1, t, E, label = label_str, color=colors[i], linewidth = 5)\n",
    "\tend\n",
    "end\n",
    "\n",
    "fig1[1, 2] = Legend(fig1, ax1, \"log(Diffusion Coefficient)\", framevisible = false)\n",
    "fig1"
   ]
  },
  {
   "cell_type": "markdown",
   "id": "15c833a0",
   "metadata": {},
   "source": [
    "Diffusion coefficients, just as reaction rates, have also a non-linear effect on the cells voltage and capacity. Diffusion coefficients down to 1e-14  have negligible influence on the cell voltage curve. However, as the coefficients fall below 1e-14 they start to influence the curves and the cell's capacity in a noticeable way. The effect becomes more pronounced at lower values. As with reaction rates, these observations might originate from the interplay between Li+ diffusion and reaction processes, where the cell's overpotential responds to the transport limiting step."
   ]
  }
 ],
 "metadata": {
  "kernelspec": {
   "display_name": "Julia 1.11.7",
   "language": "julia",
   "name": "julia-1.11"
  },
  "language_info": {
   "file_extension": ".jl",
   "mimetype": "application/julia",
   "name": "julia",
   "version": "1.11.7"
  }
 },
 "nbformat": 4,
 "nbformat_minor": 5
}
