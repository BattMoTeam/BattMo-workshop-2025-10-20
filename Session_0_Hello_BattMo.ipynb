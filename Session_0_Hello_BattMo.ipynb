{
 "cells": [
  {
   "cell_type": "markdown",
   "id": "d9dd4b14",
   "metadata": {},
   "source": [
    "# Hello BattMo  \n",
    "\n",
    "---\n",
    "* Time: run all first time: ~ 3.5 minutes\n",
    "* Time: run second time: ~ 20 seconds\n",
    "* Time: run and read step by step: ~ 30 minutes\n",
    "\n",
    "---"
   ]
  },
  {
   "cell_type": "markdown",
   "id": "b387daae",
   "metadata": {},
   "source": [
    "Welcome to this hands-on tutorial where we’ll explore the basics of BattMo.jl — a powerful Julia package for simulating lithium-ion battery cells using physics-based models like the Doyle-Fuller-Newman (DFN) model. \n",
    "\n",
    "By the end of this tutorial, you’ll:\n",
    "\n",
    "- Understand some basic features of BattMo.jl\n",
    "- Run your first battery simulation\n",
    "- Explore and visualize the output\n",
    "- Learn how to tweak key parameters for custom behavior\n",
    "\n",
    "\n"
   ]
  },
  {
   "cell_type": "markdown",
   "id": "43d465c4",
   "metadata": {},
   "source": [
    "Make sure you have selected your own environment at the right top of the notebook. If you have created it, but it doesn't show up as an option, try restarting VSCode and see if it appears. Let's import BattMo and some other packages into the kernel."
   ]
  },
  {
   "cell_type": "code",
   "execution_count": 33,
   "id": "3a3b7c23",
   "metadata": {},
   "outputs": [
    {
     "name": "stderr",
     "output_type": "stream",
     "text": [
      "\n",
      "SYSTEM: caught exception of type :MethodError while trying to print a failed Task notice; giving up\n",
      "\n",
      "SYSTEM: caught exception of type :MethodError while trying to print a failed Task notice; giving up\n",
      "\n",
      "SYSTEM: caught exception of type :MethodError while trying to print a failed Task notice; giving up\n",
      "\n",
      "SYSTEM: caught exception of type :MethodError while trying to print a failed Task notice; giving up\n",
      "\n",
      "SYSTEM: caught exception of type :MethodError while trying to print a failed Task notice; giving up\n",
      "\n",
      "SYSTEM: caught exception of type :MethodError while trying to print a failed Task notice; giving up\n"
     ]
    },
    {
     "ename": "MethodError",
     "evalue": "MethodError: no method matching pipe_writer(::VSCodeServer.IJuliaCore.IJuliaStdio{Base.PipeEndpoint, typeof(VSCodeServer.io_send_callback)})\nThe applicable method may be too new: running in world age 38639, while current world is 38699.\n\nClosest candidates are:\n  pipe_writer(::VSCodeServer.IJuliaCore.IJuliaStdio) (method too new to be called from this world context.)\n   @ VSCodeServer c:\\Users\\lorenah\\.vscode\\extensions\\julialang.language-julia-1.149.2\\scripts\\packages\\IJuliaCore\\src\\stdio.jl:16\n  pipe_writer(!Matched::Pipe)\n   @ Base stream.jl:781\n  pipe_writer(!Matched::Base.ProcessChain)\n   @ Base process.jl:37\n  ...\n",
     "output_type": "error",
     "traceback": [
      "MethodError: no method matching pipe_writer(::VSCodeServer.IJuliaCore.IJuliaStdio{Base.PipeEndpoint, typeof(VSCodeServer.io_send_callback)})\n",
      "The applicable method may be too new: running in world age 38639, while current world is 38699.\n",
      "\n",
      "Closest candidates are:\n",
      "  pipe_writer(::VSCodeServer.IJuliaCore.IJuliaStdio) (method too new to be called from this world context.)\n",
      "   @ VSCodeServer c:\\Users\\lorenah\\.vscode\\extensions\\julialang.language-julia-1.149.2\\scripts\\packages\\IJuliaCore\\src\\stdio.jl:16\n",
      "  pipe_writer(!Matched::Pipe)\n",
      "   @ Base stream.jl:781\n",
      "  pipe_writer(!Matched::Base.ProcessChain)\n",
      "   @ Base process.jl:37\n",
      "  ...\n",
      "\n",
      "\n",
      "Stacktrace:\n",
      "  [1] unsafe_write(io::VSCodeServer.IJuliaCore.IJuliaStdio{Base.PipeEndpoint, typeof(VSCodeServer.io_send_callback)}, p::Ptr{UInt8}, nb::UInt64)\n",
      "    @ Base .\\io.jl:452\n",
      "  [2] unsafe_write(io::IOContext{IO}, p::Ptr{UInt8}, nb::UInt64)\n",
      "    @ Base .\\io.jl:452\n",
      "  [3] write\n",
      "    @ .\\strings\\io.jl:246 [inlined]\n",
      "  [4] print\n",
      "    @ .\\strings\\io.jl:248 [inlined]\n",
      "  [5] print(::IOContext{IO}, ::String, ::String)\n",
      "    @ Base .\\strings\\io.jl:46\n",
      "  [6] println\n",
      "    @ .\\strings\\io.jl:77 [inlined]\n",
      "  [7] macro expansion\n",
      "    @ .\\precompilation.jl:1087 [inlined]\n",
      "  [8] macro expansion\n",
      "    @ .\\lock.jl:376 [inlined]\n",
      "  [9] _precompilepkgs(pkgs::Vector{String}, internal_call::Bool, strict::Bool, warn_loaded::Bool, timing::Bool, _from_loading::Bool, configs::Vector{Pair{Cmd, Base.CacheFlags}}, _io::IOContext{IO}, fancyprint::Bool, manifest::Bool, ignore_loaded::Bool)\n",
      "    @ Base.Precompilation .\\precompilation.jl:1086\n",
      " [10] precompilepkgs(pkgs::Vector{String}; internal_call::Bool, strict::Bool, warn_loaded::Bool, timing::Bool, _from_loading::Bool, configs::Pair{Cmd, Base.CacheFlags}, io::VSCodeServer.IJuliaCore.IJuliaStdio{Base.PipeEndpoint, typeof(VSCodeServer.io_send_callback)}, fancyprint::Bool, manifest::Bool, ignore_loaded::Bool)\n",
      "    @ Base.Precompilation .\\precompilation.jl:472\n",
      " [11] __require_prelocked(pkg::Base.PkgId, env::String)\n",
      "    @ Base .\\loading.jl:2630\n",
      " [12] _require_prelocked(uuidkey::Base.PkgId, env::String)\n",
      "    @ Base .\\loading.jl:2465\n",
      " [13] macro expansion\n",
      "    @ .\\loading.jl:2393 [inlined]\n",
      " [14] macro expansion\n",
      "    @ .\\lock.jl:376 [inlined]\n",
      " [15] __require(into::Module, mod::Symbol)\n",
      "    @ Base .\\loading.jl:2358\n",
      " [16] require(into::Module, mod::Symbol)\n",
      "    @ Base .\\loading.jl:2334\n",
      " [17] eval(m::Module, e::Any)\n",
      "    @ Core .\\boot.jl:489\n",
      " [18] include_string(mapexpr::typeof(REPL.softscope), mod::Module, code::String, filename::String)\n",
      "    @ Base .\\loading.jl:2843\n",
      " [19] (::VSCodeServer.var\"#notebook_runcell_request##0#notebook_runcell_request##1\"{VSCodeServer.NotebookRunCellArguments, String})()\n",
      "    @ VSCodeServer c:\\Users\\lorenah\\.vscode\\extensions\\julialang.language-julia-1.149.2\\scripts\\packages\\VSCodeServer\\src\\serve_notebook.jl:24\n",
      " [20] withpath(f::VSCodeServer.var\"#notebook_runcell_request##0#notebook_runcell_request##1\"{VSCodeServer.NotebookRunCellArguments, String}, path::String)\n",
      "    @ VSCodeServer c:\\Users\\lorenah\\.vscode\\extensions\\julialang.language-julia-1.149.2\\scripts\\packages\\VSCodeServer\\src\\repl.jl:276\n",
      " [21] notebook_runcell_request(conn::VSCodeServer.JSONRPC.JSONRPCEndpoint{Base.PipeEndpoint, Base.PipeEndpoint, VSCodeServer.JSON.Serializations.StandardSerialization}, params::VSCodeServer.NotebookRunCellArguments, token::VSCodeServer.CancellationTokens.CancellationToken)\n",
      "    @ VSCodeServer c:\\Users\\lorenah\\.vscode\\extensions\\julialang.language-julia-1.149.2\\scripts\\packages\\VSCodeServer\\src\\serve_notebook.jl:13\n",
      " [22] dispatch_msg(x::VSCodeServer.JSONRPC.JSONRPCEndpoint{Base.PipeEndpoint, Base.PipeEndpoint, VSCodeServer.JSON.Serializations.StandardSerialization}, dispatcher::VSCodeServer.JSONRPC.MsgDispatcher, msg::VSCodeServer.JSONRPC.Request)\n",
      "    @ VSCodeServer.JSONRPC c:\\Users\\lorenah\\.vscode\\extensions\\julialang.language-julia-1.149.2\\scripts\\packages\\JSONRPC\\src\\typed.jl:68\n",
      " [23] serve_notebook(pipename::String, debugger_pipename::String, outputchannel_logger::Base.CoreLogging.SimpleLogger; error_handler::var\"#14#15\"{String})\n",
      "    @ VSCodeServer c:\\Users\\lorenah\\.vscode\\extensions\\julialang.language-julia-1.149.2\\scripts\\packages\\VSCodeServer\\src\\serve_notebook.jl:147\n",
      " [24] top-level scope\n",
      "    @ c:\\Users\\lorenah\\.vscode\\extensions\\julialang.language-julia-1.149.2\\scripts\\notebook\\notebook.jl:35"
     ]
    }
   ],
   "source": [
    "using BattMo, GLMakie, Jutul\n",
    "GLMakie.activate!(inline=true)"
   ]
  },
  {
   "cell_type": "markdown",
   "id": "0105a4d4",
   "metadata": {},
   "source": [
    "## Part 1 - Run a simple simulation"
   ]
  },
  {
   "cell_type": "markdown",
   "id": "ddb58838",
   "metadata": {},
   "source": [
    "Let's run a simple simulation first so we get an idea of the steps that it involves and then dive into each necessary step with more detail. The following script runs a simple constant current discharge simulation using default parameter sets and a built in plotting functionality. This first run can take some time as Julia compiles all functions and structs that it encounters. This compilation makes a second simulation very fast. Run the cell a second time to see the different in solving time."
   ]
  },
  {
   "cell_type": "code",
   "execution_count": 2,
   "id": "3a8a2aad",
   "metadata": {},
   "outputs": [
    {
     "name": "stderr",
     "output_type": "stream",
     "text": [
      " while trying to print a failed Task notice; giving up\n"
     ]
    },
    {
     "ename": "UndefVarError",
     "evalue": "UndefVarError: `load_cell_parameters` not defined in `Main`\nSuggestion: check for spelling errors or missing imports.",
     "output_type": "error",
     "traceback": [
      "UndefVarError: `load_cell_parameters` not defined in `Main`\n",
      "Suggestion: check for spelling errors or missing imports.\n",
      "\n",
      "Stacktrace:\n",
      " [1] top-level scope\n",
      "   @ c:\\Users\\lorenah\\Documents\\Repositories\\BattMo-workshop-2025-10-20\\jl_notebook_cell_df34fa98e69747e1a8f8a730347b8e2f_W6sZmlsZQ==.jl:2"
     ]
    }
   ],
   "source": [
    "# step 1: Load parameters\n",
    "cell_parameters = load_cell_parameters(; from_default_set= \"Chen2020\")\n",
    "cycling_protocol = load_cycling_protocol(; from_default_set= \"CCDischarge\")\n",
    "simulation_settings = load_simulation_settings(; from_default_set = \"P2D\")\n",
    "# simulation_settings[\"\"]\n",
    "\n",
    "# step 2: Instantiate a model setup\n",
    "model_setup = LithiumIonBattery()\n",
    "\n",
    "# step 3: Instantiate a Simulation object\n",
    "sim = Simulation(model_setup, cell_parameters, cycling_protocol; simulation_settings);\n",
    "\n",
    "# step 4: Solve the simulation\n",
    "output = solve(sim);\n",
    "\n",
    "# step 5: Simple plotting\n",
    "plot_dashboard(output; plot_type=\"contour\")"
   ]
  },
  {
   "cell_type": "markdown",
   "id": "95227ac5",
   "metadata": {},
   "source": [
    "Let's now dive deeper into each step!"
   ]
  },
  {
   "cell_type": "markdown",
   "id": "32aac6a0",
   "metadata": {},
   "source": [
    "#### Step 1 - Load parameters and settings"
   ]
  },
  {
   "cell_type": "markdown",
   "id": "e7d61c1a",
   "metadata": {},
   "source": [
    "BattMo.jl structures its simulation inputs into two primary categories: Parameters and Settings. This distinction helps users differentiate between the physical characteristics of the battery system and the numerical configurations of the simulation."
   ]
  },
  {
   "cell_type": "markdown",
   "id": "2b2bb77b",
   "metadata": {},
   "source": [
    "**Parameters** represent the controllable variables in real-world experiments. They are further divided into:\n",
    "\n",
    "- **Cell Parameters**: define the intrinsic properties of the battery cell, such as geometry and material characteristics.\n",
    "- **Cycling Protocol Parameters**: specify how the cell is operated during a simulation.\n",
    "\n",
    "**Settings** are used to configure numerical assumptions for solving equations and finding numerical solutions. They are further divided into:\n",
    "\n",
    "- **Model Settings**: define numerical assumptions related to the battery model, such as diffusion methods or simplifications used in the simulation.\n",
    "- **Simulation Settings**: define numerical assumptions specific to the simulation process, including time-stepping schemes and discretization precision:"
   ]
  },
  {
   "cell_type": "markdown",
   "id": "122a0875",
   "metadata": {},
   "source": [
    "**BattMo** stores cell parameters, cycling protocols and settings in a user-friendly JSON format to facilitate reuse. We can load the parameters directly from the default sets which can be very convenient for a quick parameter loading to test a simulation setup. In order to quickly see which default sets BattMo provides we can use the following function to print information about the sets available."
   ]
  },
  {
   "cell_type": "code",
   "execution_count": 3,
   "id": "f70bd9e6",
   "metadata": {},
   "outputs": [
    {
     "ename": "UndefVarError",
     "evalue": "UndefVarError: `print_default_input_sets_info` not defined in `Main`\nSuggestion: check for spelling errors or missing imports.",
     "output_type": "error",
     "traceback": [
      "UndefVarError: `print_default_input_sets_info` not defined in `Main`\n",
      "Suggestion: check for spelling errors or missing imports.\n",
      "\n",
      "Stacktrace:\n",
      " [1] top-level scope\n",
      "   @ c:\\Users\\lorenah\\Documents\\Repositories\\BattMo-workshop-2025-10-20\\jl_notebook_cell_df34fa98e69747e1a8f8a730347b8e2f_X15sZmlsZQ==.jl:1"
     ]
    }
   ],
   "source": [
    "print_default_input_sets_info()"
   ]
  },
  {
   "cell_type": "markdown",
   "id": "2e656d1a",
   "metadata": {},
   "source": [
    "For our example, we load the cell parameter set from a NMC811 vs Graphite-SiOx cell whose parameters were determined in the [Chen 2020 paper](https://doi.org/10.1149/1945-7111/ab9050). We also load an example cycling protocol for a simple Constant Current Discharge. We can load them directly from the build in sets."
   ]
  },
  {
   "cell_type": "code",
   "execution_count": 4,
   "id": "272fdfef",
   "metadata": {},
   "outputs": [
    {
     "ename": "UndefVarError",
     "evalue": "UndefVarError: `load_cell_parameters` not defined in `Main`\nSuggestion: check for spelling errors or missing imports.",
     "output_type": "error",
     "traceback": [
      "UndefVarError: `load_cell_parameters` not defined in `Main`\n",
      "Suggestion: check for spelling errors or missing imports.\n",
      "\n",
      "Stacktrace:\n",
      " [1] top-level scope\n",
      "   @ c:\\Users\\lorenah\\Documents\\Repositories\\BattMo-workshop-2025-10-20\\jl_notebook_cell_df34fa98e69747e1a8f8a730347b8e2f_X20sZmlsZQ==.jl:1"
     ]
    }
   ],
   "source": [
    "cell_parameters = load_cell_parameters(; from_default_set = \"Chen2020\");\n",
    "cycling_protocol = load_cycling_protocol(; from_default_set = \"CCDischarge\");"
   ]
  },
  {
   "cell_type": "markdown",
   "id": "ce4f3721",
   "metadata": {},
   "source": [
    "This a quick way of testing a setup, but for the purpose of this workshop we would like to be able to see what a parameter set contains. Therefore, we'll retrieve the default parameter sets that BattMo provides and store them locally in a folder. We can do this by running the following script."
   ]
  },
  {
   "cell_type": "code",
   "execution_count": 5,
   "id": "825c8116",
   "metadata": {},
   "outputs": [
    {
     "ename": "UndefVarError",
     "evalue": "UndefVarError: `generate_default_parameter_files` not defined in `Main`\nSuggestion: check for spelling errors or missing imports.",
     "output_type": "error",
     "traceback": [
      "UndefVarError: `generate_default_parameter_files` not defined in `Main`\n",
      "Suggestion: check for spelling errors or missing imports.\n",
      "\n",
      "Stacktrace:\n",
      " [1] top-level scope\n",
      "   @ c:\\Users\\lorenah\\Documents\\Repositories\\BattMo-workshop-2025-10-20\\jl_notebook_cell_df34fa98e69747e1a8f8a730347b8e2f_X22sZmlsZQ==.jl:3"
     ]
    }
   ],
   "source": [
    "path = \".\"\n",
    "folder_name = \"default_sets\"\n",
    "generate_default_parameter_files(path, folder_name; force = true)"
   ]
  },
  {
   "cell_type": "markdown",
   "id": "68afa2c4",
   "metadata": {},
   "source": [
    "As we stored the default sets in our own folder, we can alter the default files if we want to and load the parameters from our dedicated folder."
   ]
  },
  {
   "cell_type": "code",
   "execution_count": 6,
   "id": "e394d46b",
   "metadata": {},
   "outputs": [
    {
     "ename": "UndefVarError",
     "evalue": "UndefVarError: `load_cell_parameters` not defined in `Main`\nSuggestion: check for spelling errors or missing imports.",
     "output_type": "error",
     "traceback": [
      "UndefVarError: `load_cell_parameters` not defined in `Main`\n",
      "Suggestion: check for spelling errors or missing imports.\n",
      "\n",
      "Stacktrace:\n",
      " [1] top-level scope\n",
      "   @ c:\\Users\\lorenah\\Documents\\Repositories\\BattMo-workshop-2025-10-20\\jl_notebook_cell_df34fa98e69747e1a8f8a730347b8e2f_X24sZmlsZQ==.jl:1"
     ]
    }
   ],
   "source": [
    "cell_parameters = load_cell_parameters(; from_file_path = \"default_sets/cell_parameters/Chen2020.json\");\n",
    "cycling_protocol = load_cycling_protocol(; from_file_path = \"default_sets/cycling_protocols/CCDischarge.json\");"
   ]
  },
  {
   "cell_type": "markdown",
   "id": "ecdd32ce",
   "metadata": {},
   "source": [
    "#### Step 2 - Select a model setup"
   ]
  },
  {
   "cell_type": "markdown",
   "id": "b93d6021",
   "metadata": {},
   "source": [
    "Next, we select the default Lithium-Ion Battery setup. A model can be thought as a mathematical implementation of the electrochemical and transport phenomena occuring in a real battery cell. The implementation consist of a system of partial differential equations and their corresponding parameters, constants and boundary conditions. The default Lithium-Ion Battery setup selected below contains the model settings to simulate a basic P2D model, where neither current collectors nor SEI growth are considered."
   ]
  },
  {
   "cell_type": "code",
   "execution_count": 7,
   "id": "f3f7a18b",
   "metadata": {},
   "outputs": [
    {
     "ename": "UndefVarError",
     "evalue": "UndefVarError: `LithiumIonBattery` not defined in `Main`\nSuggestion: check for spelling errors or missing imports.",
     "output_type": "error",
     "traceback": [
      "UndefVarError: `LithiumIonBattery` not defined in `Main`\n",
      "Suggestion: check for spelling errors or missing imports.\n",
      "\n",
      "Stacktrace:\n",
      " [1] top-level scope\n",
      "   @ c:\\Users\\lorenah\\Documents\\Repositories\\BattMo-workshop-2025-10-20\\jl_notebook_cell_df34fa98e69747e1a8f8a730347b8e2f_X30sZmlsZQ==.jl:1"
     ]
    }
   ],
   "source": [
    "model_setup = LithiumIonBattery();"
   ]
  },
  {
   "cell_type": "markdown",
   "id": "bbcf41ea",
   "metadata": {},
   "source": [
    "The LithiumIonBattery constructor validates the model settings on the back ground. If the model setup is valid we can continue and create a Simulation object by passing the model setup, cell parameters and a cycling protocol."
   ]
  },
  {
   "cell_type": "markdown",
   "id": "06082e1c",
   "metadata": {},
   "source": [
    "#### Step 3 - Initiate simulation object"
   ]
  },
  {
   "cell_type": "markdown",
   "id": "5378639e",
   "metadata": {},
   "source": [
    " A Simulation can be thought as a procedure to predict how the cell responds to the cycling protocol by solving the equations in the model using the cell parameters passed. We first prepare the simulation."
   ]
  },
  {
   "cell_type": "code",
   "execution_count": 8,
   "id": "14469941",
   "metadata": {},
   "outputs": [
    {
     "ename": "UndefVarError",
     "evalue": "UndefVarError: `Simulation` not defined in `Main`\nSuggestion: check for spelling errors or missing imports.",
     "output_type": "error",
     "traceback": [
      "UndefVarError: `Simulation` not defined in `Main`\n",
      "Suggestion: check for spelling errors or missing imports.\n",
      "\n",
      "Stacktrace:\n",
      " [1] top-level scope\n",
      "   @ c:\\Users\\lorenah\\Documents\\Repositories\\BattMo-workshop-2025-10-20\\jl_notebook_cell_df34fa98e69747e1a8f8a730347b8e2f_X34sZmlsZQ==.jl:1"
     ]
    }
   ],
   "source": [
    "sim = Simulation(model_setup, cell_parameters, cycling_protocol);"
   ]
  },
  {
   "cell_type": "markdown",
   "id": "459fd23b",
   "metadata": {},
   "source": [
    "The simulation object is only instantiated when the model setup is valid. We can see that the Simulation object also validates the parameters and settings on the back ground. Each parameter set is validated on whether they are sensible and complete. "
   ]
  },
  {
   "cell_type": "markdown",
   "id": "ea5b28c0",
   "metadata": {},
   "source": [
    "#### Step 4 - Solve simulation"
   ]
  },
  {
   "cell_type": "markdown",
   "id": "57514d2c",
   "metadata": {},
   "source": [
    "When the Simulation object is valid we can solve the simulation by passing the object to the solve function. As Julia is a compiled language, the first time that we run a simulation it will take some time to compile the functions and structs that it encounters. This makes running a second simulation very fast. See the difference by running the script for a second time."
   ]
  },
  {
   "cell_type": "code",
   "execution_count": 9,
   "id": "257ccd02",
   "metadata": {},
   "outputs": [
    {
     "ename": "UndefVarError",
     "evalue": "UndefVarError: `solve` not defined in `Main`\nSuggestion: check for spelling errors or missing imports.",
     "output_type": "error",
     "traceback": [
      "UndefVarError: `solve` not defined in `Main`\n",
      "Suggestion: check for spelling errors or missing imports.\n",
      "\n",
      "Stacktrace:\n",
      " [1] top-level scope\n",
      "   @ c:\\Users\\lorenah\\Documents\\Repositories\\BattMo-workshop-2025-10-20\\jl_notebook_cell_df34fa98e69747e1a8f8a730347b8e2f_X41sZmlsZQ==.jl:1"
     ]
    }
   ],
   "source": [
    "output = solve(sim);"
   ]
  },
  {
   "cell_type": "markdown",
   "id": "4cabeb8c",
   "metadata": {},
   "source": [
    "#### Step 5 - Simple plotting"
   ]
  },
  {
   "cell_type": "markdown",
   "id": "1f5a453f",
   "metadata": {},
   "source": [
    "We can use some built in functions for quick plotting. The dashboard gives you a quick overview of some important ouput variables. You can choose to have interactive line plots where you can change the time step using a slider or contour plots that show the position and time in one plot."
   ]
  },
  {
   "cell_type": "code",
   "execution_count": 10,
   "id": "4ffb4bab",
   "metadata": {},
   "outputs": [
    {
     "ename": "UndefVarError",
     "evalue": "UndefVarError: `plot_dashboard` not defined in `Main`\nSuggestion: check for spelling errors or missing imports.",
     "output_type": "error",
     "traceback": [
      "UndefVarError: `plot_dashboard` not defined in `Main`\n",
      "Suggestion: check for spelling errors or missing imports.\n",
      "\n",
      "Stacktrace:\n",
      " [1] top-level scope\n",
      "   @ c:\\Users\\lorenah\\Documents\\Repositories\\BattMo-workshop-2025-10-20\\jl_notebook_cell_df34fa98e69747e1a8f8a730347b8e2f_X44sZmlsZQ==.jl:1"
     ]
    }
   ],
   "source": [
    "plot_dashboard(output; plot_type=\"contour\")"
   ]
  },
  {
   "cell_type": "markdown",
   "id": "66234ffd",
   "metadata": {},
   "source": [
    "As the line plot is an interactive plot and notebooks are not able to render interactive plots, we'll show it in a separate window. "
   ]
  },
  {
   "cell_type": "code",
   "execution_count": 11,
   "id": "b2cb07e9",
   "metadata": {},
   "outputs": [
    {
     "ename": "UndefVarError",
     "evalue": "UndefVarError: `GLMakie` not defined in `Main`\nSuggestion: check for spelling errors or missing imports.",
     "output_type": "error",
     "traceback": [
      "UndefVarError: `GLMakie` not defined in `Main`\n",
      "Suggestion: check for spelling errors or missing imports.\n",
      "\n",
      "Stacktrace:\n",
      " [1] top-level scope\n",
      "   @ c:\\Users\\lorenah\\Documents\\Repositories\\BattMo-workshop-2025-10-20\\jl_notebook_cell_df34fa98e69747e1a8f8a730347b8e2f_X46sZmlsZQ==.jl:1"
     ]
    }
   ],
   "source": [
    "GLMakie.activate!(inline=false)\n",
    "\n",
    "plot_dashboard(output; plot_type=\"line\")"
   ]
  },
  {
   "cell_type": "markdown",
   "id": "ac55952e",
   "metadata": {},
   "source": [
    "## Part 2 - Handle Cell Parameters"
   ]
  },
  {
   "cell_type": "markdown",
   "id": "6c91263b",
   "metadata": {},
   "source": [
    "To change cell parameters, we can modify the JSON files directly, or we can read them into objects in the script and modify them as Dictionaries. A loaded cell parameter set is a Dictionary-like object which come with additional handy functions. First, lets list the outermost keys of the cell parameters object."
   ]
  },
  {
   "cell_type": "code",
   "execution_count": 12,
   "id": "e412a4c7",
   "metadata": {},
   "outputs": [
    {
     "ename": "UndefVarError",
     "evalue": "UndefVarError: `load_cell_parameters` not defined in `Main`\nSuggestion: check for spelling errors or missing imports.",
     "output_type": "error",
     "traceback": [
      "UndefVarError: `load_cell_parameters` not defined in `Main`\n",
      "Suggestion: check for spelling errors or missing imports.\n",
      "\n",
      "Stacktrace:\n",
      " [1] top-level scope\n",
      "   @ c:\\Users\\lorenah\\Documents\\Repositories\\BattMo-workshop-2025-10-20\\jl_notebook_cell_df34fa98e69747e1a8f8a730347b8e2f_X52sZmlsZQ==.jl:1"
     ]
    }
   ],
   "source": [
    "cell_parameters = load_cell_parameters(; from_file_path = \"default_sets/cell_parameters/Chen2020.json\")\n",
    "keys(cell_parameters)"
   ]
  },
  {
   "cell_type": "markdown",
   "id": "d2cf445b",
   "metadata": {},
   "source": [
    "Now we access the Separator key."
   ]
  },
  {
   "cell_type": "code",
   "execution_count": 13,
   "id": "a115cccf",
   "metadata": {},
   "outputs": [
    {
     "ename": "UndefVarError",
     "evalue": "UndefVarError: `cell_parameters` not defined in `Main`\nSuggestion: add an appropriate import or assignment. This global was declared but not assigned.",
     "output_type": "error",
     "traceback": [
      "UndefVarError: `cell_parameters` not defined in `Main`\n",
      "Suggestion: add an appropriate import or assignment. This global was declared but not assigned.\n",
      "\n",
      "Stacktrace:\n",
      " [1] top-level scope\n",
      "   @ c:\\Users\\lorenah\\Documents\\Repositories\\BattMo-workshop-2025-10-20\\jl_notebook_cell_df34fa98e69747e1a8f8a730347b8e2f_X54sZmlsZQ==.jl:1"
     ]
    }
   ],
   "source": [
    "cell_parameters[\"Separator\"]"
   ]
  },
  {
   "cell_type": "markdown",
   "id": "379b0ef9",
   "metadata": {},
   "source": [
    "We have a flat list of parameters and values for the separator. In other cases, a key might nest other dictionaries, which can be accessed using the normal dictionary notation. Lets for instance see the active material parameters of the negative electrode."
   ]
  },
  {
   "cell_type": "code",
   "execution_count": 14,
   "id": "f3674de5",
   "metadata": {},
   "outputs": [
    {
     "ename": "UndefVarError",
     "evalue": "UndefVarError: `cell_parameters` not defined in `Main`\nSuggestion: add an appropriate import or assignment. This global was declared but not assigned.",
     "output_type": "error",
     "traceback": [
      "UndefVarError: `cell_parameters` not defined in `Main`\n",
      "Suggestion: add an appropriate import or assignment. This global was declared but not assigned.\n",
      "\n",
      "Stacktrace:\n",
      " [1] top-level scope\n",
      "   @ c:\\Users\\lorenah\\Documents\\Repositories\\BattMo-workshop-2025-10-20\\jl_notebook_cell_df34fa98e69747e1a8f8a730347b8e2f_X56sZmlsZQ==.jl:1"
     ]
    }
   ],
   "source": [
    "cell_parameters[\"NegativeElectrode\"][\"ActiveMaterial\"]"
   ]
  },
  {
   "cell_type": "markdown",
   "id": "8e28f1ab",
   "metadata": {},
   "source": [
    "In addition to manipulating parameters as dictionaries, we provide additional handy attributes and functions. For instance, we can display all cell parameters:"
   ]
  },
  {
   "cell_type": "code",
   "execution_count": 15,
   "id": "3f106fbb",
   "metadata": {},
   "outputs": [
    {
     "ename": "UndefVarError",
     "evalue": "UndefVarError: `cell_parameters` not defined in `Main`\nSuggestion: add an appropriate import or assignment. This global was declared but not assigned.",
     "output_type": "error",
     "traceback": [
      "UndefVarError: `cell_parameters` not defined in `Main`\n",
      "Suggestion: add an appropriate import or assignment. This global was declared but not assigned.\n",
      "\n",
      "Stacktrace:\n",
      " [1] eval(m::Module, e::Any)\n",
      "   @ Core .\\boot.jl:489\n",
      " [2] include_string(mapexpr::typeof(REPL.softscope), mod::Module, code::String, filename::String)\n",
      "   @ Base .\\loading.jl:2843\n",
      " [3] (::VSCodeServer.var\"#notebook_runcell_request##0#notebook_runcell_request##1\"{VSCodeServer.NotebookRunCellArguments, String})()\n",
      "   @ VSCodeServer c:\\Users\\lorenah\\.vscode\\extensions\\julialang.language-julia-1.149.2\\scripts\\packages\\VSCodeServer\\src\\serve_notebook.jl:24\n",
      " [4] withpath(f::VSCodeServer.var\"#notebook_runcell_request##0#notebook_runcell_request##1\"{VSCodeServer.NotebookRunCellArguments, String}, path::String)\n",
      "   @ VSCodeServer c:\\Users\\lorenah\\.vscode\\extensions\\julialang.language-julia-1.149.2\\scripts\\packages\\VSCodeServer\\src\\repl.jl:276\n",
      " [5] notebook_runcell_request(conn::VSCodeServer.JSONRPC.JSONRPCEndpoint{Base.PipeEndpoint, Base.PipeEndpoint, VSCodeServer.JSON.Serializations.StandardSerialization}, params::VSCodeServer.NotebookRunCellArguments, token::VSCodeServer.CancellationTokens.CancellationToken)\n",
      "   @ VSCodeServer c:\\Users\\lorenah\\.vscode\\extensions\\julialang.language-julia-1.149.2\\scripts\\packages\\VSCodeServer\\src\\serve_notebook.jl:13\n",
      " [6] dispatch_msg(x::VSCodeServer.JSONRPC.JSONRPCEndpoint{Base.PipeEndpoint, Base.PipeEndpoint, VSCodeServer.JSON.Serializations.StandardSerialization}, dispatcher::VSCodeServer.JSONRPC.MsgDispatcher, msg::VSCodeServer.JSONRPC.Request)\n",
      "   @ VSCodeServer.JSONRPC c:\\Users\\lorenah\\.vscode\\extensions\\julialang.language-julia-1.149.2\\scripts\\packages\\JSONRPC\\src\\typed.jl:68\n",
      " [7] serve_notebook(pipename::String, debugger_pipename::String, outputchannel_logger::Base.CoreLogging.SimpleLogger; error_handler::var\"#14#15\"{String})\n",
      "   @ VSCodeServer c:\\Users\\lorenah\\.vscode\\extensions\\julialang.language-julia-1.149.2\\scripts\\packages\\VSCodeServer\\src\\serve_notebook.jl:147\n",
      " [8] top-level scope\n",
      "   @ c:\\Users\\lorenah\\.vscode\\extensions\\julialang.language-julia-1.149.2\\scripts\\notebook\\notebook.jl:35"
     ]
    }
   ],
   "source": [
    "cell_parameters"
   ]
  },
  {
   "cell_type": "markdown",
   "id": "92c709b1",
   "metadata": {},
   "source": [
    "However, there are many parameters, nested into dictionaries. Often, we are more interested in a specific subset of parameters. We can find a parameter with the search_parameter function. For example, we'd like to now how electrode related objects and parameters are named:"
   ]
  },
  {
   "cell_type": "code",
   "execution_count": 16,
   "id": "466ae2f8",
   "metadata": {},
   "outputs": [
    {
     "ename": "UndefVarError",
     "evalue": "UndefVarError: `search_parameter` not defined in `Main`\nSuggestion: check for spelling errors or missing imports.",
     "output_type": "error",
     "traceback": [
      "UndefVarError: `search_parameter` not defined in `Main`\n",
      "Suggestion: check for spelling errors or missing imports.\n",
      "\n",
      "Stacktrace:\n",
      " [1] top-level scope\n",
      "   @ c:\\Users\\lorenah\\Documents\\Repositories\\BattMo-workshop-2025-10-20\\jl_notebook_cell_df34fa98e69747e1a8f8a730347b8e2f_X63sZmlsZQ==.jl:1"
     ]
    }
   ],
   "source": [
    "search_parameter(cell_parameters, \"Electrode\")"
   ]
  },
  {
   "cell_type": "markdown",
   "id": "fba3433b",
   "metadata": {},
   "source": [
    "The search function also accepts partial matches and it is case-insentive."
   ]
  },
  {
   "cell_type": "code",
   "execution_count": 17,
   "id": "f491cd27",
   "metadata": {},
   "outputs": [
    {
     "ename": "UndefVarError",
     "evalue": "UndefVarError: `search_parameter` not defined in `Main`\nSuggestion: check for spelling errors or missing imports.",
     "output_type": "error",
     "traceback": [
      "UndefVarError: `search_parameter` not defined in `Main`\n",
      "Suggestion: check for spelling errors or missing imports.\n",
      "\n",
      "Stacktrace:\n",
      " [1] top-level scope\n",
      "   @ c:\\Users\\lorenah\\Documents\\Repositories\\BattMo-workshop-2025-10-20\\jl_notebook_cell_df34fa98e69747e1a8f8a730347b8e2f_X65sZmlsZQ==.jl:1"
     ]
    }
   ],
   "source": [
    "search_parameter(cell_parameters, \"char\")"
   ]
  },
  {
   "cell_type": "markdown",
   "id": "fbd44e65",
   "metadata": {},
   "source": [
    "Parameter that take single numerical values (e.g. real, integers, booleans) can be directly modified. Examples:"
   ]
  },
  {
   "cell_type": "code",
   "execution_count": 18,
   "id": "0eacc765",
   "metadata": {},
   "outputs": [
    {
     "ename": "UndefVarError",
     "evalue": "UndefVarError: `cell_parameters` not defined in `Main`\nSuggestion: add an appropriate import or assignment. This global was declared but not assigned.",
     "output_type": "error",
     "traceback": [
      "UndefVarError: `cell_parameters` not defined in `Main`\n",
      "Suggestion: add an appropriate import or assignment. This global was declared but not assigned.\n",
      "\n",
      "Stacktrace:\n",
      " [1] top-level scope\n",
      "   @ c:\\Users\\lorenah\\Documents\\Repositories\\BattMo-workshop-2025-10-20\\jl_notebook_cell_df34fa98e69747e1a8f8a730347b8e2f_Y100sZmlsZQ==.jl:1"
     ]
    }
   ],
   "source": [
    "cell_parameters[\"PositiveElectrode\"][\"ElectrodeCoating\"][\"Thickness\"] = 8.2e-5"
   ]
  },
  {
   "cell_type": "markdown",
   "id": "67a8438e",
   "metadata": {},
   "source": [
    "Some parameters are described as functions or arrays, since the parameter value depends on other variables. For instance the Open Circuit Potentials of the Active Materials depend on the lithium stoichiometry and temperature. When we're unsure about the type or meaning of a parameter, we can print information on invidual parameters as well. For some parameters, that require more explanation, a link to the documentation is provided. Visit the documentation of the OpenCircuitPotential parameter to find more information on how to implement you own user defined functional parameters."
   ]
  },
  {
   "cell_type": "code",
   "execution_count": 19,
   "id": "2d2184fb",
   "metadata": {},
   "outputs": [
    {
     "ename": "UndefVarError",
     "evalue": "UndefVarError: `print_parameter_info` not defined in `Main`\nSuggestion: check for spelling errors or missing imports.",
     "output_type": "error",
     "traceback": [
      "UndefVarError: `print_parameter_info` not defined in `Main`\n",
      "Suggestion: check for spelling errors or missing imports.\n",
      "\n",
      "Stacktrace:\n",
      " [1] top-level scope\n",
      "   @ c:\\Users\\lorenah\\Documents\\Repositories\\BattMo-workshop-2025-10-20\\jl_notebook_cell_df34fa98e69747e1a8f8a730347b8e2f_Y102sZmlsZQ==.jl:3"
     ]
    }
   ],
   "source": [
    "parameter_name = \"OpenCircuitPotential\"\n",
    "\n",
    "print_parameter_info(parameter_name)"
   ]
  },
  {
   "cell_type": "markdown",
   "id": "e509010f",
   "metadata": {},
   "source": [
    "## Part 3 - Handle Cycling protocols"
   ]
  },
  {
   "cell_type": "markdown",
   "id": "bf567b9b",
   "metadata": {},
   "source": [
    "The cycling protocol parameters can be altered in the same way as the cell parameters. Let's load a default CCCV cycling protocol."
   ]
  },
  {
   "cell_type": "code",
   "execution_count": 20,
   "id": "51441785",
   "metadata": {},
   "outputs": [
    {
     "ename": "UndefVarError",
     "evalue": "UndefVarError: `load_cycling_protocol` not defined in `Main`\nSuggestion: check for spelling errors or missing imports.",
     "output_type": "error",
     "traceback": [
      "UndefVarError: `load_cycling_protocol` not defined in `Main`\n",
      "Suggestion: check for spelling errors or missing imports.\n",
      "\n",
      "Stacktrace:\n",
      " [1] top-level scope\n",
      "   @ c:\\Users\\lorenah\\Documents\\Repositories\\BattMo-workshop-2025-10-20\\jl_notebook_cell_df34fa98e69747e1a8f8a730347b8e2f_Y105sZmlsZQ==.jl:1"
     ]
    }
   ],
   "source": [
    "cycling_protocol = load_cycling_protocol(; from_file_path= \"default_sets/cycling_protocols/CCCV.json\")\n",
    "cycling_protocol[\"UpperVoltageLimit\"] = 4.1\n",
    "cycling_protocol[\"LowerVoltageLimit\"] = 2.6"
   ]
  },
  {
   "cell_type": "markdown",
   "id": "1393cf9c",
   "metadata": {},
   "source": [
    "We can for example change the total number of cycles to 10 and change the CRate to 2.0."
   ]
  },
  {
   "cell_type": "code",
   "execution_count": 21,
   "id": "02efac4d",
   "metadata": {},
   "outputs": [
    {
     "ename": "UndefVarError",
     "evalue": "UndefVarError: `cycling_protocol` not defined in `Main`\nSuggestion: add an appropriate import or assignment. This global was declared but not assigned.",
     "output_type": "error",
     "traceback": [
      "UndefVarError: `cycling_protocol` not defined in `Main`\n",
      "Suggestion: add an appropriate import or assignment. This global was declared but not assigned.\n",
      "\n",
      "Stacktrace:\n",
      " [1] top-level scope\n",
      "   @ c:\\Users\\lorenah\\Documents\\Repositories\\BattMo-workshop-2025-10-20\\jl_notebook_cell_df34fa98e69747e1a8f8a730347b8e2f_Y110sZmlsZQ==.jl:1"
     ]
    }
   ],
   "source": [
    "cycling_protocol[\"TotalNumberOfCycles\"] = 5\n",
    "cycling_protocol[\"CRate\"] = 0.5\n",
    "cycling_protocol[\"DRate\"] = 0.5"
   ]
  },
  {
   "cell_type": "markdown",
   "id": "bd6d82ed",
   "metadata": {},
   "source": [
    "Let's run the CCCV protocol with the altered positive electrode coating thickness and plot some results"
   ]
  },
  {
   "cell_type": "code",
   "execution_count": 22,
   "id": "b5db1662",
   "metadata": {},
   "outputs": [
    {
     "ename": "UndefVarError",
     "evalue": "UndefVarError: `LithiumIonBattery` not defined in `Main`\nSuggestion: check for spelling errors or missing imports.",
     "output_type": "error",
     "traceback": [
      "UndefVarError: `LithiumIonBattery` not defined in `Main`\n",
      "Suggestion: check for spelling errors or missing imports.\n",
      "\n",
      "Stacktrace:\n",
      " [1] top-level scope\n",
      "   @ c:\\Users\\lorenah\\Documents\\Repositories\\BattMo-workshop-2025-10-20\\jl_notebook_cell_df34fa98e69747e1a8f8a730347b8e2f_Y112sZmlsZQ==.jl:1"
     ]
    }
   ],
   "source": [
    "model_setup = LithiumIonBattery()\n",
    "\n",
    "sim = Simulation(model_setup, cell_parameters, cycling_protocol)\n",
    "\n",
    "output = solve(sim);"
   ]
  },
  {
   "cell_type": "markdown",
   "id": "d02eddae",
   "metadata": {},
   "source": [
    "Let's use the simple dashboard plotting function to plot the voltage and current over time."
   ]
  },
  {
   "cell_type": "code",
   "execution_count": 23,
   "id": "2e7330e7",
   "metadata": {},
   "outputs": [
    {
     "ename": "UndefVarError",
     "evalue": "UndefVarError: `GLMakie` not defined in `Main`\nSuggestion: check for spelling errors or missing imports.",
     "output_type": "error",
     "traceback": [
      "UndefVarError: `GLMakie` not defined in `Main`\n",
      "Suggestion: check for spelling errors or missing imports.\n",
      "\n",
      "Stacktrace:\n",
      " [1] top-level scope\n",
      "   @ c:\\Users\\lorenah\\Documents\\Repositories\\BattMo-workshop-2025-10-20\\jl_notebook_cell_df34fa98e69747e1a8f8a730347b8e2f_Y114sZmlsZQ==.jl:1"
     ]
    }
   ],
   "source": [
    "GLMakie.activate!(inline=true)\n",
    "plot_dashboard(output; plot_type = \"simple\")"
   ]
  },
  {
   "cell_type": "markdown",
   "id": "0d77eb4d",
   "metadata": {},
   "source": [
    "## Part 4 - Retrieve output quantities and cell metrics"
   ]
  },
  {
   "cell_type": "markdown",
   "id": "b979c7ae",
   "metadata": {},
   "source": [
    "Let's use the output from the previous CCCV simulation. The output is a NamedTuple that contains a lot of different data and can sometimes be a bit difficult to navigate. Therefore BattMo provides some handy functions to retrieve the data that you want. First print an overview of the output to see which variables are available in the output."
   ]
  },
  {
   "cell_type": "code",
   "execution_count": 24,
   "id": "3589d6ce",
   "metadata": {},
   "outputs": [
    {
     "ename": "UndefVarError",
     "evalue": "UndefVarError: `print_output_overview` not defined in `Main`\nSuggestion: check for spelling errors or missing imports.",
     "output_type": "error",
     "traceback": [
      "UndefVarError: `print_output_overview` not defined in `Main`\n",
      "Suggestion: check for spelling errors or missing imports.\n",
      "\n",
      "Stacktrace:\n",
      " [1] top-level scope\n",
      "   @ c:\\Users\\lorenah\\Documents\\Repositories\\BattMo-workshop-2025-10-20\\jl_notebook_cell_df34fa98e69747e1a8f8a730347b8e2f_Y120sZmlsZQ==.jl:1"
     ]
    }
   ],
   "source": [
    "print_output_overview(output)"
   ]
  },
  {
   "cell_type": "markdown",
   "id": "fea7225d",
   "metadata": {},
   "source": [
    "In the overview we can quickly see the aivalable variables and their units. We can also see that the variables have been devided into three categories: time series, states, and metrics. This has been done to provide some structure to the variables that is intuitive and cleans up the data. We also use these three categories when retrieving data. Let's first retrieve for example time series data like voltage, current and time."
   ]
  },
  {
   "cell_type": "code",
   "execution_count": 25,
   "id": "9c641940",
   "metadata": {},
   "outputs": [
    {
     "ename": "UndefVarError",
     "evalue": "UndefVarError: `get_output_time_series` not defined in `Main`\nSuggestion: check for spelling errors or missing imports.",
     "output_type": "error",
     "traceback": [
      "UndefVarError: `get_output_time_series` not defined in `Main`\n",
      "Suggestion: check for spelling errors or missing imports.\n",
      "\n",
      "Stacktrace:\n",
      " [1] top-level scope\n",
      "   @ c:\\Users\\lorenah\\Documents\\Repositories\\BattMo-workshop-2025-10-20\\jl_notebook_cell_df34fa98e69747e1a8f8a730347b8e2f_Y122sZmlsZQ==.jl:1"
     ]
    }
   ],
   "source": [
    "time_series = get_output_time_series(output)\n",
    "\n",
    "t = time_series[:Time]\n",
    "E = time_series[:Voltage]\n",
    "I = time_series[:Current];"
   ]
  },
  {
   "cell_type": "markdown",
   "id": "c8f6bcdd",
   "metadata": {},
   "source": [
    "Let's now retrieve some state variables"
   ]
  },
  {
   "cell_type": "code",
   "execution_count": 26,
   "id": "388ff375",
   "metadata": {},
   "outputs": [
    {
     "ename": "UndefVarError",
     "evalue": "UndefVarError: `get_output_states` not defined in `Main`\nSuggestion: check for spelling errors or missing imports.",
     "output_type": "error",
     "traceback": [
      "UndefVarError: `get_output_states` not defined in `Main`\n",
      "Suggestion: check for spelling errors or missing imports.\n",
      "\n",
      "Stacktrace:\n",
      " [1] top-level scope\n",
      "   @ c:\\Users\\lorenah\\Documents\\Repositories\\BattMo-workshop-2025-10-20\\jl_notebook_cell_df34fa98e69747e1a8f8a730347b8e2f_Y124sZmlsZQ==.jl:1"
     ]
    }
   ],
   "source": [
    "states = get_output_states(output)\n",
    "\n",
    "negative_electrode_concentration = states[:NeAmConcentration]\n",
    "negative_electrode_surface_concentration = states[:NeAmSurfaceConcentration];"
   ]
  },
  {
   "cell_type": "markdown",
   "id": "cf41e6e1",
   "metadata": {},
   "source": [
    "We can also print more information on each individual variable. For example, it might be a bit unclear what the difference is between the NeAmConcenctration and NeAmSurfaceConcentration. For this purpose we can use the `print_output_variable_info()` function."
   ]
  },
  {
   "cell_type": "code",
   "execution_count": 27,
   "id": "1214a7ba",
   "metadata": {},
   "outputs": [
    {
     "ename": "UndefVarError",
     "evalue": "UndefVarError: `print_output_variable_info` not defined in `Main`\nSuggestion: check for spelling errors or missing imports.",
     "output_type": "error",
     "traceback": [
      "UndefVarError: `print_output_variable_info` not defined in `Main`\n",
      "Suggestion: check for spelling errors or missing imports.\n",
      "\n",
      "Stacktrace:\n",
      " [1] top-level scope\n",
      "   @ c:\\Users\\lorenah\\Documents\\Repositories\\BattMo-workshop-2025-10-20\\jl_notebook_cell_df34fa98e69747e1a8f8a730347b8e2f_Y126sZmlsZQ==.jl:1"
     ]
    }
   ],
   "source": [
    "print_output_variable_info(\"NeAmConcentration\")"
   ]
  },
  {
   "cell_type": "code",
   "execution_count": 28,
   "id": "713e6e31",
   "metadata": {},
   "outputs": [
    {
     "ename": "UndefVarError",
     "evalue": "UndefVarError: `print_output_variable_info` not defined in `Main`\nSuggestion: check for spelling errors or missing imports.",
     "output_type": "error",
     "traceback": [
      "UndefVarError: `print_output_variable_info` not defined in `Main`\n",
      "Suggestion: check for spelling errors or missing imports.\n",
      "\n",
      "Stacktrace:\n",
      " [1] top-level scope\n",
      "   @ c:\\Users\\lorenah\\Documents\\Repositories\\BattMo-workshop-2025-10-20\\jl_notebook_cell_df34fa98e69747e1a8f8a730347b8e2f_Y130sZmlsZQ==.jl:1"
     ]
    }
   ],
   "source": [
    "print_output_variable_info(\"NeAmSurfaceConcentration\")"
   ]
  },
  {
   "cell_type": "markdown",
   "id": "1cc8239b",
   "metadata": {},
   "source": [
    "We can have a better idea of what the variable represents by reading the description and checking the shape of the variable. We can also retrieve some KPIs from the output."
   ]
  },
  {
   "cell_type": "code",
   "execution_count": 29,
   "id": "9b50dd32",
   "metadata": {},
   "outputs": [
    {
     "ename": "UndefVarError",
     "evalue": "UndefVarError: `get_output_metrics` not defined in `Main`\nSuggestion: check for spelling errors or missing imports.",
     "output_type": "error",
     "traceback": [
      "UndefVarError: `get_output_metrics` not defined in `Main`\n",
      "Suggestion: check for spelling errors or missing imports.\n",
      "\n",
      "Stacktrace:\n",
      " [1] top-level scope\n",
      "   @ c:\\Users\\lorenah\\Documents\\Repositories\\BattMo-workshop-2025-10-20\\jl_notebook_cell_df34fa98e69747e1a8f8a730347b8e2f_Y132sZmlsZQ==.jl:1"
     ]
    }
   ],
   "source": [
    "metrics = get_output_metrics(output)\n",
    "\n",
    "discharge_capacity = metrics[:DischargeCapacity]\n",
    "round_trip_efficiency = metrics[:RoundTripEfficiency]\n",
    "cycle_numbers = metrics[:CycleNumber]"
   ]
  },
  {
   "cell_type": "markdown",
   "id": "7ca18b19",
   "metadata": {},
   "source": [
    "We can see that the last time step step contains cycle number 10 which represents the start of the 11th cycle, but as the simulation was ordered to complete 10 cycles, it terminates right after entering the 11th cycle. Therefore, we'll remove the data for cycle 10. Let's retrieve the unique cycle numbers in an array and plot the discharge capacity against it."
   ]
  },
  {
   "cell_type": "code",
   "execution_count": 30,
   "id": "0922daa9",
   "metadata": {},
   "outputs": [
    {
     "ename": "UndefVarError",
     "evalue": "UndefVarError: `cycle_numbers` not defined in `Main`\nSuggestion: check for spelling errors or missing imports.",
     "output_type": "error",
     "traceback": [
      "UndefVarError: `cycle_numbers` not defined in `Main`\n",
      "Suggestion: check for spelling errors or missing imports.\n",
      "\n",
      "Stacktrace:\n",
      " [1] top-level scope\n",
      "   @ c:\\Users\\lorenah\\Documents\\Repositories\\BattMo-workshop-2025-10-20\\jl_notebook_cell_df34fa98e69747e1a8f8a730347b8e2f_Y134sZmlsZQ==.jl:1"
     ]
    }
   ],
   "source": [
    "unique_cycle_array = unique(cycle_numbers) .+ 1  # Remove last cycle number, and shift so that the cycle numbers start from 1.\n",
    "\n",
    "f = Figure(size = (1000, 400))\n",
    "\n",
    "ax = Axis(f[1, 1], title = \"Round trip efficiency\", xlabel = \"Cycle number / -\", ylabel = \"Efficiency / %\",\n",
    ")\n",
    "scatterlines!(ax, unique_cycle_array, round_trip_efficiency; linewidth = 4)\n",
    "\n",
    "ax = Axis(f[2, 1], title = \"Discharge capacity\", xlabel = \"Cycle number / -\", ylabel = \"Capacity / Ah\",\n",
    ")\n",
    "scatterlines!(ax, unique_cycle_array, discharge_capacity; linewidth = 4)\n",
    "\n",
    "f"
   ]
  },
  {
   "cell_type": "code",
   "execution_count": 31,
   "id": "b2163c72",
   "metadata": {},
   "outputs": [
    {
     "ename": "UndefVarError",
     "evalue": "UndefVarError: `model_setup` not defined in `Main`\nSuggestion: add an appropriate import or assignment. This global was declared but not assigned.",
     "output_type": "error",
     "traceback": [
      "UndefVarError: `model_setup` not defined in `Main`\n",
      "Suggestion: add an appropriate import or assignment. This global was declared but not assigned.\n",
      "\n",
      "Stacktrace:\n",
      " [1] eval(m::Module, e::Any)\n",
      "   @ Core .\\boot.jl:489\n",
      " [2] include_string(mapexpr::typeof(REPL.softscope), mod::Module, code::String, filename::String)\n",
      "   @ Base .\\loading.jl:2843\n",
      " [3] (::VSCodeServer.var\"#notebook_runcell_request##0#notebook_runcell_request##1\"{VSCodeServer.NotebookRunCellArguments, String})()\n",
      "   @ VSCodeServer c:\\Users\\lorenah\\.vscode\\extensions\\julialang.language-julia-1.149.2\\scripts\\packages\\VSCodeServer\\src\\serve_notebook.jl:24\n",
      " [4] withpath(f::VSCodeServer.var\"#notebook_runcell_request##0#notebook_runcell_request##1\"{VSCodeServer.NotebookRunCellArguments, String}, path::String)\n",
      "   @ VSCodeServer c:\\Users\\lorenah\\.vscode\\extensions\\julialang.language-julia-1.149.2\\scripts\\packages\\VSCodeServer\\src\\repl.jl:276\n",
      " [5] notebook_runcell_request(conn::VSCodeServer.JSONRPC.JSONRPCEndpoint{Base.PipeEndpoint, Base.PipeEndpoint, VSCodeServer.JSON.Serializations.StandardSerialization}, params::VSCodeServer.NotebookRunCellArguments, token::VSCodeServer.CancellationTokens.CancellationToken)\n",
      "   @ VSCodeServer c:\\Users\\lorenah\\.vscode\\extensions\\julialang.language-julia-1.149.2\\scripts\\packages\\VSCodeServer\\src\\serve_notebook.jl:13\n",
      " [6] dispatch_msg(x::VSCodeServer.JSONRPC.JSONRPCEndpoint{Base.PipeEndpoint, Base.PipeEndpoint, VSCodeServer.JSON.Serializations.StandardSerialization}, dispatcher::VSCodeServer.JSONRPC.MsgDispatcher, msg::VSCodeServer.JSONRPC.Request)\n",
      "   @ VSCodeServer.JSONRPC c:\\Users\\lorenah\\.vscode\\extensions\\julialang.language-julia-1.149.2\\scripts\\packages\\JSONRPC\\src\\typed.jl:68\n",
      " [7] serve_notebook(pipename::String, debugger_pipename::String, outputchannel_logger::Base.CoreLogging.SimpleLogger; error_handler::var\"#14#15\"{String})\n",
      "   @ VSCodeServer c:\\Users\\lorenah\\.vscode\\extensions\\julialang.language-julia-1.149.2\\scripts\\packages\\VSCodeServer\\src\\serve_notebook.jl:147\n",
      " [8] top-level scope\n",
      "   @ c:\\Users\\lorenah\\.vscode\\extensions\\julialang.language-julia-1.149.2\\scripts\\notebook\\notebook.jl:35"
     ]
    }
   ],
   "source": [
    "#length(unique_cycle_array)\n",
    "model_setup"
   ]
  },
  {
   "cell_type": "markdown",
   "id": "1fc46e4d",
   "metadata": {},
   "source": [
    "## Summary and overview"
   ]
  },
  {
   "cell_type": "markdown",
   "id": "086e41b3",
   "metadata": {},
   "source": [
    "We learned how to run a simple simulation using default parameters and settings."
   ]
  },
  {
   "cell_type": "code",
   "execution_count": 32,
   "id": "c283f43b",
   "metadata": {},
   "outputs": [
    {
     "name": "stderr",
     "output_type": "stream",
     "text": [
      "\n",
      "SYSTEM: caught exception of type :MethodError while trying to print a failed Task notice; giving up\n",
      "\n",
      "SYSTEM: caught exception of type :MethodError while trying to print a failed Task notice; giving up\n",
      "\n",
      "SYSTEM: caught exception of type :MethodError while trying to print a failed Task notice; giving up\n",
      "\n",
      "SYSTEM: caught exception of type :MethodError while trying to print a failed Task notice; giving up\n",
      "\n",
      "SYSTEM: caught exception of type :MethodError while trying to print a failed Task notice; giving up\n",
      "\n",
      "SYSTEM: caught exception of type :MethodError while trying to print a failed Task notice; giving up\n"
     ]
    },
    {
     "ename": "MethodError",
     "evalue": "MethodError: no method matching pipe_writer(::VSCodeServer.IJuliaCore.IJuliaStdio{Base.PipeEndpoint, typeof(VSCodeServer.io_send_callback)})\nThe applicable method may be too new: running in world age 38639, while current world is 38699.\n\nClosest candidates are:\n  pipe_writer(::VSCodeServer.IJuliaCore.IJuliaStdio) (method too new to be called from this world context.)\n   @ VSCodeServer c:\\Users\\lorenah\\.vscode\\extensions\\julialang.language-julia-1.149.2\\scripts\\packages\\IJuliaCore\\src\\stdio.jl:16\n  pipe_writer(!Matched::Pipe)\n   @ Base stream.jl:781\n  pipe_writer(!Matched::Base.ProcessChain)\n   @ Base process.jl:37\n  ...\n",
     "output_type": "error",
     "traceback": [
      "MethodError: no method matching pipe_writer(::VSCodeServer.IJuliaCore.IJuliaStdio{Base.PipeEndpoint, typeof(VSCodeServer.io_send_callback)})\n",
      "The applicable method may be too new: running in world age 38639, while current world is 38699.\n",
      "\n",
      "Closest candidates are:\n",
      "  pipe_writer(::VSCodeServer.IJuliaCore.IJuliaStdio) (method too new to be called from this world context.)\n",
      "   @ VSCodeServer c:\\Users\\lorenah\\.vscode\\extensions\\julialang.language-julia-1.149.2\\scripts\\packages\\IJuliaCore\\src\\stdio.jl:16\n",
      "  pipe_writer(!Matched::Pipe)\n",
      "   @ Base stream.jl:781\n",
      "  pipe_writer(!Matched::Base.ProcessChain)\n",
      "   @ Base process.jl:37\n",
      "  ...\n",
      "\n",
      "\n",
      "Stacktrace:\n",
      "  [1] unsafe_write(io::VSCodeServer.IJuliaCore.IJuliaStdio{Base.PipeEndpoint, typeof(VSCodeServer.io_send_callback)}, p::Ptr{UInt8}, nb::UInt64)\n",
      "    @ Base .\\io.jl:452\n",
      "  [2] unsafe_write(io::IOContext{IO}, p::Ptr{UInt8}, nb::UInt64)\n",
      "    @ Base .\\io.jl:452\n",
      "  [3] write\n",
      "    @ .\\strings\\io.jl:246 [inlined]\n",
      "  [4] print\n",
      "    @ .\\strings\\io.jl:248 [inlined]\n",
      "  [5] print(::IOContext{IO}, ::String, ::String)\n",
      "    @ Base .\\strings\\io.jl:46\n",
      "  [6] println\n",
      "    @ .\\strings\\io.jl:77 [inlined]\n",
      "  [7] macro expansion\n",
      "    @ .\\precompilation.jl:1087 [inlined]\n",
      "  [8] macro expansion\n",
      "    @ .\\lock.jl:376 [inlined]\n",
      "  [9] _precompilepkgs(pkgs::Vector{String}, internal_call::Bool, strict::Bool, warn_loaded::Bool, timing::Bool, _from_loading::Bool, configs::Vector{Pair{Cmd, Base.CacheFlags}}, _io::IOContext{IO}, fancyprint::Bool, manifest::Bool, ignore_loaded::Bool)\n",
      "    @ Base.Precompilation .\\precompilation.jl:1086\n",
      " [10] precompilepkgs(pkgs::Vector{String}; internal_call::Bool, strict::Bool, warn_loaded::Bool, timing::Bool, _from_loading::Bool, configs::Pair{Cmd, Base.CacheFlags}, io::VSCodeServer.IJuliaCore.IJuliaStdio{Base.PipeEndpoint, typeof(VSCodeServer.io_send_callback)}, fancyprint::Bool, manifest::Bool, ignore_loaded::Bool)\n",
      "    @ Base.Precompilation .\\precompilation.jl:472\n",
      " [11] __require_prelocked(pkg::Base.PkgId, env::String)\n",
      "    @ Base .\\loading.jl:2630\n",
      " [12] _require_prelocked(uuidkey::Base.PkgId, env::String)\n",
      "    @ Base .\\loading.jl:2465\n",
      " [13] macro expansion\n",
      "    @ .\\loading.jl:2393 [inlined]\n",
      " [14] macro expansion\n",
      "    @ .\\lock.jl:376 [inlined]\n",
      " [15] __require(into::Module, mod::Symbol)\n",
      "    @ Base .\\loading.jl:2358\n",
      " [16] require(into::Module, mod::Symbol)\n",
      "    @ Base .\\loading.jl:2334\n",
      " [17] eval(m::Module, e::Any)\n",
      "    @ Core .\\boot.jl:489\n",
      " [18] include_string(mapexpr::typeof(REPL.softscope), mod::Module, code::String, filename::String)\n",
      "    @ Base .\\loading.jl:2843\n",
      " [19] (::VSCodeServer.var\"#notebook_runcell_request##0#notebook_runcell_request##1\"{VSCodeServer.NotebookRunCellArguments, String})()\n",
      "    @ VSCodeServer c:\\Users\\lorenah\\.vscode\\extensions\\julialang.language-julia-1.149.2\\scripts\\packages\\VSCodeServer\\src\\serve_notebook.jl:24\n",
      " [20] withpath(f::VSCodeServer.var\"#notebook_runcell_request##0#notebook_runcell_request##1\"{VSCodeServer.NotebookRunCellArguments, String}, path::String)\n",
      "    @ VSCodeServer c:\\Users\\lorenah\\.vscode\\extensions\\julialang.language-julia-1.149.2\\scripts\\packages\\VSCodeServer\\src\\repl.jl:276\n",
      " [21] notebook_runcell_request(conn::VSCodeServer.JSONRPC.JSONRPCEndpoint{Base.PipeEndpoint, Base.PipeEndpoint, VSCodeServer.JSON.Serializations.StandardSerialization}, params::VSCodeServer.NotebookRunCellArguments, token::VSCodeServer.CancellationTokens.CancellationToken)\n",
      "    @ VSCodeServer c:\\Users\\lorenah\\.vscode\\extensions\\julialang.language-julia-1.149.2\\scripts\\packages\\VSCodeServer\\src\\serve_notebook.jl:13\n",
      " [22] dispatch_msg(x::VSCodeServer.JSONRPC.JSONRPCEndpoint{Base.PipeEndpoint, Base.PipeEndpoint, VSCodeServer.JSON.Serializations.StandardSerialization}, dispatcher::VSCodeServer.JSONRPC.MsgDispatcher, msg::VSCodeServer.JSONRPC.Request)\n",
      "    @ VSCodeServer.JSONRPC c:\\Users\\lorenah\\.vscode\\extensions\\julialang.language-julia-1.149.2\\scripts\\packages\\JSONRPC\\src\\typed.jl:68\n",
      " [23] serve_notebook(pipename::String, debugger_pipename::String, outputchannel_logger::Base.CoreLogging.SimpleLogger; error_handler::var\"#14#15\"{String})\n",
      "    @ VSCodeServer c:\\Users\\lorenah\\.vscode\\extensions\\julialang.language-julia-1.149.2\\scripts\\packages\\VSCodeServer\\src\\serve_notebook.jl:147\n",
      " [24] top-level scope\n",
      "    @ c:\\Users\\lorenah\\.vscode\\extensions\\julialang.language-julia-1.149.2\\scripts\\notebook\\notebook.jl:35"
     ]
    }
   ],
   "source": [
    "using BattMo, GLMakie\n",
    "\n",
    "cell_parameters = load_cell_parameters(; from_file_path = \"default_sets/cell_parameters/Chen2020.json\")\n",
    "cycling_protocol = load_cycling_protocol(; from_file_path = \"default_sets/cycling_protocols/CCDischarge.json\")\n",
    "\n",
    "model_setup = LithiumIonBattery()\n",
    "\n",
    "sim = Simulation(model_setup, cell_parameters, cycling_protocol);\n",
    "\n",
    "output = solve(sim);\n",
    "\n",
    "plot_dashboard(output)"
   ]
  }
 ],
 "metadata": {
  "kernelspec": {
   "display_name": "Julia 1.12.0",
   "language": "julia",
   "name": "julia-1.12"
  },
  "language_info": {
   "file_extension": ".jl",
   "mimetype": "application/julia",
   "name": "julia",
   "version": "1.12.0"
  }
 },
 "nbformat": 4,
 "nbformat_minor": 5
}
