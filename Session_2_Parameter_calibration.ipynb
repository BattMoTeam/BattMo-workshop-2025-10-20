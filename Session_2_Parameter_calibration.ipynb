{
 "cells": [
  {
   "cell_type": "markdown",
   "id": "c0f226f2",
   "metadata": {},
   "source": [
    "# Session 2 - Parameter Calibration\n",
    "\n",
    "---\n",
    "* Time: run all cells first time: ~ 4.5 minutes\n",
    "* Time: run all cells second time: ~ 40 seconds\n",
    "* Time: run and read step by step: ~ 20 minutes\n",
    "\n",
    "---\n",
    "\n",
    "Usually, the parameters we obtain from the characterization of the cell result is simulations that are off from cycling data. Therefore, before using a model, it is good practice to carry out a \"Calibration\" step, where we fit a small subset of the model parameters to experimental voltage profiles of the same cell.\n",
    "\n",
    "In this session, we will calibrate the Xu 2025 parameter set to experimental voltage curves from the same cell. "
   ]
  },
  {
   "cell_type": "markdown",
   "id": "224b4d0f",
   "metadata": {},
   "source": [
    "Let's import BattMo and some other packages we will use."
   ]
  },
  {
   "cell_type": "code",
   "execution_count": null,
   "id": "660020ab",
   "metadata": {},
   "outputs": [],
   "source": [
    "using BattMo, GLMakie, CSV, DataFrames, Jutul\n",
    "\n",
    "GLMakie.activate!(inline=true)"
   ]
  },
  {
   "cell_type": "markdown",
   "id": "35be69cd",
   "metadata": {},
   "source": [
    "### Load the experimental data\n",
    "\n",
    "We will calibrate our model in two steps: \n",
    "1. We will adjust the stoichiometric coefficients and maximum concentrations of the active materials, to fit a cell voltage curve at C/2.\n",
    "2. We will adjust the reaction rate constants and diffusion coefficients in the active materials, to fit a cell voltage curve at 2C.\n",
    "\n",
    "We first load the datasets."
   ]
  },
  {
   "cell_type": "code",
   "execution_count": null,
   "id": "31144a27",
   "metadata": {},
   "outputs": [],
   "source": [
    "expdata_05C = CSV.read(\"data/Xu_2015_voltageCurve_05C.csv\", DataFrame)\n",
    "expdata_1C = CSV.read(\"data/Xu_2015_voltageCurve_1C.csv\", DataFrame)\n",
    "expdata_2C = CSV.read(\"data/Xu_2015_voltageCurve_2C.csv\", DataFrame)"
   ]
  },
  {
   "cell_type": "markdown",
   "id": "1193f08d",
   "metadata": {},
   "source": [
    "### Run a simulation of the original parameters\n",
    "Now we run a baseline simulation using the parameters obtained only from characterization of the cell. We load the parameter set, ensure an appropiate lower voltage limit and DRate, and run the simulation as we saw in previous tutorials."
   ]
  },
  {
   "cell_type": "code",
   "execution_count": null,
   "id": "075b06d2",
   "metadata": {},
   "outputs": [],
   "source": [
    "cell_parameters_original = load_cell_parameters(; from_file_path = \"default_sets/cell_parameters/Xu2015.json\")\n",
    "cycling_protocol = load_cycling_protocol(; from_default_set = \"CCDischarge\")\n",
    "\n",
    "cycling_protocol[\"LowerVoltageLimit\"] = 2.25\n",
    "cycling_protocol[\"DRate\"] = 0.5\n",
    "\n",
    "model_setup = LithiumIonBattery()\n",
    "\n",
    "sim_original = Simulation(model_setup, cell_parameters_original, cycling_protocol)\n",
    "output_original = solve(sim_original);\n"
   ]
  },
  {
   "cell_type": "markdown",
   "id": "c5573885",
   "metadata": {},
   "source": [
    "Once the simulation completes, we can inspect the resutling voltage curves, and compare them with the experimental voltage curves."
   ]
  },
  {
   "cell_type": "code",
   "execution_count": null,
   "id": "2c475e76",
   "metadata": {},
   "outputs": [],
   "source": [
    "#Simulation data\n",
    "time_series = output_original.time_series\n",
    "simdata_time_original = time_series[\"Time\"]\n",
    "simdata_voltage_original = time_series[\"Voltage\"]\n",
    "\n",
    "#Plot\n",
    "fig = Figure()\n",
    "ax = Axis(fig[1, 1], title = \"CRate = 0.5\", xlabel = \"Time / s\", ylabel = \"Voltage / V\")\n",
    "lines!(ax, simdata_time_original, simdata_voltage_original, label = \"Simulation 0.5C: original parameters\")\n",
    "scatter!(ax, expdata_05C[:,1], expdata_05C[:,2], label = \"Experimental data 0.5C\", markersize = 20)\n",
    "axislegend(position = :lb)\n",
    "fig"
   ]
  },
  {
   "cell_type": "markdown",
   "id": "91cbf0b5",
   "metadata": {},
   "source": [
    "We can see that the simulation with original parameters does not match well the experiment. Lets therefore fit some parameters to the experimental data."
   ]
  },
  {
   "cell_type": "markdown",
   "id": "274eebd7",
   "metadata": {},
   "source": [
    "# Low-rate Calibration\n",
    "### Set up the low-rate calibration\n",
    "\n",
    "We have developed a calibration function that takes as inputs the voltage and time arrays of the data, along with the initial simulation setup."
   ]
  },
  {
   "cell_type": "code",
   "execution_count": null,
   "id": "033a539c",
   "metadata": {},
   "outputs": [],
   "source": [
    "calibration_low_rate = VoltageCalibration(expdata_05C[:,1], expdata_05C[:,2], sim_original); #  VoltageCalibration(experimental_time, experimental_voltage, simulation)"
   ]
  },
  {
   "cell_type": "markdown",
   "id": "26666e51",
   "metadata": {},
   "source": [
    "This calibration object is a handy way to tailor the main settings needed to run a calibration: \n",
    "* Which model parameters are frozen\n",
    "* Which model parameters are being fitted\n",
    "* What are the minimum and maximum bounds of the parameters to be fitted\n",
    "* The results of the calibration, i.e. the optimal parameters.\n",
    "\n",
    "**All paremters are frozen by default**, so we now need to free those we are interested in, and apply some bounds to each to ensure they remain within expected ranges. Below, we free the stoichiometric coefficients and maximum concentrations."
   ]
  },
  {
   "cell_type": "code",
   "execution_count": null,
   "id": "ab2e5a00",
   "metadata": {},
   "outputs": [],
   "source": [
    "free_calibration_parameter!(calibration_low_rate,\n",
    "    [\"NegativeElectrode\",\"ActiveMaterial\", \"StoichiometricCoefficientAtSOC100\"];\n",
    "    lower_bound = 0.0, upper_bound = 1.0)\n",
    "free_calibration_parameter!(calibration_low_rate,\n",
    "    [\"PositiveElectrode\",\"ActiveMaterial\", \"StoichiometricCoefficientAtSOC100\"];\n",
    "    lower_bound = 0.0, upper_bound = 1.0)\n",
    "\n",
    "# \"StoichiometricCoefficientAtSOC0\" at both electrodes\n",
    "free_calibration_parameter!(calibration_low_rate,\n",
    "    [\"NegativeElectrode\",\"ActiveMaterial\", \"StoichiometricCoefficientAtSOC0\"];\n",
    "    lower_bound = 0.0, upper_bound = 1.0)\n",
    "free_calibration_parameter!(calibration_low_rate,\n",
    "    [\"PositiveElectrode\",\"ActiveMaterial\", \"StoichiometricCoefficientAtSOC0\"];\n",
    "    lower_bound = 0.0, upper_bound = 1.0)\n",
    "\n",
    "#  \"MaximumConcentration\" of both electrodes\n",
    "free_calibration_parameter!(calibration_low_rate,\n",
    "    [\"NegativeElectrode\",\"ActiveMaterial\", \"MaximumConcentration\"];\n",
    "    lower_bound = 10000.0, upper_bound = 1e5)\n",
    "free_calibration_parameter!(calibration_low_rate,\n",
    "    [\"PositiveElectrode\",\"ActiveMaterial\", \"MaximumConcentration\"];\n",
    "    lower_bound = 10000.0, upper_bound = 1e5);"
   ]
  },
  {
   "cell_type": "markdown",
   "id": "eadec2dd",
   "metadata": {},
   "source": [
    "We have a handy function to check parameter, values and bounds:"
   ]
  },
  {
   "cell_type": "code",
   "execution_count": null,
   "id": "96249820",
   "metadata": {},
   "outputs": [],
   "source": [
    "print_calibration_overview(calibration_low_rate)"
   ]
  },
  {
   "cell_type": "markdown",
   "id": "6de52a95",
   "metadata": {},
   "source": [
    "### Solve the low-rate calibration"
   ]
  },
  {
   "cell_type": "markdown",
   "id": "12f00443",
   "metadata": {},
   "source": [
    "Solving the calibration problem is essentially an optimization problem. We adjust free parameters so to minimize the difference between a target (the data) and the prediction (the simulation result): is performed by solving the optimization problem. This makes use of the adjoint method implemented in Jutul.jl and the LBFGS algorithm.\n",
    "\n",
    "For calibration, we minimize the squared difference between the predicted and observed voltage, summed over all time steps:  \n",
    "                  $\\sum_i (V_i - V_{exp,i})^2$  \n",
    "where $V_i$ is the voltage from the model and $V_{exp,i}$ is the voltage from the experimental data at step $i$. This minimization uses in the background cool algorithms implemented in Jutul, the simulation engine of BattMo. "
   ]
  },
  {
   "cell_type": "code",
   "execution_count": null,
   "id": "864f1f03",
   "metadata": {},
   "outputs": [],
   "source": [
    "solve(calibration_low_rate);\n",
    "cell_parameters_calibrated_low_rate = calibration_low_rate.calibrated_cell_parameters;"
   ]
  },
  {
   "cell_type": "markdown",
   "id": "0ea5b28b",
   "metadata": {},
   "source": [
    "We can use the same printing function to explore the results of the simulation"
   ]
  },
  {
   "cell_type": "code",
   "execution_count": null,
   "id": "1d3676f3",
   "metadata": {},
   "outputs": [],
   "source": [
    "print_calibration_overview(calibration_low_rate)"
   ]
  },
  {
   "cell_type": "markdown",
   "id": "6748b12e",
   "metadata": {},
   "source": [
    "### Compare the results of the calibration against the experimental data"
   ]
  },
  {
   "cell_type": "markdown",
   "id": "0864ccd2",
   "metadata": {},
   "source": [
    "We can now use the optimized parameters to run a new simulation, and compare the results to the experimental data for the 0.5C discharge curve."
   ]
  },
  {
   "cell_type": "code",
   "execution_count": null,
   "id": "b720fc07",
   "metadata": {},
   "outputs": [],
   "source": [
    "#Setup and run simulation\n",
    "sim_calibrated_low_rate = Simulation(model_setup, cell_parameters_calibrated_low_rate, cycling_protocol)\n",
    "output_calibrated_low_rate = solve(sim_calibrated_low_rate);\n",
    "\n",
    "#Get simulation data\n",
    "time_series = output_calibrated_low_rate.time_series\n",
    "simdata_time_calibrated_low_rate = time_series[\"Time\"]\n",
    "simdata_voltage_calibrated_low_rate = time_series[\"Voltage\"]\n",
    "\n",
    "#Plot\n",
    "fig = Figure()\n",
    "ax = Axis(fig[1, 1], title = \"CRate = 0.5\")\n",
    "lines!(ax, simdata_time_original, simdata_voltage_original, label = \"Simulation 0.5C: Original parameters\")\n",
    "lines!(ax, simdata_time_calibrated_low_rate, simdata_voltage_calibrated_low_rate, label = \"Simulation 0.5C: after low rate calibration\")\n",
    "scatter!(ax, expdata_05C[:,1], expdata_05C[:,2], label = \"Experimental data 0.5C\", markersize = 20)\n",
    "axislegend(position = :lb)\n",
    "fig"
   ]
  },
  {
   "cell_type": "markdown",
   "id": "5b9a4496",
   "metadata": {},
   "source": [
    "# High-rate Calibration\n",
    "### Set up the high-rate calibration"
   ]
  },
  {
   "cell_type": "markdown",
   "id": "443bc5f4",
   "metadata": {},
   "source": [
    "The second calibration is performed against the 2.0C discharge curve. In the same manner as for the first discharge curve, we set up a set of parameters to calibrate against experimental data. The parameters are:\n",
    "\n",
    " - The reaction rate constant of both electrodes\n",
    " - The diffusion coefficient of both electrodes\n",
    "\n",
    "The calibration this time starts from the parameters calibrated at 0.5C, so we use the `cell_parameters_calibrated_05C` from the first `solve` to run a new simulation at 2C:"
   ]
  },
  {
   "cell_type": "code",
   "execution_count": null,
   "id": "fc090e79",
   "metadata": {},
   "outputs": [],
   "source": [
    "#Update cycling protocol to run at 2C\n",
    "cycling_protocol2 = deepcopy(cycling_protocol)\n",
    "cycling_protocol2[\"DRate\"] = 2.0\n",
    "\n",
    "#Solve simulation with parameters calibrated at 05C but running a 2C discharge protocol\n",
    "sim_calibrated_low_rate = Simulation(model_setup, cell_parameters_calibrated_low_rate, cycling_protocol2)\n",
    "output_calibrated_low_rate = solve(sim_calibrated_low_rate);\n",
    "\n",
    "#Get simulation data of parameters calibrated at 0.5C but run at 2C\n",
    "time_series = output_calibrated_low_rate.time_series\n",
    "simdata_time_calibrated_low_rate = time_series[\"Time\"]\n",
    "simdata_voltage_calibrated_low_rate = time_series[\"Voltage\"]"
   ]
  },
  {
   "cell_type": "markdown",
   "id": "7f0d0834",
   "metadata": {},
   "source": [
    "We use the simulation at 2C ran with the parameter set calibrated at 0.5C as a starting point for our new high rate calibration task. \n",
    "\n",
    "This time we free the reaction rate constants and diffusion coefficients, and set some boundaries for each."
   ]
  },
  {
   "cell_type": "code",
   "execution_count": null,
   "id": "5c999230",
   "metadata": {},
   "outputs": [],
   "source": [
    "calibration_high_rate = VoltageCalibration(expdata_2C[:,1], expdata_2C[:,2], sim_calibrated_low_rate)\n",
    "\n",
    "free_calibration_parameter!(calibration_high_rate,\n",
    "    [\"NegativeElectrode\",\"ActiveMaterial\", \"ReactionRateConstant\"];\n",
    "    lower_bound = 1e-16, upper_bound = 1e-10)\n",
    "free_calibration_parameter!(calibration_high_rate,\n",
    "    [\"PositiveElectrode\",\"ActiveMaterial\", \"ReactionRateConstant\"];\n",
    "    lower_bound = 1e-16, upper_bound = 1e-10)\n",
    "\n",
    "free_calibration_parameter!(calibration_high_rate,\n",
    "    [\"NegativeElectrode\",\"ActiveMaterial\", \"DiffusionCoefficient\"];\n",
    "    lower_bound = 1e-16, upper_bound = 1e-12)\n",
    "free_calibration_parameter!(calibration_high_rate,\n",
    "    [\"PositiveElectrode\",\"ActiveMaterial\", \"DiffusionCoefficient\"];\n",
    "    lower_bound = 1e-16, upper_bound = 1e-12)\n",
    "\n",
    "print_calibration_overview(calibration_high_rate)"
   ]
  },
  {
   "cell_type": "markdown",
   "id": "06bcbe8a",
   "metadata": {},
   "source": [
    "### Solve the high-rate calibration problem"
   ]
  },
  {
   "cell_type": "code",
   "execution_count": null,
   "id": "218c9e0a",
   "metadata": {},
   "outputs": [],
   "source": [
    "cell_parameters_calibrated_high_rate, = solve(calibration_high_rate);\n",
    "print_calibration_overview(calibration_high_rate)"
   ]
  },
  {
   "cell_type": "markdown",
   "id": "c280fbc0",
   "metadata": {},
   "source": [
    "### Compare the results of the high-rate calibration against the experimental data"
   ]
  },
  {
   "cell_type": "markdown",
   "id": "90fb5db1",
   "metadata": {},
   "source": [
    "We compare three simulations against the experimental data:\n",
    " 1. The initial simulation with the original parameters.\n",
    " 2. The simulation with the parameters calibrated against the 0.5C discharge curve.\n",
    " 3. The simulation with the parameters calibrated against the 0.5C and 2.0C discharge curves."
   ]
  },
  {
   "cell_type": "code",
   "execution_count": null,
   "id": "be22e2a3",
   "metadata": {},
   "outputs": [],
   "source": [
    "# Simulation at 2C  using original parameters\n",
    "sim_original_params = Simulation(model_setup, cell_parameters_original, cycling_protocol2)\n",
    "output_original_params = solve(sim_original_params, accept_invalid = false);\n",
    " \n",
    "time_series = output_original_params.time_series\n",
    "simdata_time_original_params = time_series[\"Time\"]\n",
    "simdata_voltage_original_params = time_series[\"Voltage\"]\n",
    "\n",
    "\n",
    "# Simulation at 2C using calibrated parameters from 2C calibration\n",
    "sim_calibrated_high_rate = Simulation(model_setup, cell_parameters_calibrated_high_rate, cycling_protocol2)\n",
    "output_calibrated_high_rate = solve(sim_calibrated_high_rate, accept_invalid = false);\n",
    " \n",
    "time_series = output_calibrated_high_rate.time_series\n",
    "simdata_time_calibrated_high_rate = time_series[\"Time\"]\n",
    "simdata_voltage_calibrated_high_rate = time_series[\"Voltage\"]\n",
    "\n",
    "# Plot 2C calibrated model vs 2C experimental data\n",
    "fig = Figure()\n",
    "ax = Axis(fig[1, 1], title = \"CRate = 2.0\")\n",
    "lines!(ax, simdata_time_original_params, simdata_voltage_original_params, label = \"Simulation 2C: Original parameters\")\n",
    "lines!(ax, simdata_time_calibrated_low_rate, simdata_voltage_calibrated_low_rate, label = \"Simulation 2C: after low-rate calibration\")\n",
    "lines!(ax, simdata_time_calibrated_high_rate, simdata_voltage_calibrated_high_rate, label = \"Simulation 2C: after high-rate calibration\")\n",
    "scatter!(ax, expdata_2C[:,1], expdata_2C[:,2], label = \"Experimental data 2C\", markersize = 20)\n",
    "axislegend(position = :lb)\n",
    "fig"
   ]
  },
  {
   "cell_type": "markdown",
   "id": "2a0ec55e",
   "metadata": {},
   "source": [
    "# Calibrated model at all CRates"
   ]
  },
  {
   "cell_type": "markdown",
   "id": "529e9880",
   "metadata": {},
   "source": [
    "We can now compare the results of the model after both low-rate and high-rate calibration against the experimental data for the 0.5C, 1.0C, and 2.0C discharge curves. \n",
    "\n",
    "> **Note that we did not calibrate the model for the 1.0C discharge curve, but we still obtain a good fit!!**"
   ]
  },
  {
   "cell_type": "code",
   "execution_count": null,
   "id": "5d72b654",
   "metadata": {},
   "outputs": [],
   "source": [
    "CRates = [0.5, 1.0, 2.0]\n",
    "colors = Dict(0.5 => :firebrick1, 1.0 => :teal, 2.0 => :dodgerblue4)\n",
    "\n",
    "fig = Figure()\n",
    "ax = Axis(fig[1, 1], title = \"Simulations vs. Experiments: after calibration\")\n",
    "scatter!(ax, expdata_05C[:,1], expdata_05C[:,2], label = \"Experimental data 0.5C\", markersize = 15, color = colors[0.5])\n",
    "scatter!(ax, expdata_1C[:,1], expdata_1C[:,2], label = \"Experimental data 1C\", markersize = 15, color =colors[1.0])\n",
    "scatter!(ax, expdata_2C[:,1], expdata_2C[:,2], label = \"Experimental data 2C\", markersize = 15, color =colors[2.0])\n",
    "\n",
    "for CRate in CRates\n",
    "    #Setup and run simulation\n",
    "    cycling_protocol[\"DRate\"] = CRate\n",
    "    sim = Simulation(model_setup, cell_parameters_calibrated_high_rate, cycling_protocol)\n",
    "    output = solve(sim, info_level = -1)\n",
    "\n",
    "    #Get time series quantities from simulation result\n",
    "    t = output.time_series[\"Time\"]\n",
    "    V = output.time_series[\"Voltage\"]\n",
    "\n",
    "    #Plot simulation voltage response\n",
    "    lines!(ax, t, V, label = \"Simulation $CRate: after high-rate calibration\", color = colors[CRate])\n",
    "end  \n",
    "\n",
    "axislegend(position = :lb)\n",
    "fig"
   ]
  }
 ],
 "metadata": {
  "kernelspec": {
   "display_name": "Julia 1.11.7",
   "language": "julia",
   "name": "julia-1.11"
  },
  "language_info": {
   "file_extension": ".jl",
   "mimetype": "application/julia",
   "name": "julia",
   "version": "1.11.7"
  }
 },
 "nbformat": 4,
 "nbformat_minor": 5
}
